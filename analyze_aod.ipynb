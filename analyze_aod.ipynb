{
 "cells": [
  {
   "cell_type": "markdown",
   "id": "d0a75000",
   "metadata": {
    "vscode": {
     "languageId": "plaintext"
    }
   },
   "source": [
    "# AOD Analysis\n",
    "Analyzes the data from an AOD file"
   ]
  },
  {
   "cell_type": "code",
   "execution_count": 1,
   "id": "4e689377",
   "metadata": {},
   "outputs": [
    {
     "name": "stderr",
     "output_type": "stream",
     "text": [
      "/opt/conda/envs/dev/lib/python3.11/site-packages/tqdm/auto.py:21: TqdmWarning: IProgress not found. Please update jupyter and ipywidgets. See https://ipywidgets.readthedocs.io/en/stable/user_install.html\n",
      "  from .autonotebook import tqdm as notebook_tqdm\n"
     ]
    }
   ],
   "source": [
    "from boosted_lorenzetti.dataset import aod\n",
    "from boosted_lorenzetti.utils import set_logger\n",
    "import boosted_lorenzetti.plotting.pyplot as lplt\n",
    "import mplhep\n",
    "import matplotlib.pyplot as plt\n",
    "import matplotlib as mpl\n",
    "from pathlib import Path\n",
    "import ROOT\n",
    "import logging\n",
    "import numpy as np"
   ]
  },
  {
   "cell_type": "code",
   "execution_count": 2,
   "id": "f8660395",
   "metadata": {},
   "outputs": [],
   "source": [
    "ROOT.EnableImplicitMT()\n",
    "plt.style.use(mplhep.style.ATLAS)\n",
    "set_logger()\n",
    "mpl.rc('text', usetex = True)"
   ]
  },
  {
   "cell_type": "code",
   "execution_count": 3,
   "id": "ea8f5d92",
   "metadata": {},
   "outputs": [],
   "source": [
    "tree_name = 'CollectionTree'\n",
    "data_dir = Path.home() / 'data'\n",
    "filepath = data_dir / \"lorenzetti/v2.2.0/user.joao.pinto.mc25_13TeV.250520.Pythia8EvtGen_Zee.100k.avgmu250_sigmamu50/AOD/0ae5eb0e8533.result.AOD.root\""
   ]
  },
  {
   "cell_type": "markdown",
   "id": "c9002c36",
   "metadata": {},
   "source": [
    "# Data Types"
   ]
  },
  {
   "cell_type": "code",
   "execution_count": 4,
   "id": "a945abe9",
   "metadata": {},
   "outputs": [
    {
     "name": "stdout",
     "output_type": "stream",
     "text": [
      "2025-09-05 11:47:49 | INFO | root | 3363417430 | 4 | Event\n",
      "2025-09-05 11:47:49 | INFO | root | 3363417430 | 5 | <class cppyy.gbl.TTree at 0x5b6be18e5470>\n",
      "2025-09-05 11:47:49 | INFO | root | 3363417430 | 6 | <class cppyy.gbl.std.vector<xAOD::CaloCell_t> at 0x5b6beb917650>\n",
      "2025-09-05 11:47:49 | INFO | root | 3363417430 | 7 | <class cppyy.gbl.xAOD.CaloCell_t at 0x5b6bec2bfd00>\n",
      "2025-09-05 11:47:49 | INFO | root | 3363417430 | 8 | <class cppyy.gbl.std.vector<xAOD::CaloCluster_t> at 0x5b6bec31b8d0>\n",
      "2025-09-05 11:47:49 | INFO | root | 3363417430 | 9 | <class cppyy.gbl.xAOD.CaloCluster_t at 0x5b6bec3acc20>\n",
      "2025-09-05 11:47:49 | INFO | root | 3363417430 | 10 | <class cppyy.gbl.std.vector<xAOD::CaloDetDescriptor_t> at 0x5b6bec3bb250>\n",
      "2025-09-05 11:47:49 | INFO | root | 3363417430 | 11 | <class cppyy.gbl.xAOD.CaloDetDescriptor_t at 0x5b6bec52e800>\n",
      "2025-09-05 11:47:49 | INFO | root | 3363417430 | 12 | <class cppyy.gbl.std.vector<xAOD::CaloRings_t> at 0x5b6bec52d990>\n",
      "2025-09-05 11:47:49 | INFO | root | 3363417430 | 13 | <class cppyy.gbl.xAOD.CaloRings_t at 0x5b6bec623ff0>\n",
      "2025-09-05 11:47:49 | INFO | root | 3363417430 | 14 | <class cppyy.gbl.std.vector<xAOD::Electron_t> at 0x5b6bec56a200>\n",
      "2025-09-05 11:47:49 | INFO | root | 3363417430 | 15 | <class cppyy.gbl.xAOD.Electron_t at 0x5b6bec6b1720>\n",
      "2025-09-05 11:47:49 | INFO | root | 3363417430 | 16 | <class cppyy.gbl.std.vector<xAOD::EventInfo_t> at 0x5b6bec6a8b60>\n",
      "2025-09-05 11:47:49 | INFO | root | 3363417430 | 17 | <class cppyy.gbl.xAOD.EventInfo_t at 0x5b6bec6c1800>\n",
      "2025-09-05 11:47:49 | INFO | root | 3363417430 | 18 | 1\n"
     ]
    },
    {
     "name": "stderr",
     "output_type": "stream",
     "text": [
      "Warning in <TBranchElement::InitializeOffsets>: No streamer element for branch: CaloDetDescriptorContainer_Cells subbranch: CaloDetDescriptorContainer_Cells.sigma\n",
      "Warning in <TBranchElement::InitializeOffsets>: No streamer element for branch: EventInfoContainer_Events subbranch: EventInfoContainer_Events.totmu\n"
     ]
    }
   ],
   "source": [
    "with ROOT.TFile(str(filepath)) as infile:\n",
    "    tree = infile[tree_name]\n",
    "    for event in tree:\n",
    "        logging.info('Event')\n",
    "        logging.info(type(event))\n",
    "        logging.info(type(event.CaloCellContainer_Cells))\n",
    "        logging.info(type(event.CaloCellContainer_Cells[0]))\n",
    "        logging.info(type(event.CaloClusterContainer_Clusters))\n",
    "        logging.info(type(event.CaloClusterContainer_Clusters[0]))\n",
    "        logging.info(type(event.CaloDetDescriptorContainer_Cells))\n",
    "        logging.info(type(event.CaloDetDescriptorContainer_Cells[0]))\n",
    "        logging.info(type(event.CaloRingsContainer_Rings))\n",
    "        logging.info(type(event.CaloRingsContainer_Rings[0]))\n",
    "        logging.info(type(event.ElectronContainer_Electrons))\n",
    "        logging.info(type(event.ElectronContainer_Electrons[0]))\n",
    "        logging.info(type(event.EventInfoContainer_Events))\n",
    "        logging.info(type(event.EventInfoContainer_Events[0]))\n",
    "        logging.info(len(event.EventInfoContainer_Events))\n",
    "        break"
   ]
  },
  {
   "cell_type": "code",
   "execution_count": 5,
   "id": "b043afc3",
   "metadata": {},
   "outputs": [
    {
     "data": {
      "text/plain": [
       "Dataframe from TChain CollectionTree in file /root/data/lorenzetti/v2.2.0/user.joao.pinto.mc25_13TeV.250520.Pythia8EvtGen_Zee.100k.avgmu250_sigmamu50/AOD/0ae5eb0e8533.result.AOD.root\n",
       "\n",
       "Property                Value\n",
       "--------                -----\n",
       "Columns in total          101\n",
       "Columns from defines        0\n",
       "Event loops run             0\n",
       "Processing slots           12\n",
       "\n",
       "Column                                          Type                                            Origin\n",
       "------                                          ----                                            ------\n",
       "CaloCellContainer_Cells                         ROOT::VecOps::RVec<xAOD::CaloCell_t>            Dataset\n",
       "CaloCellContainer_Cells.descriptor_link         ROOT::VecOps::RVec<ULong_t>                     Dataset\n",
       "CaloCellContainer_Cells.deta                    ROOT::VecOps::RVec<Float_t>                     Dataset\n",
       "CaloCellContainer_Cells.dphi                    ROOT::VecOps::RVec<Float_t>                     Dataset\n",
       "CaloCellContainer_Cells.e                       ROOT::VecOps::RVec<Float_t>                     Dataset\n",
       "CaloCellContainer_Cells.et                      ROOT::VecOps::RVec<Float_t>                     Dataset\n",
       "CaloCellContainer_Cells.eta                     ROOT::VecOps::RVec<Float_t>                     Dataset\n",
       "CaloCellContainer_Cells.phi                     ROOT::VecOps::RVec<Float_t>                     Dataset\n",
       "CaloCellContainer_Cells.tau                     ROOT::VecOps::RVec<Float_t>                     Dataset\n",
       "CaloClusterContainer_Clusters                   ROOT::VecOps::RVec<xAOD::CaloCluster_t>         Dataset\n",
       "CaloClusterContainer_Clusters.cell_links        ROOT::VecOps::RVec<vector<unsigned long>>       Dataset\n",
       "CaloClusterContainer_Clusters.deta              ROOT::VecOps::RVec<Float_t>                     Dataset\n",
       "CaloClusterContainer_Clusters.dphi              ROOT::VecOps::RVec<Float_t>                     Dataset\n",
       "CaloClusterContainer_Clusters.e                 ROOT::VecOps::RVec<Float_t>                     Dataset\n",
       "CaloClusterContainer_Clusters.e0                ROOT::VecOps::RVec<Float_t>                     Dataset\n",
       "CaloClusterContainer_Clusters.e1                ROOT::VecOps::RVec<Float_t>                     Dataset\n",
       "CaloClusterContainer_Clusters.e2                ROOT::VecOps::RVec<Float_t>                     Dataset\n",
       "CaloClusterContainer_Clusters.e233              ROOT::VecOps::RVec<Float_t>                     Dataset\n",
       "CaloClusterContainer_Clusters.e237              ROOT::VecOps::RVec<Float_t>                     Dataset\n",
       "CaloClusterContainer_Clusters.e277              ROOT::VecOps::RVec<Float_t>                     Dataset\n",
       "CaloClusterContainer_Clusters.e2tsts1           ROOT::VecOps::RVec<Float_t>                     Dataset\n",
       "CaloClusterContainer_Clusters.e3                ROOT::VecOps::RVec<Float_t>                     Dataset\n",
       "CaloClusterContainer_Clusters.ehad1             ROOT::VecOps::RVec<Float_t>                     Dataset\n",
       "CaloClusterContainer_Clusters.ehad2             ROOT::VecOps::RVec<Float_t>                     Dataset\n",
       "CaloClusterContainer_Clusters.ehad3             ROOT::VecOps::RVec<Float_t>                     Dataset\n",
       "CaloClusterContainer_Clusters.emaxs1            ROOT::VecOps::RVec<Float_t>                     Dataset\n",
       "CaloClusterContainer_Clusters.emaxs2            ROOT::VecOps::RVec<Float_t>                     Dataset\n",
       "CaloClusterContainer_Clusters.eratio            ROOT::VecOps::RVec<Float_t>                     Dataset\n",
       "CaloClusterContainer_Clusters.et                ROOT::VecOps::RVec<Float_t>                     Dataset\n",
       "CaloClusterContainer_Clusters.eta               ROOT::VecOps::RVec<Float_t>                     Dataset\n",
       "CaloClusterContainer_Clusters.etot              ROOT::VecOps::RVec<Float_t>                     Dataset\n",
       "CaloClusterContainer_Clusters.f0                ROOT::VecOps::RVec<Float_t>                     Dataset\n",
       "CaloClusterContainer_Clusters.f1                ROOT::VecOps::RVec<Float_t>                     Dataset\n",
       "CaloClusterContainer_Clusters.f2                ROOT::VecOps::RVec<Float_t>                     Dataset\n",
       "CaloClusterContainer_Clusters.f3                ROOT::VecOps::RVec<Float_t>                     Dataset\n",
       "CaloClusterContainer_Clusters.fracMax           ROOT::VecOps::RVec<Float_t>                     Dataset\n",
       "CaloClusterContainer_Clusters.lambdaCenter      ROOT::VecOps::RVec<Float_t>                     Dataset\n",
       "CaloClusterContainer_Clusters.lateralMom        ROOT::VecOps::RVec<Float_t>                     Dataset\n",
       "CaloClusterContainer_Clusters.longitudinalMom   ROOT::VecOps::RVec<Float_t>                     Dataset\n",
       "CaloClusterContainer_Clusters.phi               ROOT::VecOps::RVec<Float_t>                     Dataset\n",
       "CaloClusterContainer_Clusters.reta              ROOT::VecOps::RVec<Float_t>                     Dataset\n",
       "CaloClusterContainer_Clusters.rhad              ROOT::VecOps::RVec<Float_t>                     Dataset\n",
       "CaloClusterContainer_Clusters.rhad1             ROOT::VecOps::RVec<Float_t>                     Dataset\n",
       "CaloClusterContainer_Clusters.rphi              ROOT::VecOps::RVec<Float_t>                     Dataset\n",
       "CaloClusterContainer_Clusters.secondLambda      ROOT::VecOps::RVec<Float_t>                     Dataset\n",
       "CaloClusterContainer_Clusters.secondR           ROOT::VecOps::RVec<Float_t>                     Dataset\n",
       "CaloClusterContainer_Clusters.seed_link         ROOT::VecOps::RVec<Int_t>                       Dataset\n",
       "CaloClusterContainer_Clusters.weta2             ROOT::VecOps::RVec<Float_t>                     Dataset\n",
       "CaloDetDescriptorContainer_Cells                ROOT::VecOps::RVec<xAOD::CaloDetDescriptor_t>   Dataset\n",
       "CaloDetDescriptorContainer_Cells.bc_duration    ROOT::VecOps::RVec<Float_t>                     Dataset\n",
       "CaloDetDescriptorContainer_Cells.bcid_end       ROOT::VecOps::RVec<Int_t>                       Dataset\n",
       "CaloDetDescriptorContainer_Cells.bcid_start     ROOT::VecOps::RVec<Int_t>                       Dataset\n",
       "CaloDetDescriptorContainer_Cells.deta           ROOT::VecOps::RVec<Float_t>                     Dataset\n",
       "CaloDetDescriptorContainer_Cells.detector       ROOT::VecOps::RVec<Int_t>                       Dataset\n",
       "CaloDetDescriptorContainer_Cells.dphi           ROOT::VecOps::RVec<Float_t>                     Dataset\n",
       "CaloDetDescriptorContainer_Cells.e              ROOT::VecOps::RVec<Float_t>                     Dataset\n",
       "CaloDetDescriptorContainer_Cells.edep           ROOT::VecOps::RVec<Float_t>                     Dataset\n",
       "CaloDetDescriptorContainer_Cells.edep_per_bunch ROOT::VecOps::RVec<vector<float>>               Dataset\n",
       "CaloDetDescriptorContainer_Cells.eta            ROOT::VecOps::RVec<Float_t>                     Dataset\n",
       "CaloDetDescriptorContainer_Cells.hash           ROOT::VecOps::RVec<ULong_t>                     Dataset\n",
       "CaloDetDescriptorContainer_Cells.phi            ROOT::VecOps::RVec<Float_t>                     Dataset\n",
       "CaloDetDescriptorContainer_Cells.pulse          ROOT::VecOps::RVec<vector<float>>               Dataset\n",
       "CaloDetDescriptorContainer_Cells.sampling       ROOT::VecOps::RVec<Int_t>                       Dataset\n",
       "CaloDetDescriptorContainer_Cells.sigma          ROOT::VecOps::RVec<Float_t>                     Dataset\n",
       "CaloDetDescriptorContainer_Cells.tau            ROOT::VecOps::RVec<Float_t>                     Dataset\n",
       "CaloDetDescriptorContainer_Cells.tof            ROOT::VecOps::RVec<vector<float>>               Dataset\n",
       "CaloDetDescriptorContainer_Cells.z              ROOT::VecOps::RVec<Float_t>                     Dataset\n",
       "CaloRingsContainer_Rings                        ROOT::VecOps::RVec<xAOD::CaloRings_t>           Dataset\n",
       "CaloRingsContainer_Rings.cluster_link           ROOT::VecOps::RVec<Int_t>                       Dataset\n",
       "CaloRingsContainer_Rings.rings                  ROOT::VecOps::RVec<vector<float>>               Dataset\n",
       "ElectronContainer_Electrons                     ROOT::VecOps::RVec<xAOD::Electron_t>            Dataset\n",
       "ElectronContainer_Electrons.cluster_link        ROOT::VecOps::RVec<Int_t>                       Dataset\n",
       "ElectronContainer_Electrons.e                   ROOT::VecOps::RVec<Float_t>                     Dataset\n",
       "ElectronContainer_Electrons.et                  ROOT::VecOps::RVec<Float_t>                     Dataset\n",
       "ElectronContainer_Electrons.eta                 ROOT::VecOps::RVec<Float_t>                     Dataset\n",
       "ElectronContainer_Electrons.isEM                ROOT::VecOps::RVec<vector<bool>>                Dataset\n",
       "ElectronContainer_Electrons.phi                 ROOT::VecOps::RVec<Float_t>                     Dataset\n",
       "EventInfoContainer_Events                       ROOT::VecOps::RVec<xAOD::EventInfo_t>           Dataset\n",
       "EventInfoContainer_Events.avgmu                 ROOT::VecOps::RVec<Float_t>                     Dataset\n",
       "EventInfoContainer_Events.eventNumber           ROOT::VecOps::RVec<Float_t>                     Dataset\n",
       "EventInfoContainer_Events.runNumber             ROOT::VecOps::RVec<Float_t>                     Dataset\n",
       "EventInfoContainer_Events.totmu                 ROOT::VecOps::RVec<Float_t>                     Dataset\n",
       "SeedContainer_Seeds                             ROOT::VecOps::RVec<xAOD::Seed_t>                Dataset\n",
       "SeedContainer_Seeds.e                           ROOT::VecOps::RVec<Float_t>                     Dataset\n",
       "SeedContainer_Seeds.et                          ROOT::VecOps::RVec<Float_t>                     Dataset\n",
       "SeedContainer_Seeds.eta                         ROOT::VecOps::RVec<Float_t>                     Dataset\n",
       "SeedContainer_Seeds.id                          ROOT::VecOps::RVec<Int_t>                       Dataset\n",
       "SeedContainer_Seeds.phi                         ROOT::VecOps::RVec<Float_t>                     Dataset\n",
       "TruthParticleContainer_Particles                ROOT::VecOps::RVec<xAOD::TruthParticle_t>       Dataset\n",
       "TruthParticleContainer_Particles.e              ROOT::VecOps::RVec<Float_t>                     Dataset\n",
       "TruthParticleContainer_Particles.et             ROOT::VecOps::RVec<Float_t>                     Dataset\n",
       "TruthParticleContainer_Particles.eta            ROOT::VecOps::RVec<Float_t>                     Dataset\n",
       "TruthParticleContainer_Particles.pdgid          ROOT::VecOps::RVec<Int_t>                       Dataset\n",
       "TruthParticleContainer_Particles.phi            ROOT::VecOps::RVec<Float_t>                     Dataset\n",
       "TruthParticleContainer_Particles.px             ROOT::VecOps::RVec<Float_t>                     Dataset\n",
       "TruthParticleContainer_Particles.py             ROOT::VecOps::RVec<Float_t>                     Dataset\n",
       "TruthParticleContainer_Particles.pz             ROOT::VecOps::RVec<Float_t>                     Dataset\n",
       "TruthParticleContainer_Particles.seedid         ROOT::VecOps::RVec<Int_t>                       Dataset\n",
       "TruthParticleContainer_Particles.vx             ROOT::VecOps::RVec<Float_t>                     Dataset\n",
       "TruthParticleContainer_Particles.vy             ROOT::VecOps::RVec<Float_t>                     Dataset\n",
       "TruthParticleContainer_Particles.vz             ROOT::VecOps::RVec<Float_t>                     Dataset"
      ]
     },
     "execution_count": 5,
     "metadata": {},
     "output_type": "execute_result"
    }
   ],
   "source": [
    "rdf = ROOT.RDataFrame(tree_name,\n",
    "                      str(filepath))\n",
    "rdf.Describe()"
   ]
  }
 ],
 "metadata": {
  "kernelspec": {
   "display_name": "dev",
   "language": "python",
   "name": "python3"
  },
  "language_info": {
   "codemirror_mode": {
    "name": "ipython",
    "version": 3
   },
   "file_extension": ".py",
   "mimetype": "text/x-python",
   "name": "python",
   "nbconvert_exporter": "python",
   "pygments_lexer": "ipython3",
   "version": "3.11.13"
  }
 },
 "nbformat": 4,
 "nbformat_minor": 5
}
