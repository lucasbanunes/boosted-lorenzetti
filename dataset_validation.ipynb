{
 "cells": [
  {
   "cell_type": "markdown",
   "id": "c526f14d-6f9b-4929-b56b-32ce6e04f3a3",
   "metadata": {},
   "source": [
    "# Dataset Validation"
   ]
  },
  {
   "cell_type": "code",
   "execution_count": 1,
   "id": "a8e5e1d6-a353-46ae-a1e8-61d97d4f8ba5",
   "metadata": {},
   "outputs": [
    {
     "name": "stderr",
     "output_type": "stream",
     "text": [
      "Module libc not found.\n"
     ]
    },
    {
     "name": "stdout",
     "output_type": "stream",
     "text": [
      "Welcome to JupyROOT 6.28/02\n"
     ]
    }
   ],
   "source": [
    "from lzt_utils.dataset import LztDataset\n",
    "import ROOT\n",
    "import subprocess\n",
    "import os\n",
    "ROOT.EnableImplicitMT()"
   ]
  },
  {
   "cell_type": "code",
   "execution_count": 2,
   "id": "74ca56fb-9317-42d8-880e-c73e4e33a84c",
   "metadata": {},
   "outputs": [
    {
     "data": {
      "text/plain": [
       "<lzt_utils.dataset.LztDataset at 0x7efca71f4fd0>"
      ]
     },
     "execution_count": 2,
     "metadata": {},
     "output_type": "execute_result"
    }
   ],
   "source": [
    "dataset_dir = '/home/lucas.nunes/cern_data/lucas.nunes/lorenzetti/2024_08_22_12_00_0000000000_minibias'\n",
    "dataset = LztDataset.from_dir(dataset_dir)\n",
    "dataset"
   ]
  },
  {
   "cell_type": "markdown",
   "id": "10fd866c-b6c3-4d77-bb47-e86b01142681",
   "metadata": {},
   "source": [
    "# EVT"
   ]
  },
  {
   "cell_type": "code",
   "execution_count": 3,
   "id": "6c649129-2761-41cf-99eb-00bb5107bb8e",
   "metadata": {},
   "outputs": [
    {
     "name": "stdout",
     "output_type": "stream",
     "text": [
      "N Samples: 1968\n"
     ]
    },
    {
     "data": {
      "text/plain": [
       "Dataframe from TChain CollectionTree in files\n",
       "  /home/lucas.nunes/cern_data/lucas.nunes/lorenzetti/2024_08_22_12_00_0000000000_minibias/HIT/minias.HIT.49.root\n",
       "  /home/lucas.nunes/cern_data/lucas.nunes/lorenzetti/2024_08_22_12_00_0000000000_minibias/HIT/minias.HIT.48.root\n",
       "  /home/lucas.nunes/cern_data/lucas.nunes/lorenzetti/2024_08_22_12_00_0000000000_minibias/HIT/minias.HIT.47.root\n",
       "  /home/lucas.nunes/cern_data/lucas.nunes/lorenzetti/2024_08_22_12_00_0000000000_minibias/HIT/minias.HIT.46.root\n",
       "  /home/lucas.nunes/cern_data/lucas.nunes/lorenzetti/2024_08_22_12_00_0000000000_minibias/HIT/minias.HIT.45.root\n",
       "  /home/lucas.nunes/cern_data/lucas.nunes/lorenzetti/2024_08_22_12_00_0000000000_minibias/HIT/minias.HIT.44.root\n",
       "  /home/lucas.nunes/cern_data/lucas.nunes/lorenzetti/2024_08_22_12_00_0000000000_minibias/HIT/minias.HIT.43.root\n",
       "  /home/lucas.nunes/cern_data/lucas.nunes/lorenzetti/2024_08_22_12_00_0000000000_minibias/HIT/minias.HIT.42.root\n",
       "  /home/lucas.nunes/cern_data/lucas.nunes/lorenzetti/2024_08_22_12_00_0000000000_minibias/HIT/minias.HIT.41.root\n",
       "  /home/lucas.nunes/cern_data/lucas.nunes/lorenzetti/2024_08_22_12_00_0000000000_minibias/HIT/minias.HIT.40.root\n",
       "  /home/lucas.nunes/cern_data/lucas.nunes/lorenzetti/2024_08_22_12_00_0000000000_minibias/HIT/minias.HIT.39.root\n",
       "  /home/lucas.nunes/cern_data/lucas.nunes/lorenzetti/2024_08_22_12_00_0000000000_minibias/HIT/minias.HIT.38.root\n",
       "  /home/lucas.nunes/cern_data/lucas.nunes/lorenzetti/2024_08_22_12_00_0000000000_minibias/HIT/minias.HIT.37.root\n",
       "  /home/lucas.nunes/cern_data/lucas.nunes/lorenzetti/2024_08_22_12_00_0000000000_minibias/HIT/minias.HIT.36.root\n",
       "  /home/lucas.nunes/cern_data/lucas.nunes/lorenzetti/2024_08_22_12_00_0000000000_minibias/HIT/minias.HIT.35.root\n",
       "  /home/lucas.nunes/cern_data/lucas.nunes/lorenzetti/2024_08_22_12_00_0000000000_minibias/HIT/minias.HIT.34.root\n",
       "  /home/lucas.nunes/cern_data/lucas.nunes/lorenzetti/2024_08_22_12_00_0000000000_minibias/HIT/minias.HIT.33.root\n",
       "  /home/lucas.nunes/cern_data/lucas.nunes/lorenzetti/2024_08_22_12_00_0000000000_minibias/HIT/minias.HIT.32.root\n",
       "  /home/lucas.nunes/cern_data/lucas.nunes/lorenzetti/2024_08_22_12_00_0000000000_minibias/HIT/minias.HIT.31.root\n",
       "  /home/lucas.nunes/cern_data/lucas.nunes/lorenzetti/2024_08_22_12_00_0000000000_minibias/HIT/minias.HIT.30.root\n",
       "  /home/lucas.nunes/cern_data/lucas.nunes/lorenzetti/2024_08_22_12_00_0000000000_minibias/HIT/minias.HIT.29.root\n",
       "  /home/lucas.nunes/cern_data/lucas.nunes/lorenzetti/2024_08_22_12_00_0000000000_minibias/HIT/minias.HIT.28.root\n",
       "  /home/lucas.nunes/cern_data/lucas.nunes/lorenzetti/2024_08_22_12_00_0000000000_minibias/HIT/minias.HIT.27.root\n",
       "  /home/lucas.nunes/cern_data/lucas.nunes/lorenzetti/2024_08_22_12_00_0000000000_minibias/HIT/minias.HIT.26.root\n",
       "  /home/lucas.nunes/cern_data/lucas.nunes/lorenzetti/2024_08_22_12_00_0000000000_minibias/HIT/minias.HIT.25.root\n",
       "  /home/lucas.nunes/cern_data/lucas.nunes/lorenzetti/2024_08_22_12_00_0000000000_minibias/HIT/minias.HIT.24.root\n",
       "  /home/lucas.nunes/cern_data/lucas.nunes/lorenzetti/2024_08_22_12_00_0000000000_minibias/HIT/minias.HIT.23.root\n",
       "  /home/lucas.nunes/cern_data/lucas.nunes/lorenzetti/2024_08_22_12_00_0000000000_minibias/HIT/minias.HIT.22.root\n",
       "  /home/lucas.nunes/cern_data/lucas.nunes/lorenzetti/2024_08_22_12_00_0000000000_minibias/HIT/minias.HIT.21.root\n",
       "  /home/lucas.nunes/cern_data/lucas.nunes/lorenzetti/2024_08_22_12_00_0000000000_minibias/HIT/minias.HIT.20.root\n",
       "  /home/lucas.nunes/cern_data/lucas.nunes/lorenzetti/2024_08_22_12_00_0000000000_minibias/HIT/minias.HIT.19.root\n",
       "  /home/lucas.nunes/cern_data/lucas.nunes/lorenzetti/2024_08_22_12_00_0000000000_minibias/HIT/minias.HIT.18.root\n",
       "  /home/lucas.nunes/cern_data/lucas.nunes/lorenzetti/2024_08_22_12_00_0000000000_minibias/HIT/minias.HIT.17.root\n",
       "  /home/lucas.nunes/cern_data/lucas.nunes/lorenzetti/2024_08_22_12_00_0000000000_minibias/HIT/minias.HIT.16.root\n",
       "  /home/lucas.nunes/cern_data/lucas.nunes/lorenzetti/2024_08_22_12_00_0000000000_minibias/HIT/minias.HIT.15.root\n",
       "  /home/lucas.nunes/cern_data/lucas.nunes/lorenzetti/2024_08_22_12_00_0000000000_minibias/HIT/minias.HIT.14.root\n",
       "  /home/lucas.nunes/cern_data/lucas.nunes/lorenzetti/2024_08_22_12_00_0000000000_minibias/HIT/minias.HIT.13.root\n",
       "  /home/lucas.nunes/cern_data/lucas.nunes/lorenzetti/2024_08_22_12_00_0000000000_minibias/HIT/minias.HIT.12.root\n",
       "  /home/lucas.nunes/cern_data/lucas.nunes/lorenzetti/2024_08_22_12_00_0000000000_minibias/HIT/minias.HIT.11.root\n",
       "  /home/lucas.nunes/cern_data/lucas.nunes/lorenzetti/2024_08_22_12_00_0000000000_minibias/HIT/minias.HIT.10.root\n",
       "  /home/lucas.nunes/cern_data/lucas.nunes/lorenzetti/2024_08_22_12_00_0000000000_minibias/HIT/minias.HIT.9.root\n",
       "  /home/lucas.nunes/cern_data/lucas.nunes/lorenzetti/2024_08_22_12_00_0000000000_minibias/HIT/minias.HIT.8.root\n",
       "  /home/lucas.nunes/cern_data/lucas.nunes/lorenzetti/2024_08_22_12_00_0000000000_minibias/HIT/minias.HIT.7.root\n",
       "  /home/lucas.nunes/cern_data/lucas.nunes/lorenzetti/2024_08_22_12_00_0000000000_minibias/HIT/minias.HIT.6.root\n",
       "  /home/lucas.nunes/cern_data/lucas.nunes/lorenzetti/2024_08_22_12_00_0000000000_minibias/HIT/minias.HIT.5.root\n",
       "  /home/lucas.nunes/cern_data/lucas.nunes/lorenzetti/2024_08_22_12_00_0000000000_minibias/HIT/minias.HIT.4.root\n",
       "  /home/lucas.nunes/cern_data/lucas.nunes/lorenzetti/2024_08_22_12_00_0000000000_minibias/HIT/minias.HIT.3.root\n",
       "  /home/lucas.nunes/cern_data/lucas.nunes/lorenzetti/2024_08_22_12_00_0000000000_minibias/HIT/minias.HIT.2.root\n",
       "  /home/lucas.nunes/cern_data/lucas.nunes/lorenzetti/2024_08_22_12_00_0000000000_minibias/HIT/minias.HIT.1.root\n",
       "  /home/lucas.nunes/cern_data/lucas.nunes/lorenzetti/2024_08_22_12_00_0000000000_minibias/HIT/minias.HIT.0.root\n",
       "\n",
       "Property                Value\n",
       "--------                -----\n",
       "Columns in total           36\n",
       "Columns from defines        0\n",
       "Event loops run             1\n",
       "Processing slots           40\n",
       "\n",
       "Column                                  Type                                            Origin\n",
       "------                                  ----                                            ------\n",
       "CaloHitContainer_Hits                   ROOT::VecOps::RVec<xAOD::CaloHit_t>             Dataset\n",
       "CaloHitContainer_Hits.bc_duration       ROOT::VecOps::RVec<Float_t>                     Dataset\n",
       "CaloHitContainer_Hits.bcid_end          ROOT::VecOps::RVec<Int_t>                       Dataset\n",
       "CaloHitContainer_Hits.bcid_start        ROOT::VecOps::RVec<Int_t>                       Dataset\n",
       "CaloHitContainer_Hits.deta              ROOT::VecOps::RVec<Float_t>                     Dataset\n",
       "CaloHitContainer_Hits.detector          ROOT::VecOps::RVec<Int_t>                       Dataset\n",
       "CaloHitContainer_Hits.dphi              ROOT::VecOps::RVec<Float_t>                     Dataset\n",
       "CaloHitContainer_Hits.edep              ROOT::VecOps::RVec<vector<float>>               Dataset\n",
       "CaloHitContainer_Hits.eta               ROOT::VecOps::RVec<Float_t>                     Dataset\n",
       "CaloHitContainer_Hits.hash              ROOT::VecOps::RVec<ULong_t>                     Dataset\n",
       "CaloHitContainer_Hits.phi               ROOT::VecOps::RVec<Float_t>                     Dataset\n",
       "CaloHitContainer_Hits.sampling          ROOT::VecOps::RVec<Int_t>                       Dataset\n",
       "CaloHitContainer_Hits.tof               ROOT::VecOps::RVec<vector<float>>               Dataset\n",
       "EventInfoContainer_Events               ROOT::VecOps::RVec<xAOD::EventInfo_t>           Dataset\n",
       "EventInfoContainer_Events.avgmu         ROOT::VecOps::RVec<Float_t>                     Dataset\n",
       "EventInfoContainer_Events.eventNumber   ROOT::VecOps::RVec<Float_t>                     Dataset\n",
       "EventInfoContainer_Events.runNumber     ROOT::VecOps::RVec<Float_t>                     Dataset\n",
       "EventSeedContainer_Seeds                ROOT::VecOps::RVec<xAOD::EventSeed_t>           Dataset\n",
       "EventSeedContainer_Seeds.e              ROOT::VecOps::RVec<Float_t>                     Dataset\n",
       "EventSeedContainer_Seeds.et             ROOT::VecOps::RVec<Float_t>                     Dataset\n",
       "EventSeedContainer_Seeds.eta            ROOT::VecOps::RVec<Float_t>                     Dataset\n",
       "EventSeedContainer_Seeds.id             ROOT::VecOps::RVec<Int_t>                       Dataset\n",
       "EventSeedContainer_Seeds.phi            ROOT::VecOps::RVec<Float_t>                     Dataset\n",
       "TruthParticleContainer_Particles        ROOT::VecOps::RVec<xAOD::TruthParticle_t>       Dataset\n",
       "TruthParticleContainer_Particles.e      ROOT::VecOps::RVec<Float_t>                     Dataset\n",
       "TruthParticleContainer_Particles.et     ROOT::VecOps::RVec<Float_t>                     Dataset\n",
       "TruthParticleContainer_Particles.eta    ROOT::VecOps::RVec<Float_t>                     Dataset\n",
       "TruthParticleContainer_Particles.pdgid  ROOT::VecOps::RVec<Int_t>                       Dataset\n",
       "TruthParticleContainer_Particles.phi    ROOT::VecOps::RVec<Float_t>                     Dataset\n",
       "TruthParticleContainer_Particles.px     ROOT::VecOps::RVec<Float_t>                     Dataset\n",
       "TruthParticleContainer_Particles.py     ROOT::VecOps::RVec<Float_t>                     Dataset\n",
       "TruthParticleContainer_Particles.pz     ROOT::VecOps::RVec<Float_t>                     Dataset\n",
       "TruthParticleContainer_Particles.seedid ROOT::VecOps::RVec<Int_t>                       Dataset\n",
       "TruthParticleContainer_Particles.vx     ROOT::VecOps::RVec<Float_t>                     Dataset\n",
       "TruthParticleContainer_Particles.vy     ROOT::VecOps::RVec<Float_t>                     Dataset\n",
       "TruthParticleContainer_Particles.vz     ROOT::VecOps::RVec<Float_t>                     Dataset"
      ]
     },
     "execution_count": 3,
     "metadata": {},
     "output_type": "execute_result"
    },
    {
     "name": "stderr",
     "output_type": "stream",
     "text": [
      "Warning in <TClass::Init>: no dictionary for class xAOD::EventInfo_t is available\n",
      "Warning in <TClass::Init>: no dictionary for class xAOD::EventSeed_t is available\n",
      "Warning in <TClass::Init>: no dictionary for class xAOD::TruthParticle_t is available\n",
      "Warning in <TClass::Init>: no dictionary for class xAOD::CaloHit_t is available\n"
     ]
    }
   ],
   "source": [
    "evt_rdf = dataset.get_hit_rdf()\n",
    "evt_n_samples = evt_rdf.Count().GetValue()\n",
    "print(f'N Samples: {evt_n_samples}')\n",
    "evt_rdf.Describe()"
   ]
  },
  {
   "cell_type": "markdown",
   "id": "1bfe90fb-5220-4934-8d47-9cc39dc180f7",
   "metadata": {},
   "source": [
    "## Merge EVTs"
   ]
  },
  {
   "cell_type": "code",
   "execution_count": 4,
   "id": "16051ab0-b606-46e0-b385-b173a1a2dc73",
   "metadata": {},
   "outputs": [
    {
     "name": "stdout",
     "output_type": "stream",
     "text": [
      "['hadd', '-O', '-j', '-f9', '/home/lucas.nunes/cern_data/lucas.nunes/lorenzetti/2024_08_22_12_00_0000000000_minibias/minias.EVT.root', '/home/lucas.nunes/cern_data/lucas.nunes/lorenzetti/2024_08_22_12_00_0000000000_minibias/EVT/minias.EVT.49.root', '/home/lucas.nunes/cern_data/lucas.nunes/lorenzetti/2024_08_22_12_00_0000000000_minibias/EVT/minias.EVT.48.root', '/home/lucas.nunes/cern_data/lucas.nunes/lorenzetti/2024_08_22_12_00_0000000000_minibias/EVT/minias.EVT.47.root', '/home/lucas.nunes/cern_data/lucas.nunes/lorenzetti/2024_08_22_12_00_0000000000_minibias/EVT/minias.EVT.46.root', '/home/lucas.nunes/cern_data/lucas.nunes/lorenzetti/2024_08_22_12_00_0000000000_minibias/EVT/minias.EVT.44.root', '/home/lucas.nunes/cern_data/lucas.nunes/lorenzetti/2024_08_22_12_00_0000000000_minibias/EVT/minias.EVT.45.root', '/home/lucas.nunes/cern_data/lucas.nunes/lorenzetti/2024_08_22_12_00_0000000000_minibias/EVT/minias.EVT.43.root', '/home/lucas.nunes/cern_data/lucas.nunes/lorenzetti/2024_08_22_12_00_0000000000_minibias/EVT/minias.EVT.41.root', '/home/lucas.nunes/cern_data/lucas.nunes/lorenzetti/2024_08_22_12_00_0000000000_minibias/EVT/minias.EVT.42.root', '/home/lucas.nunes/cern_data/lucas.nunes/lorenzetti/2024_08_22_12_00_0000000000_minibias/EVT/minias.EVT.40.root', '/home/lucas.nunes/cern_data/lucas.nunes/lorenzetti/2024_08_22_12_00_0000000000_minibias/EVT/minias.EVT.38.root', '/home/lucas.nunes/cern_data/lucas.nunes/lorenzetti/2024_08_22_12_00_0000000000_minibias/EVT/minias.EVT.39.root', '/home/lucas.nunes/cern_data/lucas.nunes/lorenzetti/2024_08_22_12_00_0000000000_minibias/EVT/minias.EVT.37.root', '/home/lucas.nunes/cern_data/lucas.nunes/lorenzetti/2024_08_22_12_00_0000000000_minibias/EVT/minias.EVT.35.root', '/home/lucas.nunes/cern_data/lucas.nunes/lorenzetti/2024_08_22_12_00_0000000000_minibias/EVT/minias.EVT.36.root', '/home/lucas.nunes/cern_data/lucas.nunes/lorenzetti/2024_08_22_12_00_0000000000_minibias/EVT/minias.EVT.34.root', '/home/lucas.nunes/cern_data/lucas.nunes/lorenzetti/2024_08_22_12_00_0000000000_minibias/EVT/minias.EVT.33.root', '/home/lucas.nunes/cern_data/lucas.nunes/lorenzetti/2024_08_22_12_00_0000000000_minibias/EVT/minias.EVT.32.root', '/home/lucas.nunes/cern_data/lucas.nunes/lorenzetti/2024_08_22_12_00_0000000000_minibias/EVT/minias.EVT.30.root', '/home/lucas.nunes/cern_data/lucas.nunes/lorenzetti/2024_08_22_12_00_0000000000_minibias/EVT/minias.EVT.31.root', '/home/lucas.nunes/cern_data/lucas.nunes/lorenzetti/2024_08_22_12_00_0000000000_minibias/EVT/minias.EVT.29.root', '/home/lucas.nunes/cern_data/lucas.nunes/lorenzetti/2024_08_22_12_00_0000000000_minibias/EVT/minias.EVT.28.root', '/home/lucas.nunes/cern_data/lucas.nunes/lorenzetti/2024_08_22_12_00_0000000000_minibias/EVT/minias.EVT.27.root', '/home/lucas.nunes/cern_data/lucas.nunes/lorenzetti/2024_08_22_12_00_0000000000_minibias/EVT/minias.EVT.25.root', '/home/lucas.nunes/cern_data/lucas.nunes/lorenzetti/2024_08_22_12_00_0000000000_minibias/EVT/minias.EVT.26.root', '/home/lucas.nunes/cern_data/lucas.nunes/lorenzetti/2024_08_22_12_00_0000000000_minibias/EVT/minias.EVT.22.root', '/home/lucas.nunes/cern_data/lucas.nunes/lorenzetti/2024_08_22_12_00_0000000000_minibias/EVT/minias.EVT.24.root', '/home/lucas.nunes/cern_data/lucas.nunes/lorenzetti/2024_08_22_12_00_0000000000_minibias/EVT/minias.EVT.23.root', '/home/lucas.nunes/cern_data/lucas.nunes/lorenzetti/2024_08_22_12_00_0000000000_minibias/EVT/minias.EVT.20.root', '/home/lucas.nunes/cern_data/lucas.nunes/lorenzetti/2024_08_22_12_00_0000000000_minibias/EVT/minias.EVT.21.root', '/home/lucas.nunes/cern_data/lucas.nunes/lorenzetti/2024_08_22_12_00_0000000000_minibias/EVT/minias.EVT.19.root', '/home/lucas.nunes/cern_data/lucas.nunes/lorenzetti/2024_08_22_12_00_0000000000_minibias/EVT/minias.EVT.17.root', '/home/lucas.nunes/cern_data/lucas.nunes/lorenzetti/2024_08_22_12_00_0000000000_minibias/EVT/minias.EVT.18.root', '/home/lucas.nunes/cern_data/lucas.nunes/lorenzetti/2024_08_22_12_00_0000000000_minibias/EVT/minias.EVT.16.root', '/home/lucas.nunes/cern_data/lucas.nunes/lorenzetti/2024_08_22_12_00_0000000000_minibias/EVT/minias.EVT.15.root', '/home/lucas.nunes/cern_data/lucas.nunes/lorenzetti/2024_08_22_12_00_0000000000_minibias/EVT/minias.EVT.12.root', '/home/lucas.nunes/cern_data/lucas.nunes/lorenzetti/2024_08_22_12_00_0000000000_minibias/EVT/minias.EVT.13.root', '/home/lucas.nunes/cern_data/lucas.nunes/lorenzetti/2024_08_22_12_00_0000000000_minibias/EVT/minias.EVT.14.root', '/home/lucas.nunes/cern_data/lucas.nunes/lorenzetti/2024_08_22_12_00_0000000000_minibias/EVT/minias.EVT.11.root', '/home/lucas.nunes/cern_data/lucas.nunes/lorenzetti/2024_08_22_12_00_0000000000_minibias/EVT/minias.EVT.10.root', '/home/lucas.nunes/cern_data/lucas.nunes/lorenzetti/2024_08_22_12_00_0000000000_minibias/EVT/minias.EVT.9.root', '/home/lucas.nunes/cern_data/lucas.nunes/lorenzetti/2024_08_22_12_00_0000000000_minibias/EVT/minias.EVT.8.root', '/home/lucas.nunes/cern_data/lucas.nunes/lorenzetti/2024_08_22_12_00_0000000000_minibias/EVT/minias.EVT.6.root', '/home/lucas.nunes/cern_data/lucas.nunes/lorenzetti/2024_08_22_12_00_0000000000_minibias/EVT/minias.EVT.7.root', '/home/lucas.nunes/cern_data/lucas.nunes/lorenzetti/2024_08_22_12_00_0000000000_minibias/EVT/minias.EVT.5.root', '/home/lucas.nunes/cern_data/lucas.nunes/lorenzetti/2024_08_22_12_00_0000000000_minibias/EVT/minias.EVT.2.root', '/home/lucas.nunes/cern_data/lucas.nunes/lorenzetti/2024_08_22_12_00_0000000000_minibias/EVT/minias.EVT.3.root', '/home/lucas.nunes/cern_data/lucas.nunes/lorenzetti/2024_08_22_12_00_0000000000_minibias/EVT/minias.EVT.4.root', '/home/lucas.nunes/cern_data/lucas.nunes/lorenzetti/2024_08_22_12_00_0000000000_minibias/EVT/minias.EVT.1.root', '/home/lucas.nunes/cern_data/lucas.nunes/lorenzetti/2024_08_22_12_00_0000000000_minibias/EVT/minias.EVT.0.root']\n",
      "CompletedProcess(args=['hadd', '-O', '-j', '-f9', '/home/lucas.nunes/cern_data/lucas.nunes/lorenzetti/2024_08_22_12_00_0000000000_minibias/minias.EVT.root', '/home/lucas.nunes/cern_data/lucas.nunes/lorenzetti/2024_08_22_12_00_0000000000_minibias/EVT/minias.EVT.49.root', '/home/lucas.nunes/cern_data/lucas.nunes/lorenzetti/2024_08_22_12_00_0000000000_minibias/EVT/minias.EVT.48.root', '/home/lucas.nunes/cern_data/lucas.nunes/lorenzetti/2024_08_22_12_00_0000000000_minibias/EVT/minias.EVT.47.root', '/home/lucas.nunes/cern_data/lucas.nunes/lorenzetti/2024_08_22_12_00_0000000000_minibias/EVT/minias.EVT.46.root', '/home/lucas.nunes/cern_data/lucas.nunes/lorenzetti/2024_08_22_12_00_0000000000_minibias/EVT/minias.EVT.44.root', '/home/lucas.nunes/cern_data/lucas.nunes/lorenzetti/2024_08_22_12_00_0000000000_minibias/EVT/minias.EVT.45.root', '/home/lucas.nunes/cern_data/lucas.nunes/lorenzetti/2024_08_22_12_00_0000000000_minibias/EVT/minias.EVT.43.root', '/home/lucas.nunes/cern_data/lucas.nunes/lorenzetti/2024_08_22_12_00_0000000000_minibias/EVT/minias.EVT.41.root', '/home/lucas.nunes/cern_data/lucas.nunes/lorenzetti/2024_08_22_12_00_0000000000_minibias/EVT/minias.EVT.42.root', '/home/lucas.nunes/cern_data/lucas.nunes/lorenzetti/2024_08_22_12_00_0000000000_minibias/EVT/minias.EVT.40.root', '/home/lucas.nunes/cern_data/lucas.nunes/lorenzetti/2024_08_22_12_00_0000000000_minibias/EVT/minias.EVT.38.root', '/home/lucas.nunes/cern_data/lucas.nunes/lorenzetti/2024_08_22_12_00_0000000000_minibias/EVT/minias.EVT.39.root', '/home/lucas.nunes/cern_data/lucas.nunes/lorenzetti/2024_08_22_12_00_0000000000_minibias/EVT/minias.EVT.37.root', '/home/lucas.nunes/cern_data/lucas.nunes/lorenzetti/2024_08_22_12_00_0000000000_minibias/EVT/minias.EVT.35.root', '/home/lucas.nunes/cern_data/lucas.nunes/lorenzetti/2024_08_22_12_00_0000000000_minibias/EVT/minias.EVT.36.root', '/home/lucas.nunes/cern_data/lucas.nunes/lorenzetti/2024_08_22_12_00_0000000000_minibias/EVT/minias.EVT.34.root', '/home/lucas.nunes/cern_data/lucas.nunes/lorenzetti/2024_08_22_12_00_0000000000_minibias/EVT/minias.EVT.33.root', '/home/lucas.nunes/cern_data/lucas.nunes/lorenzetti/2024_08_22_12_00_0000000000_minibias/EVT/minias.EVT.32.root', '/home/lucas.nunes/cern_data/lucas.nunes/lorenzetti/2024_08_22_12_00_0000000000_minibias/EVT/minias.EVT.30.root', '/home/lucas.nunes/cern_data/lucas.nunes/lorenzetti/2024_08_22_12_00_0000000000_minibias/EVT/minias.EVT.31.root', '/home/lucas.nunes/cern_data/lucas.nunes/lorenzetti/2024_08_22_12_00_0000000000_minibias/EVT/minias.EVT.29.root', '/home/lucas.nunes/cern_data/lucas.nunes/lorenzetti/2024_08_22_12_00_0000000000_minibias/EVT/minias.EVT.28.root', '/home/lucas.nunes/cern_data/lucas.nunes/lorenzetti/2024_08_22_12_00_0000000000_minibias/EVT/minias.EVT.27.root', '/home/lucas.nunes/cern_data/lucas.nunes/lorenzetti/2024_08_22_12_00_0000000000_minibias/EVT/minias.EVT.25.root', '/home/lucas.nunes/cern_data/lucas.nunes/lorenzetti/2024_08_22_12_00_0000000000_minibias/EVT/minias.EVT.26.root', '/home/lucas.nunes/cern_data/lucas.nunes/lorenzetti/2024_08_22_12_00_0000000000_minibias/EVT/minias.EVT.22.root', '/home/lucas.nunes/cern_data/lucas.nunes/lorenzetti/2024_08_22_12_00_0000000000_minibias/EVT/minias.EVT.24.root', '/home/lucas.nunes/cern_data/lucas.nunes/lorenzetti/2024_08_22_12_00_0000000000_minibias/EVT/minias.EVT.23.root', '/home/lucas.nunes/cern_data/lucas.nunes/lorenzetti/2024_08_22_12_00_0000000000_minibias/EVT/minias.EVT.20.root', '/home/lucas.nunes/cern_data/lucas.nunes/lorenzetti/2024_08_22_12_00_0000000000_minibias/EVT/minias.EVT.21.root', '/home/lucas.nunes/cern_data/lucas.nunes/lorenzetti/2024_08_22_12_00_0000000000_minibias/EVT/minias.EVT.19.root', '/home/lucas.nunes/cern_data/lucas.nunes/lorenzetti/2024_08_22_12_00_0000000000_minibias/EVT/minias.EVT.17.root', '/home/lucas.nunes/cern_data/lucas.nunes/lorenzetti/2024_08_22_12_00_0000000000_minibias/EVT/minias.EVT.18.root', '/home/lucas.nunes/cern_data/lucas.nunes/lorenzetti/2024_08_22_12_00_0000000000_minibias/EVT/minias.EVT.16.root', '/home/lucas.nunes/cern_data/lucas.nunes/lorenzetti/2024_08_22_12_00_0000000000_minibias/EVT/minias.EVT.15.root', '/home/lucas.nunes/cern_data/lucas.nunes/lorenzetti/2024_08_22_12_00_0000000000_minibias/EVT/minias.EVT.12.root', '/home/lucas.nunes/cern_data/lucas.nunes/lorenzetti/2024_08_22_12_00_0000000000_minibias/EVT/minias.EVT.13.root', '/home/lucas.nunes/cern_data/lucas.nunes/lorenzetti/2024_08_22_12_00_0000000000_minibias/EVT/minias.EVT.14.root', '/home/lucas.nunes/cern_data/lucas.nunes/lorenzetti/2024_08_22_12_00_0000000000_minibias/EVT/minias.EVT.11.root', '/home/lucas.nunes/cern_data/lucas.nunes/lorenzetti/2024_08_22_12_00_0000000000_minibias/EVT/minias.EVT.10.root', '/home/lucas.nunes/cern_data/lucas.nunes/lorenzetti/2024_08_22_12_00_0000000000_minibias/EVT/minias.EVT.9.root', '/home/lucas.nunes/cern_data/lucas.nunes/lorenzetti/2024_08_22_12_00_0000000000_minibias/EVT/minias.EVT.8.root', '/home/lucas.nunes/cern_data/lucas.nunes/lorenzetti/2024_08_22_12_00_0000000000_minibias/EVT/minias.EVT.6.root', '/home/lucas.nunes/cern_data/lucas.nunes/lorenzetti/2024_08_22_12_00_0000000000_minibias/EVT/minias.EVT.7.root', '/home/lucas.nunes/cern_data/lucas.nunes/lorenzetti/2024_08_22_12_00_0000000000_minibias/EVT/minias.EVT.5.root', '/home/lucas.nunes/cern_data/lucas.nunes/lorenzetti/2024_08_22_12_00_0000000000_minibias/EVT/minias.EVT.2.root', '/home/lucas.nunes/cern_data/lucas.nunes/lorenzetti/2024_08_22_12_00_0000000000_minibias/EVT/minias.EVT.3.root', '/home/lucas.nunes/cern_data/lucas.nunes/lorenzetti/2024_08_22_12_00_0000000000_minibias/EVT/minias.EVT.4.root', '/home/lucas.nunes/cern_data/lucas.nunes/lorenzetti/2024_08_22_12_00_0000000000_minibias/EVT/minias.EVT.1.root', '/home/lucas.nunes/cern_data/lucas.nunes/lorenzetti/2024_08_22_12_00_0000000000_minibias/EVT/minias.EVT.0.root'], returncode=0)\n",
      "hadd Target file: /home/lucas.nunes/cern_data/lucas.nunes/lorenzetti/2024_08_22_12_00_0000000000_minibias/minias.EVT.root\n",
      "hadd compression setting for all output: 9\n",
      "Each process should handle at least 3 files for efficiency. Setting the number of processes to: 17\n",
      "hadd Source file 1: /home/lucas.nunes/cern_data/lucas.nunes/lorenzetti/2024_08_22_12_00_0000000000_minibias/EVT/minias.EVT.43.root\n",
      "hadd Source file 1: /home/lucas.nunes/cern_data/lucas.nunes/lorenzetti/2024_08_22_12_00_0000000000_minibias/EVT/minias.EVT.40.root\n",
      "hadd Source file 1: /home/lucas.nunes/cern_data/lucas.nunes/lorenzetti/2024_08_22_12_00_0000000000_minibias/EVT/minias.EVT.1.root\n",
      "hadd Source file 1: /home/lucas.nunes/cern_data/lucas.nunes/lorenzetti/2024_08_22_12_00_0000000000_minibias/EVT/minias.EVT.30.root\n",
      "hadd Source file 1: /home/lucas.nunes/cern_data/lucas.nunes/lorenzetti/2024_08_22_12_00_0000000000_minibias/EVT/minias.EVT.46.root\n",
      "hadd Source file 1: /home/lucas.nunes/cern_data/lucas.nunes/lorenzetti/2024_08_22_12_00_0000000000_minibias/EVT/minias.EVT.23.root\n",
      "hadd Source file 1: /home/lucas.nunes/cern_data/lucas.nunes/lorenzetti/2024_08_22_12_00_0000000000_minibias/EVT/minias.EVT.16.root\n",
      "hadd Source file 1: /home/lucas.nunes/cern_data/lucas.nunes/lorenzetti/2024_08_22_12_00_0000000000_minibias/EVT/minias.EVT.26.root\n",
      "hadd Source file 1: /home/lucas.nunes/cern_data/lucas.nunes/lorenzetti/2024_08_22_12_00_0000000000_minibias/EVT/minias.EVT.34.root\n",
      "hadd Source file 1: /home/lucas.nunes/cern_data/lucas.nunes/lorenzetti/2024_08_22_12_00_0000000000_minibias/EVT/minias.EVT.28.root\n",
      "hadd Source file 1: /home/lucas.nunes/cern_data/lucas.nunes/lorenzetti/2024_08_22_12_00_0000000000_minibias/EVT/minias.EVT.13.root\n",
      "hadd Source file 1: /home/lucas.nunes/cern_data/lucas.nunes/lorenzetti/2024_08_22_12_00_0000000000_minibias/EVT/minias.EVT.49.root\n",
      "hadd Source file 1: /home/lucas.nunes/cern_data/lucas.nunes/lorenzetti/2024_08_22_12_00_0000000000_minibias/EVT/minias.EVT.6.root\n",
      "hadd Source file 1: /home/lucas.nunes/cern_data/lucas.nunes/lorenzetti/2024_08_22_12_00_0000000000_minibias/EVT/minias.EVT.2.root\n",
      "hadd Source file 1: /home/lucas.nunes/cern_data/lucas.nunes/lorenzetti/2024_08_22_12_00_0000000000_minibias/EVT/minias.EVT.10.root\n",
      "hadd Source file 1: /home/lucas.nunes/cern_data/lucas.nunes/lorenzetti/2024_08_22_12_00_0000000000_minibias/EVT/minias.EVT.19.root\n",
      "hadd Source file 1: /home/lucas.nunes/cern_data/lucas.nunes/lorenzetti/2024_08_22_12_00_0000000000_minibias/EVT/minias.EVT.37.root\n",
      "hadd Source file 2: /home/lucas.nunes/cern_data/lucas.nunes/lorenzetti/2024_08_22_12_00_0000000000_minibias/EVT/minias.EVT.38.root\n",
      "hadd Source file 2: /home/lucas.nunes/cern_data/lucas.nunes/lorenzetti/2024_08_22_12_00_0000000000_minibias/EVT/minias.EVT.20.root\n",
      "hadd Source file 2: /home/lucas.nunes/cern_data/lucas.nunes/lorenzetti/2024_08_22_12_00_0000000000_minibias/EVT/minias.EVT.9.root\n",
      "hadd Source file 2: /home/lucas.nunes/cern_data/lucas.nunes/lorenzetti/2024_08_22_12_00_0000000000_minibias/EVT/minias.EVT.14.root\n",
      "hadd Source file 2: /home/lucas.nunes/cern_data/lucas.nunes/lorenzetti/2024_08_22_12_00_0000000000_minibias/EVT/minias.EVT.31.root\n",
      "hadd Source file 2: /home/lucas.nunes/cern_data/lucas.nunes/lorenzetti/2024_08_22_12_00_0000000000_minibias/EVT/minias.EVT.44.root\n",
      "hadd Source file 2: /home/lucas.nunes/cern_data/lucas.nunes/lorenzetti/2024_08_22_12_00_0000000000_minibias/EVT/minias.EVT.3.root\n",
      "hadd Source file 3: /home/lucas.nunes/cern_data/lucas.nunes/lorenzetti/2024_08_22_12_00_0000000000_minibias/EVT/minias.EVT.21.root\n",
      "hadd Source file 3: /home/lucas.nunes/cern_data/lucas.nunes/lorenzetti/2024_08_22_12_00_0000000000_minibias/EVT/minias.EVT.11.root\n",
      "hadd Source file 3: /home/lucas.nunes/cern_data/lucas.nunes/lorenzetti/2024_08_22_12_00_0000000000_minibias/EVT/minias.EVT.29.root\n",
      "hadd Source file 3: /home/lucas.nunes/cern_data/lucas.nunes/lorenzetti/2024_08_22_12_00_0000000000_minibias/EVT/minias.EVT.8.root\n",
      "hadd Source file 3: /home/lucas.nunes/cern_data/lucas.nunes/lorenzetti/2024_08_22_12_00_0000000000_minibias/EVT/minias.EVT.45.root\n",
      "hadd Source file 3: /home/lucas.nunes/cern_data/lucas.nunes/lorenzetti/2024_08_22_12_00_0000000000_minibias/EVT/minias.EVT.4.root\n",
      "hadd Source file 3: /home/lucas.nunes/cern_data/lucas.nunes/lorenzetti/2024_08_22_12_00_0000000000_minibias/EVT/minias.EVT.39.root\n",
      "hadd Target path: /tmp/partial9_c75e45be-6534-11ef-9792-3301010abeef.root:/\n",
      "hadd Target path: /tmp/partial12_c75e45be-6534-11ef-9792-3301010abeef.root:/\n",
      "hadd Target path: /tmp/partial6_c75e45be-6534-11ef-9792-3301010abeef.root:/\n",
      "hadd Target path: /tmp/partial1_c75e45be-6534-11ef-9792-3301010abeef.root:/\n",
      "hadd Target path: /tmp/partial13_c75e45be-6534-11ef-9792-3301010abeef.root:/\n",
      "hadd Target path: /tmp/partial15_c75e45be-6534-11ef-9792-3301010abeef.root:/\n",
      "hadd Target path: /tmp/partial3_c75e45be-6534-11ef-9792-3301010abeef.root:/\n",
      "hadd Source file 2: /home/lucas.nunes/cern_data/lucas.nunes/lorenzetti/2024_08_22_12_00_0000000000_minibias/EVT/minias.EVT.15.root\n",
      "hadd Source file 2: /home/lucas.nunes/cern_data/lucas.nunes/lorenzetti/2024_08_22_12_00_0000000000_minibias/EVT/minias.EVT.22.root\n",
      "hadd Source file 2: /home/lucas.nunes/cern_data/lucas.nunes/lorenzetti/2024_08_22_12_00_0000000000_minibias/EVT/minias.EVT.33.root\n",
      "hadd Source file 2: /home/lucas.nunes/cern_data/lucas.nunes/lorenzetti/2024_08_22_12_00_0000000000_minibias/EVT/minias.EVT.17.root\n",
      "hadd Source file 2: /home/lucas.nunes/cern_data/lucas.nunes/lorenzetti/2024_08_22_12_00_0000000000_minibias/EVT/minias.EVT.41.root\n",
      "hadd Source file 2: /home/lucas.nunes/cern_data/lucas.nunes/lorenzetti/2024_08_22_12_00_0000000000_minibias/EVT/minias.EVT.35.root\n",
      "hadd Source file 3: /home/lucas.nunes/cern_data/lucas.nunes/lorenzetti/2024_08_22_12_00_0000000000_minibias/EVT/minias.EVT.12.root\n",
      "hadd Source file 2: /home/lucas.nunes/cern_data/lucas.nunes/lorenzetti/2024_08_22_12_00_0000000000_minibias/EVT/minias.EVT.0.root\n",
      "hadd Source file 3: /home/lucas.nunes/cern_data/lucas.nunes/lorenzetti/2024_08_22_12_00_0000000000_minibias/EVT/minias.EVT.24.root\n",
      "hadd Source file 3: /home/lucas.nunes/cern_data/lucas.nunes/lorenzetti/2024_08_22_12_00_0000000000_minibias/EVT/minias.EVT.32.root\n",
      "hadd Source file 3: /home/lucas.nunes/cern_data/lucas.nunes/lorenzetti/2024_08_22_12_00_0000000000_minibias/EVT/minias.EVT.42.root\n",
      "hadd Source file 3: /home/lucas.nunes/cern_data/lucas.nunes/lorenzetti/2024_08_22_12_00_0000000000_minibias/EVT/minias.EVT.18.root\n",
      "hadd Target path: /tmp/partial11_c75e45be-6534-11ef-9792-3301010abeef.root:/\n",
      "hadd Source file 3: /home/lucas.nunes/cern_data/lucas.nunes/lorenzetti/2024_08_22_12_00_0000000000_minibias/EVT/minias.EVT.36.root\n",
      "hadd Target path: /tmp/partial16_c75e45be-6534-11ef-9792-3301010abeef.root:/\n",
      "hadd Target path: /tmp/partial8_c75e45be-6534-11ef-9792-3301010abeef.root:/\n",
      "hadd Target path: /tmp/partial5_c75e45be-6534-11ef-9792-3301010abeef.root:/\n",
      "hadd Target path: /tmp/partial2_c75e45be-6534-11ef-9792-3301010abeef.root:/\n",
      "hadd Target path: /tmp/partial10_c75e45be-6534-11ef-9792-3301010abeef.root:/\n",
      "hadd Target path: /tmp/partial4_c75e45be-6534-11ef-9792-3301010abeef.root:/\n",
      "hadd Source file 2: /home/lucas.nunes/cern_data/lucas.nunes/lorenzetti/2024_08_22_12_00_0000000000_minibias/EVT/minias.EVT.27.root\n",
      "hadd Source file 3: /home/lucas.nunes/cern_data/lucas.nunes/lorenzetti/2024_08_22_12_00_0000000000_minibias/EVT/minias.EVT.25.root\n",
      "hadd Target path: /tmp/partial7_c75e45be-6534-11ef-9792-3301010abeef.root:/\n",
      "hadd Source file 2: /home/lucas.nunes/cern_data/lucas.nunes/lorenzetti/2024_08_22_12_00_0000000000_minibias/EVT/minias.EVT.7.root\n",
      "hadd Source file 2: /home/lucas.nunes/cern_data/lucas.nunes/lorenzetti/2024_08_22_12_00_0000000000_minibias/EVT/minias.EVT.48.root\n",
      "hadd Source file 3: /home/lucas.nunes/cern_data/lucas.nunes/lorenzetti/2024_08_22_12_00_0000000000_minibias/EVT/minias.EVT.5.root\n",
      "hadd Source file 3: /home/lucas.nunes/cern_data/lucas.nunes/lorenzetti/2024_08_22_12_00_0000000000_minibias/EVT/minias.EVT.47.root\n",
      "hadd Target path: /tmp/partial14_c75e45be-6534-11ef-9792-3301010abeef.root:/\n",
      "hadd Target path: /tmp/partial0_c75e45be-6534-11ef-9792-3301010abeef.root:/\n",
      "hadd Source file 1: /tmp/partial0_c75e45be-6534-11ef-9792-3301010abeef.root\n",
      "hadd Source file 2: /tmp/partial1_c75e45be-6534-11ef-9792-3301010abeef.root\n",
      "hadd Source file 3: /tmp/partial2_c75e45be-6534-11ef-9792-3301010abeef.root\n",
      "hadd Source file 4: /tmp/partial3_c75e45be-6534-11ef-9792-3301010abeef.root\n",
      "hadd Source file 5: /tmp/partial4_c75e45be-6534-11ef-9792-3301010abeef.root\n",
      "hadd Source file 6: /tmp/partial5_c75e45be-6534-11ef-9792-3301010abeef.root\n",
      "hadd Source file 7: /tmp/partial6_c75e45be-6534-11ef-9792-3301010abeef.root\n",
      "hadd Source file 8: /tmp/partial7_c75e45be-6534-11ef-9792-3301010abeef.root\n",
      "hadd Source file 9: /tmp/partial8_c75e45be-6534-11ef-9792-3301010abeef.root\n",
      "hadd Source file 10: /tmp/partial9_c75e45be-6534-11ef-9792-3301010abeef.root\n",
      "hadd Source file 11: /tmp/partial10_c75e45be-6534-11ef-9792-3301010abeef.root\n",
      "hadd Source file 12: /tmp/partial11_c75e45be-6534-11ef-9792-3301010abeef.root\n",
      "hadd Source file 13: /tmp/partial12_c75e45be-6534-11ef-9792-3301010abeef.root\n",
      "hadd Source file 14: /tmp/partial13_c75e45be-6534-11ef-9792-3301010abeef.root\n",
      "hadd Source file 15: /tmp/partial14_c75e45be-6534-11ef-9792-3301010abeef.root\n",
      "hadd Source file 16: /tmp/partial15_c75e45be-6534-11ef-9792-3301010abeef.root\n",
      "hadd Source file 17: /tmp/partial16_c75e45be-6534-11ef-9792-3301010abeef.root\n",
      "hadd Target path: /home/lucas.nunes/cern_data/lucas.nunes/lorenzetti/2024_08_22_12_00_0000000000_minibias/minias.EVT.root:/\n"
     ]
    },
    {
     "name": "stderr",
     "output_type": "stream",
     "text": [
      "Module libc not found.\n"
     ]
    }
   ],
   "source": [
    "command = [\n",
    "    'hadd',\n",
    "    '-O',\n",
    "    '-j',\n",
    "    '-f9',\n",
    "    os.path.join(dataset.path, f'{dataset.basename}.EVT.root')\n",
    "] + dataset.get_evt_files()\n",
    "print(command)\n",
    "res = subprocess.run(command)\n",
    "print(res)"
   ]
  },
  {
   "cell_type": "markdown",
   "id": "1959d548-c7bc-410d-9f04-726a22140cac",
   "metadata": {},
   "source": [
    "# HIT"
   ]
  },
  {
   "cell_type": "code",
   "execution_count": 3,
   "id": "34d0401a-80a1-4fec-ac29-a2b51e806587",
   "metadata": {
    "scrolled": true
   },
   "outputs": [
    {
     "name": "stdout",
     "output_type": "stream",
     "text": [
      "N Samples: 100000\n"
     ]
    },
    {
     "data": {
      "text/plain": [
       "Dataframe from TChain CollectionTree in files\n",
       "  /home/lucas.nunes/cern_data/lucas.nunes/lorenzetti/2024_08_20_21_08_0000000000_zee/HIT/zee.HIT.99.root\n",
       "  /home/lucas.nunes/cern_data/lucas.nunes/lorenzetti/2024_08_20_21_08_0000000000_zee/HIT/zee.HIT.98.root\n",
       "  /home/lucas.nunes/cern_data/lucas.nunes/lorenzetti/2024_08_20_21_08_0000000000_zee/HIT/zee.HIT.97.root\n",
       "  /home/lucas.nunes/cern_data/lucas.nunes/lorenzetti/2024_08_20_21_08_0000000000_zee/HIT/zee.HIT.96.root\n",
       "  /home/lucas.nunes/cern_data/lucas.nunes/lorenzetti/2024_08_20_21_08_0000000000_zee/HIT/zee.HIT.95.root\n",
       "  /home/lucas.nunes/cern_data/lucas.nunes/lorenzetti/2024_08_20_21_08_0000000000_zee/HIT/zee.HIT.94.root\n",
       "  /home/lucas.nunes/cern_data/lucas.nunes/lorenzetti/2024_08_20_21_08_0000000000_zee/HIT/zee.HIT.93.root\n",
       "  /home/lucas.nunes/cern_data/lucas.nunes/lorenzetti/2024_08_20_21_08_0000000000_zee/HIT/zee.HIT.92.root\n",
       "  /home/lucas.nunes/cern_data/lucas.nunes/lorenzetti/2024_08_20_21_08_0000000000_zee/HIT/zee.HIT.91.root\n",
       "  /home/lucas.nunes/cern_data/lucas.nunes/lorenzetti/2024_08_20_21_08_0000000000_zee/HIT/zee.HIT.90.root\n",
       "  /home/lucas.nunes/cern_data/lucas.nunes/lorenzetti/2024_08_20_21_08_0000000000_zee/HIT/zee.HIT.89.root\n",
       "  /home/lucas.nunes/cern_data/lucas.nunes/lorenzetti/2024_08_20_21_08_0000000000_zee/HIT/zee.HIT.88.root\n",
       "  /home/lucas.nunes/cern_data/lucas.nunes/lorenzetti/2024_08_20_21_08_0000000000_zee/HIT/zee.HIT.87.root\n",
       "  /home/lucas.nunes/cern_data/lucas.nunes/lorenzetti/2024_08_20_21_08_0000000000_zee/HIT/zee.HIT.86.root\n",
       "  /home/lucas.nunes/cern_data/lucas.nunes/lorenzetti/2024_08_20_21_08_0000000000_zee/HIT/zee.HIT.85.root\n",
       "  /home/lucas.nunes/cern_data/lucas.nunes/lorenzetti/2024_08_20_21_08_0000000000_zee/HIT/zee.HIT.84.root\n",
       "  /home/lucas.nunes/cern_data/lucas.nunes/lorenzetti/2024_08_20_21_08_0000000000_zee/HIT/zee.HIT.83.root\n",
       "  /home/lucas.nunes/cern_data/lucas.nunes/lorenzetti/2024_08_20_21_08_0000000000_zee/HIT/zee.HIT.82.root\n",
       "  /home/lucas.nunes/cern_data/lucas.nunes/lorenzetti/2024_08_20_21_08_0000000000_zee/HIT/zee.HIT.81.root\n",
       "  /home/lucas.nunes/cern_data/lucas.nunes/lorenzetti/2024_08_20_21_08_0000000000_zee/HIT/zee.HIT.80.root\n",
       "  /home/lucas.nunes/cern_data/lucas.nunes/lorenzetti/2024_08_20_21_08_0000000000_zee/HIT/zee.HIT.79.root\n",
       "  /home/lucas.nunes/cern_data/lucas.nunes/lorenzetti/2024_08_20_21_08_0000000000_zee/HIT/zee.HIT.78.root\n",
       "  /home/lucas.nunes/cern_data/lucas.nunes/lorenzetti/2024_08_20_21_08_0000000000_zee/HIT/zee.HIT.77.root\n",
       "  /home/lucas.nunes/cern_data/lucas.nunes/lorenzetti/2024_08_20_21_08_0000000000_zee/HIT/zee.HIT.76.root\n",
       "  /home/lucas.nunes/cern_data/lucas.nunes/lorenzetti/2024_08_20_21_08_0000000000_zee/HIT/zee.HIT.75.root\n",
       "  /home/lucas.nunes/cern_data/lucas.nunes/lorenzetti/2024_08_20_21_08_0000000000_zee/HIT/zee.HIT.74.root\n",
       "  /home/lucas.nunes/cern_data/lucas.nunes/lorenzetti/2024_08_20_21_08_0000000000_zee/HIT/zee.HIT.73.root\n",
       "  /home/lucas.nunes/cern_data/lucas.nunes/lorenzetti/2024_08_20_21_08_0000000000_zee/HIT/zee.HIT.72.root\n",
       "  /home/lucas.nunes/cern_data/lucas.nunes/lorenzetti/2024_08_20_21_08_0000000000_zee/HIT/zee.HIT.71.root\n",
       "  /home/lucas.nunes/cern_data/lucas.nunes/lorenzetti/2024_08_20_21_08_0000000000_zee/HIT/zee.HIT.70.root\n",
       "  /home/lucas.nunes/cern_data/lucas.nunes/lorenzetti/2024_08_20_21_08_0000000000_zee/HIT/zee.HIT.69.root\n",
       "  /home/lucas.nunes/cern_data/lucas.nunes/lorenzetti/2024_08_20_21_08_0000000000_zee/HIT/zee.HIT.68.root\n",
       "  /home/lucas.nunes/cern_data/lucas.nunes/lorenzetti/2024_08_20_21_08_0000000000_zee/HIT/zee.HIT.67.root\n",
       "  /home/lucas.nunes/cern_data/lucas.nunes/lorenzetti/2024_08_20_21_08_0000000000_zee/HIT/zee.HIT.66.root\n",
       "  /home/lucas.nunes/cern_data/lucas.nunes/lorenzetti/2024_08_20_21_08_0000000000_zee/HIT/zee.HIT.65.root\n",
       "  /home/lucas.nunes/cern_data/lucas.nunes/lorenzetti/2024_08_20_21_08_0000000000_zee/HIT/zee.HIT.64.root\n",
       "  /home/lucas.nunes/cern_data/lucas.nunes/lorenzetti/2024_08_20_21_08_0000000000_zee/HIT/zee.HIT.63.root\n",
       "  /home/lucas.nunes/cern_data/lucas.nunes/lorenzetti/2024_08_20_21_08_0000000000_zee/HIT/zee.HIT.62.root\n",
       "  /home/lucas.nunes/cern_data/lucas.nunes/lorenzetti/2024_08_20_21_08_0000000000_zee/HIT/zee.HIT.61.root\n",
       "  /home/lucas.nunes/cern_data/lucas.nunes/lorenzetti/2024_08_20_21_08_0000000000_zee/HIT/zee.HIT.60.root\n",
       "  /home/lucas.nunes/cern_data/lucas.nunes/lorenzetti/2024_08_20_21_08_0000000000_zee/HIT/zee.HIT.59.root\n",
       "  /home/lucas.nunes/cern_data/lucas.nunes/lorenzetti/2024_08_20_21_08_0000000000_zee/HIT/zee.HIT.58.root\n",
       "  /home/lucas.nunes/cern_data/lucas.nunes/lorenzetti/2024_08_20_21_08_0000000000_zee/HIT/zee.HIT.57.root\n",
       "  /home/lucas.nunes/cern_data/lucas.nunes/lorenzetti/2024_08_20_21_08_0000000000_zee/HIT/zee.HIT.56.root\n",
       "  /home/lucas.nunes/cern_data/lucas.nunes/lorenzetti/2024_08_20_21_08_0000000000_zee/HIT/zee.HIT.55.root\n",
       "  /home/lucas.nunes/cern_data/lucas.nunes/lorenzetti/2024_08_20_21_08_0000000000_zee/HIT/zee.HIT.54.root\n",
       "  /home/lucas.nunes/cern_data/lucas.nunes/lorenzetti/2024_08_20_21_08_0000000000_zee/HIT/zee.HIT.53.root\n",
       "  /home/lucas.nunes/cern_data/lucas.nunes/lorenzetti/2024_08_20_21_08_0000000000_zee/HIT/zee.HIT.52.root\n",
       "  /home/lucas.nunes/cern_data/lucas.nunes/lorenzetti/2024_08_20_21_08_0000000000_zee/HIT/zee.HIT.51.root\n",
       "  /home/lucas.nunes/cern_data/lucas.nunes/lorenzetti/2024_08_20_21_08_0000000000_zee/HIT/zee.HIT.50.root\n",
       "  /home/lucas.nunes/cern_data/lucas.nunes/lorenzetti/2024_08_20_21_08_0000000000_zee/HIT/zee.HIT.49.root\n",
       "  /home/lucas.nunes/cern_data/lucas.nunes/lorenzetti/2024_08_20_21_08_0000000000_zee/HIT/zee.HIT.48.root\n",
       "  /home/lucas.nunes/cern_data/lucas.nunes/lorenzetti/2024_08_20_21_08_0000000000_zee/HIT/zee.HIT.47.root\n",
       "  /home/lucas.nunes/cern_data/lucas.nunes/lorenzetti/2024_08_20_21_08_0000000000_zee/HIT/zee.HIT.46.root\n",
       "  /home/lucas.nunes/cern_data/lucas.nunes/lorenzetti/2024_08_20_21_08_0000000000_zee/HIT/zee.HIT.45.root\n",
       "  /home/lucas.nunes/cern_data/lucas.nunes/lorenzetti/2024_08_20_21_08_0000000000_zee/HIT/zee.HIT.44.root\n",
       "  /home/lucas.nunes/cern_data/lucas.nunes/lorenzetti/2024_08_20_21_08_0000000000_zee/HIT/zee.HIT.43.root\n",
       "  /home/lucas.nunes/cern_data/lucas.nunes/lorenzetti/2024_08_20_21_08_0000000000_zee/HIT/zee.HIT.42.root\n",
       "  /home/lucas.nunes/cern_data/lucas.nunes/lorenzetti/2024_08_20_21_08_0000000000_zee/HIT/zee.HIT.41.root\n",
       "  /home/lucas.nunes/cern_data/lucas.nunes/lorenzetti/2024_08_20_21_08_0000000000_zee/HIT/zee.HIT.40.root\n",
       "  /home/lucas.nunes/cern_data/lucas.nunes/lorenzetti/2024_08_20_21_08_0000000000_zee/HIT/zee.HIT.39.root\n",
       "  /home/lucas.nunes/cern_data/lucas.nunes/lorenzetti/2024_08_20_21_08_0000000000_zee/HIT/zee.HIT.38.root\n",
       "  /home/lucas.nunes/cern_data/lucas.nunes/lorenzetti/2024_08_20_21_08_0000000000_zee/HIT/zee.HIT.37.root\n",
       "  /home/lucas.nunes/cern_data/lucas.nunes/lorenzetti/2024_08_20_21_08_0000000000_zee/HIT/zee.HIT.36.root\n",
       "  /home/lucas.nunes/cern_data/lucas.nunes/lorenzetti/2024_08_20_21_08_0000000000_zee/HIT/zee.HIT.35.root\n",
       "  /home/lucas.nunes/cern_data/lucas.nunes/lorenzetti/2024_08_20_21_08_0000000000_zee/HIT/zee.HIT.34.root\n",
       "  /home/lucas.nunes/cern_data/lucas.nunes/lorenzetti/2024_08_20_21_08_0000000000_zee/HIT/zee.HIT.33.root\n",
       "  /home/lucas.nunes/cern_data/lucas.nunes/lorenzetti/2024_08_20_21_08_0000000000_zee/HIT/zee.HIT.32.root\n",
       "  /home/lucas.nunes/cern_data/lucas.nunes/lorenzetti/2024_08_20_21_08_0000000000_zee/HIT/zee.HIT.31.root\n",
       "  /home/lucas.nunes/cern_data/lucas.nunes/lorenzetti/2024_08_20_21_08_0000000000_zee/HIT/zee.HIT.30.root\n",
       "  /home/lucas.nunes/cern_data/lucas.nunes/lorenzetti/2024_08_20_21_08_0000000000_zee/HIT/zee.HIT.29.root\n",
       "  /home/lucas.nunes/cern_data/lucas.nunes/lorenzetti/2024_08_20_21_08_0000000000_zee/HIT/zee.HIT.28.root\n",
       "  /home/lucas.nunes/cern_data/lucas.nunes/lorenzetti/2024_08_20_21_08_0000000000_zee/HIT/zee.HIT.27.root\n",
       "  /home/lucas.nunes/cern_data/lucas.nunes/lorenzetti/2024_08_20_21_08_0000000000_zee/HIT/zee.HIT.26.root\n",
       "  /home/lucas.nunes/cern_data/lucas.nunes/lorenzetti/2024_08_20_21_08_0000000000_zee/HIT/zee.HIT.25.root\n",
       "  /home/lucas.nunes/cern_data/lucas.nunes/lorenzetti/2024_08_20_21_08_0000000000_zee/HIT/zee.HIT.24.root\n",
       "  /home/lucas.nunes/cern_data/lucas.nunes/lorenzetti/2024_08_20_21_08_0000000000_zee/HIT/zee.HIT.23.root\n",
       "  /home/lucas.nunes/cern_data/lucas.nunes/lorenzetti/2024_08_20_21_08_0000000000_zee/HIT/zee.HIT.22.root\n",
       "  /home/lucas.nunes/cern_data/lucas.nunes/lorenzetti/2024_08_20_21_08_0000000000_zee/HIT/zee.HIT.21.root\n",
       "  /home/lucas.nunes/cern_data/lucas.nunes/lorenzetti/2024_08_20_21_08_0000000000_zee/HIT/zee.HIT.20.root\n",
       "  /home/lucas.nunes/cern_data/lucas.nunes/lorenzetti/2024_08_20_21_08_0000000000_zee/HIT/zee.HIT.19.root\n",
       "  /home/lucas.nunes/cern_data/lucas.nunes/lorenzetti/2024_08_20_21_08_0000000000_zee/HIT/zee.HIT.18.root\n",
       "  /home/lucas.nunes/cern_data/lucas.nunes/lorenzetti/2024_08_20_21_08_0000000000_zee/HIT/zee.HIT.17.root\n",
       "  /home/lucas.nunes/cern_data/lucas.nunes/lorenzetti/2024_08_20_21_08_0000000000_zee/HIT/zee.HIT.16.root\n",
       "  /home/lucas.nunes/cern_data/lucas.nunes/lorenzetti/2024_08_20_21_08_0000000000_zee/HIT/zee.HIT.15.root\n",
       "  /home/lucas.nunes/cern_data/lucas.nunes/lorenzetti/2024_08_20_21_08_0000000000_zee/HIT/zee.HIT.14.root\n",
       "  /home/lucas.nunes/cern_data/lucas.nunes/lorenzetti/2024_08_20_21_08_0000000000_zee/HIT/zee.HIT.13.root\n",
       "  /home/lucas.nunes/cern_data/lucas.nunes/lorenzetti/2024_08_20_21_08_0000000000_zee/HIT/zee.HIT.12.root\n",
       "  /home/lucas.nunes/cern_data/lucas.nunes/lorenzetti/2024_08_20_21_08_0000000000_zee/HIT/zee.HIT.11.root\n",
       "  /home/lucas.nunes/cern_data/lucas.nunes/lorenzetti/2024_08_20_21_08_0000000000_zee/HIT/zee.HIT.10.root\n",
       "  /home/lucas.nunes/cern_data/lucas.nunes/lorenzetti/2024_08_20_21_08_0000000000_zee/HIT/zee.HIT.9.root\n",
       "  /home/lucas.nunes/cern_data/lucas.nunes/lorenzetti/2024_08_20_21_08_0000000000_zee/HIT/zee.HIT.8.root\n",
       "  /home/lucas.nunes/cern_data/lucas.nunes/lorenzetti/2024_08_20_21_08_0000000000_zee/HIT/zee.HIT.7.root\n",
       "  /home/lucas.nunes/cern_data/lucas.nunes/lorenzetti/2024_08_20_21_08_0000000000_zee/HIT/zee.HIT.6.root\n",
       "  /home/lucas.nunes/cern_data/lucas.nunes/lorenzetti/2024_08_20_21_08_0000000000_zee/HIT/zee.HIT.5.root\n",
       "  /home/lucas.nunes/cern_data/lucas.nunes/lorenzetti/2024_08_20_21_08_0000000000_zee/HIT/zee.HIT.4.root\n",
       "  /home/lucas.nunes/cern_data/lucas.nunes/lorenzetti/2024_08_20_21_08_0000000000_zee/HIT/zee.HIT.3.root\n",
       "  /home/lucas.nunes/cern_data/lucas.nunes/lorenzetti/2024_08_20_21_08_0000000000_zee/HIT/zee.HIT.2.root\n",
       "  /home/lucas.nunes/cern_data/lucas.nunes/lorenzetti/2024_08_20_21_08_0000000000_zee/HIT/zee.HIT.1.root\n",
       "  /home/lucas.nunes/cern_data/lucas.nunes/lorenzetti/2024_08_20_21_08_0000000000_zee/HIT/zee.HIT.0.root\n",
       "\n",
       "Property                Value\n",
       "--------                -----\n",
       "Columns in total           36\n",
       "Columns from defines        0\n",
       "Event loops run             1\n",
       "Processing slots           40\n",
       "\n",
       "Column                                  Type                                            Origin\n",
       "------                                  ----                                            ------\n",
       "CaloHitContainer_Hits                   ROOT::VecOps::RVec<xAOD::CaloHit_t>             Dataset\n",
       "CaloHitContainer_Hits.bc_duration       ROOT::VecOps::RVec<Float_t>                     Dataset\n",
       "CaloHitContainer_Hits.bcid_end          ROOT::VecOps::RVec<Int_t>                       Dataset\n",
       "CaloHitContainer_Hits.bcid_start        ROOT::VecOps::RVec<Int_t>                       Dataset\n",
       "CaloHitContainer_Hits.deta              ROOT::VecOps::RVec<Float_t>                     Dataset\n",
       "CaloHitContainer_Hits.detector          ROOT::VecOps::RVec<Int_t>                       Dataset\n",
       "CaloHitContainer_Hits.dphi              ROOT::VecOps::RVec<Float_t>                     Dataset\n",
       "CaloHitContainer_Hits.edep              ROOT::VecOps::RVec<vector<float>>               Dataset\n",
       "CaloHitContainer_Hits.eta               ROOT::VecOps::RVec<Float_t>                     Dataset\n",
       "CaloHitContainer_Hits.hash              ROOT::VecOps::RVec<ULong_t>                     Dataset\n",
       "CaloHitContainer_Hits.phi               ROOT::VecOps::RVec<Float_t>                     Dataset\n",
       "CaloHitContainer_Hits.sampling          ROOT::VecOps::RVec<Int_t>                       Dataset\n",
       "CaloHitContainer_Hits.tof               ROOT::VecOps::RVec<vector<float>>               Dataset\n",
       "EventInfoContainer_Events               ROOT::VecOps::RVec<xAOD::EventInfo_t>           Dataset\n",
       "EventInfoContainer_Events.avgmu         ROOT::VecOps::RVec<Float_t>                     Dataset\n",
       "EventInfoContainer_Events.eventNumber   ROOT::VecOps::RVec<Float_t>                     Dataset\n",
       "EventInfoContainer_Events.runNumber     ROOT::VecOps::RVec<Float_t>                     Dataset\n",
       "EventSeedContainer_Seeds                ROOT::VecOps::RVec<xAOD::EventSeed_t>           Dataset\n",
       "EventSeedContainer_Seeds.e              ROOT::VecOps::RVec<Float_t>                     Dataset\n",
       "EventSeedContainer_Seeds.et             ROOT::VecOps::RVec<Float_t>                     Dataset\n",
       "EventSeedContainer_Seeds.eta            ROOT::VecOps::RVec<Float_t>                     Dataset\n",
       "EventSeedContainer_Seeds.id             ROOT::VecOps::RVec<Int_t>                       Dataset\n",
       "EventSeedContainer_Seeds.phi            ROOT::VecOps::RVec<Float_t>                     Dataset\n",
       "TruthParticleContainer_Particles        ROOT::VecOps::RVec<xAOD::TruthParticle_t>       Dataset\n",
       "TruthParticleContainer_Particles.e      ROOT::VecOps::RVec<Float_t>                     Dataset\n",
       "TruthParticleContainer_Particles.et     ROOT::VecOps::RVec<Float_t>                     Dataset\n",
       "TruthParticleContainer_Particles.eta    ROOT::VecOps::RVec<Float_t>                     Dataset\n",
       "TruthParticleContainer_Particles.pdgid  ROOT::VecOps::RVec<Int_t>                       Dataset\n",
       "TruthParticleContainer_Particles.phi    ROOT::VecOps::RVec<Float_t>                     Dataset\n",
       "TruthParticleContainer_Particles.px     ROOT::VecOps::RVec<Float_t>                     Dataset\n",
       "TruthParticleContainer_Particles.py     ROOT::VecOps::RVec<Float_t>                     Dataset\n",
       "TruthParticleContainer_Particles.pz     ROOT::VecOps::RVec<Float_t>                     Dataset\n",
       "TruthParticleContainer_Particles.seedid ROOT::VecOps::RVec<Int_t>                       Dataset\n",
       "TruthParticleContainer_Particles.vx     ROOT::VecOps::RVec<Float_t>                     Dataset\n",
       "TruthParticleContainer_Particles.vy     ROOT::VecOps::RVec<Float_t>                     Dataset\n",
       "TruthParticleContainer_Particles.vz     ROOT::VecOps::RVec<Float_t>                     Dataset"
      ]
     },
     "execution_count": 3,
     "metadata": {},
     "output_type": "execute_result"
    },
    {
     "name": "stderr",
     "output_type": "stream",
     "text": [
      "Warning in <TClass::Init>: no dictionary for class xAOD::EventInfo_t is available\n",
      "Warning in <TClass::Init>: no dictionary for class xAOD::EventSeed_t is available\n",
      "Warning in <TClass::Init>: no dictionary for class xAOD::TruthParticle_t is available\n",
      "Warning in <TClass::Init>: no dictionary for class xAOD::CaloHit_t is available\n"
     ]
    }
   ],
   "source": [
    "hit_rdf = dataset.get_hit_rdf()\n",
    "n_samples = hit_rdf.Count().GetValue()\n",
    "print(f'N Samples: {n_samples}')\n",
    "hit_rdf.Describe()"
   ]
  },
  {
   "cell_type": "code",
   "execution_count": null,
   "id": "2f4f78c8-b04f-4010-afa6-5df644ad1a20",
   "metadata": {},
   "outputs": [],
   "source": []
  }
 ],
 "metadata": {
  "kernelspec": {
   "display_name": "Python 3 (ipykernel)",
   "language": "python",
   "name": "python3"
  },
  "language_info": {
   "codemirror_mode": {
    "name": "ipython",
    "version": 3
   },
   "file_extension": ".py",
   "mimetype": "text/x-python",
   "name": "python",
   "nbconvert_exporter": "python",
   "pygments_lexer": "ipython3",
   "version": "3.8.10"
  }
 },
 "nbformat": 4,
 "nbformat_minor": 5
}
