{
 "cells": [
  {
   "cell_type": "markdown",
   "id": "bbc0fb01",
   "metadata": {},
   "source": [
    "# Rings Profile\n",
    "This notebook contains code to analyze the rings data, in order to check if the data is in order and its distributions."
   ]
  },
  {
   "cell_type": "code",
   "execution_count": 1,
   "id": "004b3a57",
   "metadata": {},
   "outputs": [],
   "source": [
    "from boosted_lorenzetti.dataset import LztDataset\n",
    "from boosted_lorenzetti.constants import N_RINGS\n",
    "from boosted_lorenzetti.utils import set_logger\n",
    "import boosted_lorenzetti.plotting.pyplot as lplt\n",
    "import mplhep\n",
    "import matplotlib.pyplot as plt\n",
    "import matplotlib as mpl\n",
    "from pathlib import Path\n",
    "import ROOT\n",
    "import numpy as np\n",
    "import pandas as pd\n",
    "import logging\n",
    "from tqdm import tqdm"
   ]
  },
  {
   "cell_type": "code",
   "execution_count": 2,
   "id": "571df43d",
   "metadata": {},
   "outputs": [],
   "source": [
    "ROOT.EnableImplicitMT()\n",
    "plt.style.use(mplhep.style.ATLAS)\n",
    "set_logger()\n",
    "mpl.rc('text', usetex = True)"
   ]
  },
  {
   "cell_type": "markdown",
   "id": "a8c0ea47",
   "metadata": {},
   "source": [
    "# Load data"
   ]
  },
  {
   "cell_type": "code",
   "execution_count": 3,
   "id": "d10cdc7e",
   "metadata": {},
   "outputs": [
    {
     "data": {
      "text/plain": [
       "{'zee': {'ds': LztDataset(path=/root/data/lorenzetti/v2.2.0/user.joao.pinto.mc25_13TeV.250520.Pythia8EvtGen_Zee.100k, label=Z->ee),\n",
       "  'color': 'blue',\n",
       "  'label': '$Z \\\\to ee$'},\n",
       " 'zee_w_pileup': {'ds': LztDataset(path=/root/data/lorenzetti/v2.2.0/user.joao.pinto.mc25_13TeV.250520.Pythia8EvtGen_Zee.100k.avgmu250_sigmamu50, label=Z->ee),\n",
       "  'color': 'red',\n",
       "  'label': '$Z \\\\to ee + <\\\\mu>=250$'}}"
      ]
     },
     "execution_count": 3,
     "metadata": {},
     "output_type": "execute_result"
    }
   ],
   "source": [
    "lzt_data = Path.home() / 'data' / 'lorenzetti'\n",
    "output_dir = lzt_data / 'profiles' / 'boosted-lorenzetti-2025-04-18'\n",
    "output_dir.mkdir(exist_ok=True, parents=True)\n",
    "datasets = {}\n",
    "datasets['zee'] = {\n",
    "    'ds': LztDataset.from_dir(\n",
    "        lzt_data / 'v2.2.0' / 'user.joao.pinto.mc25_13TeV.250520.Pythia8EvtGen_Zee.100k'\n",
    "    ),\n",
    "    'color': 'blue',\n",
    "    'label': '$Z \\\\to ee$',\n",
    "}\n",
    "\n",
    "datasets['zee_w_pileup'] = {\n",
    "    'ds': LztDataset.from_dir(\n",
    "        lzt_data / 'v2.2.0' / 'user.joao.pinto.mc25_13TeV.250520.Pythia8EvtGen_Zee.100k.avgmu250_sigmamu50'\n",
    "    ),\n",
    "    'color': 'red',\n",
    "    'label': '$Z \\\\to ee + <\\\\mu>=250$',\n",
    "}\n",
    "\n",
    "datasets"
   ]
  },
  {
   "cell_type": "code",
   "execution_count": 4,
   "id": "3c51e878",
   "metadata": {},
   "outputs": [],
   "source": [
    "def load_data_from_aod(dataset: LztDataset, n_entries: int = -1) -> pd.DataFrame:\n",
    "    rings_info = []\n",
    "    iterator = tqdm(enumerate(dataset.aod_tchain),\n",
    "                    desc='Processing events', unit=' events')\n",
    "    if n_entries < 0:\n",
    "        n_entries = np.inf\n",
    "    for entry, aod_event in iterator:\n",
    "        if entry >= n_entries:\n",
    "            break\n",
    "        event_number = aod_event.EventInfoContainer_Events[0].eventNumber\n",
    "        for iring, rings_data in enumerate(aod_event.CaloRingsContainer_Rings):\n",
    "            if rings_data.cluster_link >= len(aod_event.CaloClusterContainer_Clusters):\n",
    "                logging.warning(f'{entry} - Event {event_number} - '\n",
    "                                f'iring {iring} - Cluster link {rings_data.cluster_link} out of range')\n",
    "                continue\n",
    "            cluster_data = aod_event.CaloClusterContainer_Clusters[rings_data.cluster_link]\n",
    "            record = {\n",
    "                'event_number': event_number,\n",
    "                'rings_size': len(rings_data.rings),\n",
    "                'cl_eta': cluster_data.eta,\n",
    "                'cl_phi': cluster_data.phi,\n",
    "            }\n",
    "            for i, ring in enumerate(rings_data.rings):\n",
    "                record[f'ring_{i}'] = ring\n",
    "            rings_info.append(record)\n",
    "    rings_info = pd.DataFrame.from_dict(rings_info)\n",
    "    return rings_info"
   ]
  },
  {
   "cell_type": "code",
   "execution_count": 5,
   "id": "4fc424cf",
   "metadata": {},
   "outputs": [],
   "source": [
    "def load_data_from_ntuple(dataset: LztDataset, n_entries: int = -1) -> pd.DataFrame:\n",
    "    rings_info = []\n",
    "    iterator = tqdm(enumerate(dataset.ntuple_tchain))\n",
    "    if n_entries < 0:\n",
    "        n_entries = np.inf\n",
    "    for entry, event in iterator:\n",
    "        if entry >= n_entries:\n",
    "            break\n",
    "        record = {\n",
    "            'event_number': event.EventNumber,\n",
    "            'rings_size': len(event.cl_rings),\n",
    "            'cl_eta': event.cl_eta,\n",
    "            'cl_phi': event.cl_phi,\n",
    "        }\n",
    "        for i, ring in enumerate(event.cl_rings):\n",
    "            record[f'ring_{i}'] = ring\n",
    "        rings_info.append(record)\n",
    "    rings_info = pd.DataFrame.from_dict(rings_info)\n",
    "    return rings_info"
   ]
  },
  {
   "cell_type": "code",
   "execution_count": 6,
   "id": "115f9bd6",
   "metadata": {},
   "outputs": [
    {
     "name": "stdout",
     "output_type": "stream",
     "text": [
      "2025-07-27 21:03:59 | INFO | root | 3318279325 | 10 | Loading zee\n"
     ]
    },
    {
     "name": "stderr",
     "output_type": "stream",
     "text": [
      "Processing events: 13068 events [02:30, 104.14 events/s]"
     ]
    },
    {
     "name": "stdout",
     "output_type": "stream",
     "text": [
      "2025-07-27 21:06:30 | WARNING | root | 758006356 | 13 | 13076 - Event 27299.0 - iring 0 - Cluster link 1 out of range\n"
     ]
    },
    {
     "name": "stderr",
     "output_type": "stream",
     "text": [
      "Processing events: 19838 events [03:47, 75.48 events/s] "
     ]
    },
    {
     "name": "stdout",
     "output_type": "stream",
     "text": [
      "2025-07-27 21:07:47 | WARNING | root | 758006356 | 13 | 19842 - Event 88526.0 - iring 0 - Cluster link 1 out of range\n"
     ]
    },
    {
     "name": "stderr",
     "output_type": "stream",
     "text": [
      "Processing events: 56451 events [10:48, 62.75 events/s] "
     ]
    },
    {
     "name": "stdout",
     "output_type": "stream",
     "text": [
      "2025-07-27 21:14:48 | WARNING | root | 758006356 | 13 | 56459 - Event 22157.0 - iring 0 - Cluster link 1 out of range\n"
     ]
    },
    {
     "name": "stderr",
     "output_type": "stream",
     "text": [
      "Processing events: 74900 events [14:32, 85.81 events/s] \n"
     ]
    },
    {
     "name": "stdout",
     "output_type": "stream",
     "text": [
      "2025-07-27 21:18:34 | INFO | root | 3318279325 | 17 | Writing rings_info to parquet\n",
      "2025-07-27 21:18:41 | INFO | root | 3318279325 | 10 | Loading zee_w_pileup\n"
     ]
    },
    {
     "name": "stderr",
     "output_type": "stream",
     "text": [
      "Processing events: 3119 events [00:38, 95.19 events/s] "
     ]
    },
    {
     "name": "stdout",
     "output_type": "stream",
     "text": [
      "2025-07-27 21:19:20 | WARNING | root | 758006356 | 13 | 3119 - Event 58828.0 - iring 0 - Cluster link 1 out of range\n"
     ]
    },
    {
     "name": "stderr",
     "output_type": "stream",
     "text": [
      "Processing events: 3851 events [00:47, 84.54 events/s]"
     ]
    },
    {
     "name": "stdout",
     "output_type": "stream",
     "text": [
      "2025-07-27 21:19:29 | WARNING | root | 758006356 | 13 | 3857 - Event 13994.0 - iring 0 - Cluster link 1 out of range\n"
     ]
    },
    {
     "name": "stderr",
     "output_type": "stream",
     "text": [
      "Processing events: 4091 events [00:50, 81.12 events/s]"
     ]
    },
    {
     "name": "stdout",
     "output_type": "stream",
     "text": [
      "2025-07-27 21:19:32 | WARNING | root | 758006356 | 13 | 4097 - Event 63466.0 - iring 0 - Cluster link 1 out of range\n"
     ]
    },
    {
     "name": "stderr",
     "output_type": "stream",
     "text": [
      "Processing events: 6534 events [01:20, 70.68 events/s] "
     ]
    },
    {
     "name": "stdout",
     "output_type": "stream",
     "text": [
      "2025-07-27 21:20:02 | WARNING | root | 758006356 | 13 | 6540 - Event 32134.0 - iring 0 - Cluster link 1 out of range\n"
     ]
    },
    {
     "name": "stderr",
     "output_type": "stream",
     "text": [
      "Processing events: 6929 events [01:25, 83.59 events/s] "
     ]
    },
    {
     "name": "stdout",
     "output_type": "stream",
     "text": [
      "2025-07-27 21:20:06 | WARNING | root | 758006356 | 13 | 6935 - Event 85728.0 - iring 0 - Cluster link 1 out of range\n"
     ]
    },
    {
     "name": "stderr",
     "output_type": "stream",
     "text": [
      "Processing events: 7081 events [01:27, 75.37 events/s]"
     ]
    },
    {
     "name": "stdout",
     "output_type": "stream",
     "text": [
      "2025-07-27 21:20:09 | WARNING | root | 758006356 | 13 | 7087 - Event 6516.0 - iring 0 - Cluster link 1 out of range\n"
     ]
    },
    {
     "name": "stderr",
     "output_type": "stream",
     "text": [
      "Processing events: 8174 events [01:40, 84.01 events/s] "
     ]
    },
    {
     "name": "stdout",
     "output_type": "stream",
     "text": [
      "2025-07-27 21:20:22 | WARNING | root | 758006356 | 13 | 8180 - Event 59809.0 - iring 0 - Cluster link 1 out of range\n"
     ]
    },
    {
     "name": "stderr",
     "output_type": "stream",
     "text": [
      "Processing events: 9824 events [02:01, 73.68 events/s] "
     ]
    },
    {
     "name": "stdout",
     "output_type": "stream",
     "text": [
      "2025-07-27 21:20:42 | WARNING | root | 758006356 | 13 | 9824 - Event 55257.0 - iring 0 - Cluster link 1 out of range\n"
     ]
    },
    {
     "name": "stderr",
     "output_type": "stream",
     "text": [
      "Processing events: 10421 events [02:08, 84.01 events/s] "
     ]
    },
    {
     "name": "stdout",
     "output_type": "stream",
     "text": [
      "2025-07-27 21:20:49 | WARNING | root | 758006356 | 13 | 10430 - Event 12593.0 - iring 0 - Cluster link 1 out of range\n"
     ]
    },
    {
     "name": "stderr",
     "output_type": "stream",
     "text": [
      "Processing events: 12343 events [02:31, 83.73 events/s] "
     ]
    },
    {
     "name": "stdout",
     "output_type": "stream",
     "text": [
      "2025-07-27 21:21:12 | WARNING | root | 758006356 | 13 | 12348 - Event 14223.0 - iring 0 - Cluster link 1 out of range\n"
     ]
    },
    {
     "name": "stderr",
     "output_type": "stream",
     "text": [
      "Processing events: 13111 events [02:40, 82.37 events/s] "
     ]
    },
    {
     "name": "stdout",
     "output_type": "stream",
     "text": [
      "2025-07-27 21:21:22 | WARNING | root | 758006356 | 13 | 13119 - Event 38613.0 - iring 0 - Cluster link 1 out of range\n"
     ]
    },
    {
     "name": "stderr",
     "output_type": "stream",
     "text": [
      "Processing events: 13817 events [02:48, 85.84 events/s] "
     ]
    },
    {
     "name": "stdout",
     "output_type": "stream",
     "text": [
      "2025-07-27 21:21:30 | WARNING | root | 758006356 | 13 | 13823 - Event 53120.0 - iring 0 - Cluster link 1 out of range\n"
     ]
    },
    {
     "name": "stderr",
     "output_type": "stream",
     "text": [
      "Processing events: 15522 events [03:10, 72.76 events/s]"
     ]
    },
    {
     "name": "stdout",
     "output_type": "stream",
     "text": [
      "2025-07-27 21:21:51 | WARNING | root | 758006356 | 13 | 15525 - Event 74957.0 - iring 0 - Cluster link 1 out of range\n"
     ]
    },
    {
     "name": "stderr",
     "output_type": "stream",
     "text": [
      "Processing events: 15577 events [03:10, 76.34 events/s]"
     ]
    },
    {
     "name": "stdout",
     "output_type": "stream",
     "text": [
      "2025-07-27 21:21:52 | WARNING | root | 758006356 | 13 | 15587 - Event 74980.0 - iring 0 - Cluster link 1 out of range\n"
     ]
    },
    {
     "name": "stderr",
     "output_type": "stream",
     "text": [
      "Processing events: 15908 events [03:15, 68.10 events/s]"
     ]
    },
    {
     "name": "stdout",
     "output_type": "stream",
     "text": [
      "2025-07-27 21:21:56 | WARNING | root | 758006356 | 13 | 15913 - Event 76019.0 - iring 0 - Cluster link 1 out of range\n"
     ]
    },
    {
     "name": "stderr",
     "output_type": "stream",
     "text": [
      "Processing events: 18702 events [03:49, 77.10 events/s] "
     ]
    },
    {
     "name": "stdout",
     "output_type": "stream",
     "text": [
      "2025-07-27 21:22:30 | WARNING | root | 758006356 | 13 | 18709 - Event 21490.0 - iring 0 - Cluster link 1 out of range\n"
     ]
    },
    {
     "name": "stderr",
     "output_type": "stream",
     "text": [
      "Processing events: 18969 events [03:52, 78.10 events/s]"
     ]
    },
    {
     "name": "stdout",
     "output_type": "stream",
     "text": [
      "2025-07-27 21:22:34 | WARNING | root | 758006356 | 13 | 18976 - Event 37993.0 - iring 0 - Cluster link 1 out of range\n"
     ]
    },
    {
     "name": "stderr",
     "output_type": "stream",
     "text": [
      "Processing events: 19160 events [03:55, 77.44 events/s]"
     ]
    },
    {
     "name": "stdout",
     "output_type": "stream",
     "text": [
      "2025-07-27 21:22:36 | WARNING | root | 758006356 | 13 | 19161 - Event 72882.0 - iring 0 - Cluster link 1 out of range\n"
     ]
    },
    {
     "name": "stderr",
     "output_type": "stream",
     "text": [
      "Processing events: 21775 events [04:27, 87.11 events/s] "
     ]
    },
    {
     "name": "stdout",
     "output_type": "stream",
     "text": [
      "2025-07-27 21:23:08 | WARNING | root | 758006356 | 13 | 21782 - Event 54819.0 - iring 0 - Cluster link 1 out of range\n"
     ]
    },
    {
     "name": "stderr",
     "output_type": "stream",
     "text": [
      "Processing events: 22255 events [04:33, 81.32 events/s] "
     ]
    },
    {
     "name": "stdout",
     "output_type": "stream",
     "text": [
      "2025-07-27 21:23:14 | WARNING | root | 758006356 | 13 | 22262 - Event 51041.0 - iring 0 - Cluster link 1 out of range\n"
     ]
    },
    {
     "name": "stderr",
     "output_type": "stream",
     "text": [
      "Processing events: 24225 events [04:57, 81.92 events/s] "
     ]
    },
    {
     "name": "stdout",
     "output_type": "stream",
     "text": [
      "2025-07-27 21:23:39 | WARNING | root | 758006356 | 13 | 24226 - Event 79092.0 - iring 0 - Cluster link 1 out of range\n"
     ]
    },
    {
     "name": "stderr",
     "output_type": "stream",
     "text": [
      "Processing events: 24490 events [05:00, 107.68 events/s]"
     ]
    },
    {
     "name": "stdout",
     "output_type": "stream",
     "text": [
      "2025-07-27 21:23:42 | WARNING | root | 758006356 | 13 | 24497 - Event 97273.0 - iring 0 - Cluster link 1 out of range\n"
     ]
    },
    {
     "name": "stderr",
     "output_type": "stream",
     "text": [
      "Processing events: 25563 events [05:14, 86.90 events/s] "
     ]
    },
    {
     "name": "stdout",
     "output_type": "stream",
     "text": [
      "2025-07-27 21:23:55 | WARNING | root | 758006356 | 13 | 25563 - Event 61504.0 - iring 0 - Cluster link 1 out of range\n"
     ]
    },
    {
     "name": "stderr",
     "output_type": "stream",
     "text": [
      "Processing events: 26277 events [05:22, 81.67 events/s]"
     ]
    },
    {
     "name": "stdout",
     "output_type": "stream",
     "text": [
      "2025-07-27 21:24:04 | WARNING | root | 758006356 | 13 | 26284 - Event 70253.0 - iring 0 - Cluster link 1 out of range\n"
     ]
    },
    {
     "name": "stderr",
     "output_type": "stream",
     "text": [
      "Processing events: 27595 events [05:38, 94.03 events/s] "
     ]
    },
    {
     "name": "stdout",
     "output_type": "stream",
     "text": [
      "2025-07-27 21:24:20 | WARNING | root | 758006356 | 13 | 27601 - Event 79944.0 - iring 0 - Cluster link 1 out of range\n"
     ]
    },
    {
     "name": "stderr",
     "output_type": "stream",
     "text": [
      "Processing events: 28254 events [05:46, 95.15 events/s] "
     ]
    },
    {
     "name": "stdout",
     "output_type": "stream",
     "text": [
      "2025-07-27 21:24:28 | WARNING | root | 758006356 | 13 | 28255 - Event 52481.0 - iring 0 - Cluster link 1 out of range\n"
     ]
    },
    {
     "name": "stderr",
     "output_type": "stream",
     "text": [
      "Processing events: 28401 events [05:48, 64.55 events/s] "
     ]
    },
    {
     "name": "stdout",
     "output_type": "stream",
     "text": [
      "2025-07-27 21:24:30 | WARNING | root | 758006356 | 13 | 28410 - Event 78616.0 - iring 0 - Cluster link 1 out of range\n"
     ]
    },
    {
     "name": "stderr",
     "output_type": "stream",
     "text": [
      "Processing events: 33277 events [06:47, 94.33 events/s] "
     ]
    },
    {
     "name": "stdout",
     "output_type": "stream",
     "text": [
      "2025-07-27 21:25:29 | WARNING | root | 758006356 | 13 | 33279 - Event 8353.0 - iring 0 - Cluster link 1 out of range\n"
     ]
    },
    {
     "name": "stderr",
     "output_type": "stream",
     "text": [
      "Processing events: 33296 events [06:47, 82.59 events/s]"
     ]
    },
    {
     "name": "stdout",
     "output_type": "stream",
     "text": [
      "2025-07-27 21:25:29 | WARNING | root | 758006356 | 13 | 33303 - Event 17884.0 - iring 0 - Cluster link 1 out of range\n"
     ]
    },
    {
     "name": "stderr",
     "output_type": "stream",
     "text": [
      "Processing events: 33614 events [06:52, 63.72 events/s] "
     ]
    },
    {
     "name": "stdout",
     "output_type": "stream",
     "text": [
      "2025-07-27 21:25:33 | WARNING | root | 758006356 | 13 | 33627 - Event 48875.0 - iring 0 - Cluster link 1 out of range\n"
     ]
    },
    {
     "name": "stderr",
     "output_type": "stream",
     "text": [
      "Processing events: 37313 events [07:38, 64.26 events/s] "
     ]
    },
    {
     "name": "stdout",
     "output_type": "stream",
     "text": [
      "2025-07-27 21:26:20 | WARNING | root | 758006356 | 13 | 37315 - Event 55033.0 - iring 0 - Cluster link 1 out of range\n"
     ]
    },
    {
     "name": "stderr",
     "output_type": "stream",
     "text": [
      "Processing events: 38699 events [07:57, 77.33 events/s]"
     ]
    },
    {
     "name": "stdout",
     "output_type": "stream",
     "text": [
      "2025-07-27 21:26:39 | WARNING | root | 758006356 | 13 | 38703 - Event 61036.0 - iring 0 - Cluster link 1 out of range\n"
     ]
    },
    {
     "name": "stderr",
     "output_type": "stream",
     "text": [
      "Processing events: 39782 events [08:11, 86.16 events/s] "
     ]
    },
    {
     "name": "stdout",
     "output_type": "stream",
     "text": [
      "2025-07-27 21:26:52 | WARNING | root | 758006356 | 13 | 39786 - Event 46004.0 - iring 0 - Cluster link 1 out of range\n"
     ]
    },
    {
     "name": "stderr",
     "output_type": "stream",
     "text": [
      "Processing events: 39943 events [08:13, 67.69 events/s]"
     ]
    },
    {
     "name": "stdout",
     "output_type": "stream",
     "text": [
      "2025-07-27 21:26:55 | WARNING | root | 758006356 | 13 | 39948 - Event 78589.0 - iring 0 - Cluster link 1 out of range\n"
     ]
    },
    {
     "name": "stderr",
     "output_type": "stream",
     "text": [
      "Processing events: 40646 events [08:22, 87.21 events/s] "
     ]
    },
    {
     "name": "stdout",
     "output_type": "stream",
     "text": [
      "2025-07-27 21:27:04 | WARNING | root | 758006356 | 13 | 40647 - Event 39647.0 - iring 0 - Cluster link 1 out of range\n"
     ]
    },
    {
     "name": "stderr",
     "output_type": "stream",
     "text": [
      "Processing events: 41664 events [08:35, 70.68 events/s]"
     ]
    },
    {
     "name": "stdout",
     "output_type": "stream",
     "text": [
      "2025-07-27 21:27:17 | WARNING | root | 758006356 | 13 | 41666 - Event 99963.0 - iring 0 - Cluster link 1 out of range\n"
     ]
    },
    {
     "name": "stderr",
     "output_type": "stream",
     "text": [
      "Processing events: 42535 events [08:46, 74.33 events/s] "
     ]
    },
    {
     "name": "stdout",
     "output_type": "stream",
     "text": [
      "2025-07-27 21:27:28 | WARNING | root | 758006356 | 13 | 42535 - Event 24868.0 - iring 0 - Cluster link 1 out of range\n"
     ]
    },
    {
     "name": "stderr",
     "output_type": "stream",
     "text": [
      "Processing events: 42551 events [08:46, 69.01 events/s]"
     ]
    },
    {
     "name": "stdout",
     "output_type": "stream",
     "text": [
      "2025-07-27 21:27:28 | WARNING | root | 758006356 | 13 | 42559 - Event 24844.0 - iring 0 - Cluster link 1 out of range\n"
     ]
    },
    {
     "name": "stderr",
     "output_type": "stream",
     "text": [
      "Processing events: 42703 events [08:48, 82.77 events/s]"
     ]
    },
    {
     "name": "stdout",
     "output_type": "stream",
     "text": [
      "2025-07-27 21:27:30 | WARNING | root | 758006356 | 13 | 42707 - Event 75395.0 - iring 0 - Cluster link 1 out of range\n"
     ]
    },
    {
     "name": "stderr",
     "output_type": "stream",
     "text": [
      "Processing events: 43094 events [08:53, 90.05 events/s]"
     ]
    },
    {
     "name": "stdout",
     "output_type": "stream",
     "text": [
      "2025-07-27 21:27:35 | WARNING | root | 758006356 | 13 | 43102 - Event 56011.0 - iring 0 - Cluster link 1 out of range\n"
     ]
    },
    {
     "name": "stderr",
     "output_type": "stream",
     "text": [
      "Processing events: 43714 events [09:01, 68.26 events/s]"
     ]
    },
    {
     "name": "stdout",
     "output_type": "stream",
     "text": [
      "2025-07-27 21:27:42 | WARNING | root | 758006356 | 13 | 43722 - Event 24622.0 - iring 0 - Cluster link 1 out of range\n"
     ]
    },
    {
     "name": "stderr",
     "output_type": "stream",
     "text": [
      "Processing events: 44181 events [09:07, 82.27 events/s]"
     ]
    },
    {
     "name": "stdout",
     "output_type": "stream",
     "text": [
      "2025-07-27 21:27:48 | WARNING | root | 758006356 | 13 | 44184 - Event 45331.0 - iring 0 - Cluster link 1 out of range\n"
     ]
    },
    {
     "name": "stderr",
     "output_type": "stream",
     "text": [
      "Processing events: 44210 events [09:07, 73.64 events/s]"
     ]
    },
    {
     "name": "stdout",
     "output_type": "stream",
     "text": [
      "2025-07-27 21:27:49 | WARNING | root | 758006356 | 13 | 44214 - Event 71095.0 - iring 0 - Cluster link 1 out of range\n"
     ]
    },
    {
     "name": "stderr",
     "output_type": "stream",
     "text": [
      "Processing events: 45999 events [09:30, 108.10 events/s]"
     ]
    },
    {
     "name": "stdout",
     "output_type": "stream",
     "text": [
      "2025-07-27 21:28:11 | WARNING | root | 758006356 | 13 | 46000 - Event 41800.0 - iring 0 - Cluster link 1 out of range\n"
     ]
    },
    {
     "name": "stderr",
     "output_type": "stream",
     "text": [
      "Processing events: 46326 events [09:34, 73.32 events/s] "
     ]
    },
    {
     "name": "stdout",
     "output_type": "stream",
     "text": [
      "2025-07-27 21:28:15 | WARNING | root | 758006356 | 13 | 46328 - Event 51891.0 - iring 0 - Cluster link 1 out of range\n"
     ]
    },
    {
     "name": "stderr",
     "output_type": "stream",
     "text": [
      "Processing events: 46722 events [09:39, 68.98 events/s]"
     ]
    },
    {
     "name": "stdout",
     "output_type": "stream",
     "text": [
      "2025-07-27 21:28:21 | WARNING | root | 758006356 | 13 | 46726 - Event 6705.0 - iring 0 - Cluster link 1 out of range\n"
     ]
    },
    {
     "name": "stderr",
     "output_type": "stream",
     "text": [
      "Processing events: 46861 events [09:41, 79.89 events/s]"
     ]
    },
    {
     "name": "stdout",
     "output_type": "stream",
     "text": [
      "2025-07-27 21:28:23 | WARNING | root | 758006356 | 13 | 46867 - Event 62321.0 - iring 0 - Cluster link 1 out of range\n"
     ]
    },
    {
     "name": "stderr",
     "output_type": "stream",
     "text": [
      "Processing events: 52134 events [10:44, 87.40 events/s] "
     ]
    },
    {
     "name": "stdout",
     "output_type": "stream",
     "text": [
      "2025-07-27 21:29:25 | WARNING | root | 758006356 | 13 | 52140 - Event 25788.0 - iring 0 - Cluster link 1 out of range\n"
     ]
    },
    {
     "name": "stderr",
     "output_type": "stream",
     "text": [
      "Processing events: 53185 events [10:56, 83.14 events/s] "
     ]
    },
    {
     "name": "stdout",
     "output_type": "stream",
     "text": [
      "2025-07-27 21:29:38 | WARNING | root | 758006356 | 13 | 53189 - Event 85067.0 - iring 0 - Cluster link 1 out of range\n"
     ]
    },
    {
     "name": "stderr",
     "output_type": "stream",
     "text": [
      "Processing events: 53327 events [10:58, 85.06 events/s]"
     ]
    },
    {
     "name": "stdout",
     "output_type": "stream",
     "text": [
      "2025-07-27 21:29:39 | WARNING | root | 758006356 | 13 | 53329 - Event 71786.0 - iring 0 - Cluster link 1 out of range\n"
     ]
    },
    {
     "name": "stderr",
     "output_type": "stream",
     "text": [
      "Processing events: 54341 events [11:10, 102.11 events/s]"
     ]
    },
    {
     "name": "stdout",
     "output_type": "stream",
     "text": [
      "2025-07-27 21:29:51 | WARNING | root | 758006356 | 13 | 54347 - Event 25592.0 - iring 0 - Cluster link 1 out of range\n"
     ]
    },
    {
     "name": "stderr",
     "output_type": "stream",
     "text": [
      "Processing events: 54453 events [11:11, 89.42 events/s] "
     ]
    },
    {
     "name": "stdout",
     "output_type": "stream",
     "text": [
      "2025-07-27 21:29:52 | WARNING | root | 758006356 | 13 | 54453 - Event 71149.0 - iring 0 - Cluster link 1 out of range\n"
     ]
    },
    {
     "name": "stderr",
     "output_type": "stream",
     "text": [
      "Processing events: 54629 events [11:13, 72.87 events/s]"
     ]
    },
    {
     "name": "stdout",
     "output_type": "stream",
     "text": [
      "2025-07-27 21:29:55 | WARNING | root | 758006356 | 13 | 54632 - Event 50947.0 - iring 0 - Cluster link 1 out of range\n"
     ]
    },
    {
     "name": "stderr",
     "output_type": "stream",
     "text": [
      "Processing events: 55284 events [11:23, 73.20 events/s]"
     ]
    },
    {
     "name": "stdout",
     "output_type": "stream",
     "text": [
      "2025-07-27 21:30:04 | WARNING | root | 758006356 | 13 | 55291 - Event 16740.0 - iring 0 - Cluster link 1 out of range\n"
     ]
    },
    {
     "name": "stderr",
     "output_type": "stream",
     "text": [
      "Processing events: 55645 events [11:27, 73.56 events/s]"
     ]
    },
    {
     "name": "stdout",
     "output_type": "stream",
     "text": [
      "2025-07-27 21:30:09 | WARNING | root | 758006356 | 13 | 55650 - Event 40510.0 - iring 0 - Cluster link 1 out of range\n"
     ]
    },
    {
     "name": "stderr",
     "output_type": "stream",
     "text": [
      "Processing events: 59594 events [12:20, 77.80 events/s]"
     ]
    },
    {
     "name": "stdout",
     "output_type": "stream",
     "text": [
      "2025-07-27 21:31:01 | WARNING | root | 758006356 | 13 | 59595 - Event 52679.0 - iring 0 - Cluster link 1 out of range\n"
     ]
    },
    {
     "name": "stderr",
     "output_type": "stream",
     "text": [
      "Processing events: 61129 events [12:42, 71.23 events/s]"
     ]
    },
    {
     "name": "stdout",
     "output_type": "stream",
     "text": [
      "2025-07-27 21:31:23 | WARNING | root | 758006356 | 13 | 61136 - Event 57466.0 - iring 0 - Cluster link 1 out of range\n"
     ]
    },
    {
     "name": "stderr",
     "output_type": "stream",
     "text": [
      "Processing events: 62189 events [12:56, 71.71 events/s]"
     ]
    },
    {
     "name": "stdout",
     "output_type": "stream",
     "text": [
      "2025-07-27 21:31:38 | WARNING | root | 758006356 | 13 | 62193 - Event 2832.0 - iring 0 - Cluster link 1 out of range\n"
     ]
    },
    {
     "name": "stderr",
     "output_type": "stream",
     "text": [
      "Processing events: 65132 events [13:39, 62.86 events/s]"
     ]
    },
    {
     "name": "stdout",
     "output_type": "stream",
     "text": [
      "2025-07-27 21:32:21 | WARNING | root | 758006356 | 13 | 65137 - Event 4528.0 - iring 0 - Cluster link 1 out of range\n"
     ]
    },
    {
     "name": "stderr",
     "output_type": "stream",
     "text": [
      "Processing events: 68689 events [14:25, 95.92 events/s] "
     ]
    },
    {
     "name": "stdout",
     "output_type": "stream",
     "text": [
      "2025-07-27 21:33:06 | WARNING | root | 758006356 | 13 | 68693 - Event 43609.0 - iring 0 - Cluster link 1 out of range\n"
     ]
    },
    {
     "name": "stderr",
     "output_type": "stream",
     "text": [
      "Processing events: 69119 events [14:30, 88.86 events/s] "
     ]
    },
    {
     "name": "stdout",
     "output_type": "stream",
     "text": [
      "2025-07-27 21:33:11 | WARNING | root | 758006356 | 13 | 69119 - Event 34471.0 - iring 0 - Cluster link 1 out of range\n"
     ]
    },
    {
     "name": "stderr",
     "output_type": "stream",
     "text": [
      "Processing events: 69422 events [14:33, 90.09 events/s] "
     ]
    },
    {
     "name": "stdout",
     "output_type": "stream",
     "text": [
      "2025-07-27 21:33:15 | WARNING | root | 758006356 | 13 | 69426 - Event 13535.0 - iring 0 - Cluster link 1 out of range\n"
     ]
    },
    {
     "name": "stderr",
     "output_type": "stream",
     "text": [
      "Processing events: 69477 events [14:34, 94.80 events/s]"
     ]
    },
    {
     "name": "stdout",
     "output_type": "stream",
     "text": [
      "2025-07-27 21:33:15 | WARNING | root | 758006356 | 13 | 69479 - Event 13515.0 - iring 0 - Cluster link 1 out of range\n"
     ]
    },
    {
     "name": "stderr",
     "output_type": "stream",
     "text": [
      "Processing events: 71132 events [14:54, 74.93 events/s] "
     ]
    },
    {
     "name": "stdout",
     "output_type": "stream",
     "text": [
      "2025-07-27 21:33:35 | WARNING | root | 758006356 | 13 | 71135 - Event 91768.0 - iring 0 - Cluster link 1 out of range\n"
     ]
    },
    {
     "name": "stderr",
     "output_type": "stream",
     "text": [
      "Processing events: 71485 events [14:58, 87.07 events/s]"
     ]
    },
    {
     "name": "stdout",
     "output_type": "stream",
     "text": [
      "2025-07-27 21:33:40 | WARNING | root | 758006356 | 13 | 71491 - Event 94566.0 - iring 0 - Cluster link 1 out of range\n"
     ]
    },
    {
     "name": "stderr",
     "output_type": "stream",
     "text": [
      "Processing events: 73801 events [15:26, 70.79 events/s] "
     ]
    },
    {
     "name": "stdout",
     "output_type": "stream",
     "text": [
      "2025-07-27 21:34:07 | WARNING | root | 758006356 | 13 | 73805 - Event 58997.0 - iring 0 - Cluster link 1 out of range\n"
     ]
    },
    {
     "name": "stderr",
     "output_type": "stream",
     "text": [
      "Processing events: 76935 events [16:07, 79.70 events/s] "
     ]
    },
    {
     "name": "stdout",
     "output_type": "stream",
     "text": [
      "2025-07-27 21:34:48 | WARNING | root | 758006356 | 13 | 76941 - Event 21098.0 - iring 0 - Cluster link 1 out of range\n"
     ]
    },
    {
     "name": "stderr",
     "output_type": "stream",
     "text": [
      "Processing events: 78661 events [16:29, 84.34 events/s]"
     ]
    },
    {
     "name": "stdout",
     "output_type": "stream",
     "text": [
      "2025-07-27 21:35:11 | WARNING | root | 758006356 | 13 | 78662 - Event 96807.0 - iring 0 - Cluster link 1 out of range\n"
     ]
    },
    {
     "name": "stderr",
     "output_type": "stream",
     "text": [
      "Processing events: 79834 events [16:45, 75.18 events/s]"
     ]
    },
    {
     "name": "stdout",
     "output_type": "stream",
     "text": [
      "2025-07-27 21:35:27 | WARNING | root | 758006356 | 13 | 79841 - Event 19358.0 - iring 0 - Cluster link 1 out of range\n"
     ]
    },
    {
     "name": "stderr",
     "output_type": "stream",
     "text": [
      "Processing events: 80629 events [16:55, 67.61 events/s] "
     ]
    },
    {
     "name": "stdout",
     "output_type": "stream",
     "text": [
      "2025-07-27 21:35:36 | WARNING | root | 758006356 | 13 | 80634 - Event 26983.0 - iring 0 - Cluster link 1 out of range\n"
     ]
    },
    {
     "name": "stderr",
     "output_type": "stream",
     "text": [
      "Processing events: 81881 events [17:11, 65.24 events/s]"
     ]
    },
    {
     "name": "stdout",
     "output_type": "stream",
     "text": [
      "2025-07-27 21:35:52 | WARNING | root | 758006356 | 13 | 81888 - Event 42381.0 - iring 0 - Cluster link 1 out of range\n"
     ]
    },
    {
     "name": "stderr",
     "output_type": "stream",
     "text": [
      "Processing events: 82451 events [17:19, 80.53 events/s]"
     ]
    },
    {
     "name": "stdout",
     "output_type": "stream",
     "text": [
      "2025-07-27 21:36:00 | WARNING | root | 758006356 | 13 | 82451 - Event 70653.0 - iring 0 - Cluster link 1 out of range\n"
     ]
    },
    {
     "name": "stderr",
     "output_type": "stream",
     "text": [
      "Processing events: 82762 events [17:23, 81.32 events/s]"
     ]
    },
    {
     "name": "stdout",
     "output_type": "stream",
     "text": [
      "2025-07-27 21:36:04 | WARNING | root | 758006356 | 13 | 82771 - Event 56365.0 - iring 0 - Cluster link 1 out of range\n"
     ]
    },
    {
     "name": "stderr",
     "output_type": "stream",
     "text": [
      "Processing events: 82888 events [17:25, 80.16 events/s]"
     ]
    },
    {
     "name": "stdout",
     "output_type": "stream",
     "text": [
      "2025-07-27 21:36:06 | WARNING | root | 758006356 | 13 | 82888 - Event 30530.0 - iring 0 - Cluster link 1 out of range\n"
     ]
    },
    {
     "name": "stderr",
     "output_type": "stream",
     "text": [
      "Processing events: 83879 events [17:39, 72.59 events/s]"
     ]
    },
    {
     "name": "stdout",
     "output_type": "stream",
     "text": [
      "2025-07-27 21:36:20 | WARNING | root | 758006356 | 13 | 83880 - Event 67759.0 - iring 0 - Cluster link 1 out of range\n"
     ]
    },
    {
     "name": "stderr",
     "output_type": "stream",
     "text": [
      "Processing events: 83968 events [17:40, 68.92 events/s]"
     ]
    },
    {
     "name": "stdout",
     "output_type": "stream",
     "text": [
      "2025-07-27 21:36:21 | WARNING | root | 758006356 | 13 | 83969 - Event 37738.0 - iring 0 - Cluster link 1 out of range\n"
     ]
    },
    {
     "name": "stderr",
     "output_type": "stream",
     "text": [
      "Processing events: 84607 events [17:48, 74.59 events/s]"
     ]
    },
    {
     "name": "stdout",
     "output_type": "stream",
     "text": [
      "2025-07-27 21:36:30 | WARNING | root | 758006356 | 13 | 84613 - Event 93925.0 - iring 0 - Cluster link 1 out of range\n"
     ]
    },
    {
     "name": "stderr",
     "output_type": "stream",
     "text": [
      "Processing events: 84818 events [17:52, 55.41 events/s]"
     ]
    },
    {
     "name": "stdout",
     "output_type": "stream",
     "text": [
      "2025-07-27 21:36:33 | WARNING | root | 758006356 | 13 | 84827 - Event 93399.0 - iring 0 - Cluster link 1 out of range\n"
     ]
    },
    {
     "name": "stderr",
     "output_type": "stream",
     "text": [
      "Processing events: 85811 events [18:05, 65.69 events/s]"
     ]
    },
    {
     "name": "stdout",
     "output_type": "stream",
     "text": [
      "2025-07-27 21:36:46 | WARNING | root | 758006356 | 13 | 85818 - Event 17922.0 - iring 0 - Cluster link 1 out of range\n"
     ]
    },
    {
     "name": "stderr",
     "output_type": "stream",
     "text": [
      "Processing events: 86475 events [18:14, 67.36 events/s]"
     ]
    },
    {
     "name": "stdout",
     "output_type": "stream",
     "text": [
      "2025-07-27 21:36:55 | WARNING | root | 758006356 | 13 | 86475 - Event 22141.0 - iring 0 - Cluster link 1 out of range\n"
     ]
    },
    {
     "name": "stderr",
     "output_type": "stream",
     "text": [
      "Processing events: 87065 events [18:22, 72.10 events/s]"
     ]
    },
    {
     "name": "stdout",
     "output_type": "stream",
     "text": [
      "2025-07-27 21:37:03 | WARNING | root | 758006356 | 13 | 87068 - Event 97661.0 - iring 0 - Cluster link 1 out of range\n"
     ]
    },
    {
     "name": "stderr",
     "output_type": "stream",
     "text": [
      "Processing events: 88295 events [18:40, 61.46 events/s]"
     ]
    },
    {
     "name": "stdout",
     "output_type": "stream",
     "text": [
      "2025-07-27 21:37:21 | WARNING | root | 758006356 | 13 | 88300 - Event 82426.0 - iring 0 - Cluster link 1 out of range\n"
     ]
    },
    {
     "name": "stderr",
     "output_type": "stream",
     "text": [
      "Processing events: 89253 events [18:53, 73.61 events/s]"
     ]
    },
    {
     "name": "stdout",
     "output_type": "stream",
     "text": [
      "2025-07-27 21:37:35 | WARNING | root | 758006356 | 13 | 89258 - Event 11167.0 - iring 0 - Cluster link 1 out of range\n"
     ]
    },
    {
     "name": "stderr",
     "output_type": "stream",
     "text": [
      "Processing events: 90911 events [19:17, 65.33 events/s]"
     ]
    },
    {
     "name": "stdout",
     "output_type": "stream",
     "text": [
      "2025-07-27 21:37:58 | WARNING | root | 758006356 | 13 | 90912 - Event 90154.0 - iring 0 - Cluster link 1 out of range\n"
     ]
    },
    {
     "name": "stderr",
     "output_type": "stream",
     "text": [
      "Processing events: 93608 events [19:57, 62.21 events/s]"
     ]
    },
    {
     "name": "stdout",
     "output_type": "stream",
     "text": [
      "2025-07-27 21:38:39 | WARNING | root | 758006356 | 13 | 93613 - Event 79725.0 - iring 0 - Cluster link 1 out of range\n"
     ]
    },
    {
     "name": "stderr",
     "output_type": "stream",
     "text": [
      "Processing events: 93726 events [19:59, 71.94 events/s]"
     ]
    },
    {
     "name": "stdout",
     "output_type": "stream",
     "text": [
      "2025-07-27 21:38:40 | WARNING | root | 758006356 | 13 | 93734 - Event 74497.0 - iring 0 - Cluster link 1 out of range\n"
     ]
    },
    {
     "name": "stderr",
     "output_type": "stream",
     "text": [
      "Processing events: 95211 events [20:18, 72.58 events/s] "
     ]
    },
    {
     "name": "stdout",
     "output_type": "stream",
     "text": [
      "2025-07-27 21:39:00 | WARNING | root | 758006356 | 13 | 95212 - Event 34652.0 - iring 0 - Cluster link 1 out of range\n"
     ]
    },
    {
     "name": "stderr",
     "output_type": "stream",
     "text": [
      "Processing events: 96348 events [20:31, 78.85 events/s] "
     ]
    },
    {
     "name": "stdout",
     "output_type": "stream",
     "text": [
      "2025-07-27 21:39:13 | WARNING | root | 758006356 | 13 | 96348 - Event 30695.0 - iring 0 - Cluster link 1 out of range\n"
     ]
    },
    {
     "name": "stderr",
     "output_type": "stream",
     "text": [
      "Processing events: 96536 events [20:34, 74.78 events/s]"
     ]
    },
    {
     "name": "stdout",
     "output_type": "stream",
     "text": [
      "2025-07-27 21:39:15 | WARNING | root | 758006356 | 13 | 96538 - Event 14449.0 - iring 0 - Cluster link 1 out of range\n"
     ]
    },
    {
     "name": "stderr",
     "output_type": "stream",
     "text": [
      "Processing events: 96606 events [20:35, 76.56 events/s]"
     ]
    },
    {
     "name": "stdout",
     "output_type": "stream",
     "text": [
      "2025-07-27 21:39:16 | WARNING | root | 758006356 | 13 | 96611 - Event 82552.0 - iring 0 - Cluster link 1 out of range\n"
     ]
    },
    {
     "name": "stderr",
     "output_type": "stream",
     "text": [
      "Processing events: 97622 events [20:47, 84.48 events/s] "
     ]
    },
    {
     "name": "stdout",
     "output_type": "stream",
     "text": [
      "2025-07-27 21:39:29 | WARNING | root | 758006356 | 13 | 97626 - Event 32201.0 - iring 0 - Cluster link 1 out of range\n"
     ]
    },
    {
     "name": "stderr",
     "output_type": "stream",
     "text": [
      "Processing events: 98355 events [20:56, 87.19 events/s] "
     ]
    },
    {
     "name": "stdout",
     "output_type": "stream",
     "text": [
      "2025-07-27 21:39:38 | WARNING | root | 758006356 | 13 | 98360 - Event 60840.0 - iring 0 - Cluster link 1 out of range\n"
     ]
    },
    {
     "name": "stderr",
     "output_type": "stream",
     "text": [
      "Processing events: 98778 events [21:01, 89.07 events/s] "
     ]
    },
    {
     "name": "stdout",
     "output_type": "stream",
     "text": [
      "2025-07-27 21:39:43 | WARNING | root | 758006356 | 13 | 98789 - Event 42079.0 - iring 0 - Cluster link 1 out of range\n"
     ]
    },
    {
     "name": "stderr",
     "output_type": "stream",
     "text": [
      "Processing events: 100000 events [21:17, 78.31 events/s]\n"
     ]
    },
    {
     "name": "stdout",
     "output_type": "stream",
     "text": [
      "2025-07-27 21:40:00 | INFO | root | 3318279325 | 17 | Writing rings_info to parquet\n"
     ]
    },
    {
     "name": "stderr",
     "output_type": "stream",
     "text": [
      "Warning in <TBranchElement::InitializeOffsets>: No streamer element for branch: CaloDetDescriptorContainer_Cells subbranch: CaloDetDescriptorContainer_Cells.sigma\n",
      "Warning in <TBranchElement::InitializeOffsets>: No streamer element for branch: EventInfoContainer_Events subbranch: EventInfoContainer_Events.totmu\n",
      "Error in <TChain::LoadTree>: Cannot find tree with name CollectionTree in file /root/data/lorenzetti/v2.2.0/user.joao.pinto.mc25_13TeV.250520.Pythia8EvtGen_Zee.100k/AOD/67284a55963b.result.AOD.root\n",
      "Error in <TChain::LoadTree>: Cannot find tree with name CollectionTree in file /root/data/lorenzetti/v2.2.0/user.joao.pinto.mc25_13TeV.250520.Pythia8EvtGen_Zee.100k/AOD/68e22b41c25c.result.AOD.root\n",
      "Error in <TChain::LoadTree>: Cannot find tree with name CollectionTree in file /root/data/lorenzetti/v2.2.0/user.joao.pinto.mc25_13TeV.250520.Pythia8EvtGen_Zee.100k/AOD/fd5a5f71567a.result.AOD.root\n",
      "Error in <TChain::LoadTree>: Cannot find tree with name CollectionTree in file /root/data/lorenzetti/v2.2.0/user.joao.pinto.mc25_13TeV.250520.Pythia8EvtGen_Zee.100k/AOD/5399b966bacb.result.AOD.root\n",
      "Error in <TChain::LoadTree>: Cannot find tree with name CollectionTree in file /root/data/lorenzetti/v2.2.0/user.joao.pinto.mc25_13TeV.250520.Pythia8EvtGen_Zee.100k/AOD/16f94ad7aa19.result.AOD.root\n",
      "Error in <TChain::LoadTree>: Cannot find tree with name CollectionTree in file /root/data/lorenzetti/v2.2.0/user.joao.pinto.mc25_13TeV.250520.Pythia8EvtGen_Zee.100k/AOD/a57f03498af1.result.AOD.root\n",
      "Error in <TChain::LoadTree>: Cannot find tree with name CollectionTree in file /root/data/lorenzetti/v2.2.0/user.joao.pinto.mc25_13TeV.250520.Pythia8EvtGen_Zee.100k/AOD/f4a001d8b56d.result.AOD.root\n",
      "Error in <TChain::LoadTree>: Cannot find tree with name CollectionTree in file /root/data/lorenzetti/v2.2.0/user.joao.pinto.mc25_13TeV.250520.Pythia8EvtGen_Zee.100k/AOD/4fc6cf048391.result.AOD.root\n",
      "Error in <TChain::LoadTree>: Cannot find tree with name CollectionTree in file /root/data/lorenzetti/v2.2.0/user.joao.pinto.mc25_13TeV.250520.Pythia8EvtGen_Zee.100k/AOD/7c8725420eda.result.AOD.root\n",
      "Error in <TChain::LoadTree>: Cannot find tree with name CollectionTree in file /root/data/lorenzetti/v2.2.0/user.joao.pinto.mc25_13TeV.250520.Pythia8EvtGen_Zee.100k/AOD/16cc4becb6ec.result.AOD.root\n",
      "Error in <TChain::LoadTree>: Cannot find tree with name CollectionTree in file /root/data/lorenzetti/v2.2.0/user.joao.pinto.mc25_13TeV.250520.Pythia8EvtGen_Zee.100k/AOD/80736e6ddd97.result.AOD.root\n",
      "Error in <TChain::LoadTree>: Cannot find tree with name CollectionTree in file /root/data/lorenzetti/v2.2.0/user.joao.pinto.mc25_13TeV.250520.Pythia8EvtGen_Zee.100k/AOD/93e39257b80d.result.AOD.root\n",
      "Error in <TChain::LoadTree>: Cannot find tree with name CollectionTree in file /root/data/lorenzetti/v2.2.0/user.joao.pinto.mc25_13TeV.250520.Pythia8EvtGen_Zee.100k/AOD/728f2302c8f4.result.AOD.root\n",
      "Error in <TChain::LoadTree>: Cannot find tree with name CollectionTree in file /root/data/lorenzetti/v2.2.0/user.joao.pinto.mc25_13TeV.250520.Pythia8EvtGen_Zee.100k/AOD/72a01dfbf646.result.AOD.root\n",
      "Error in <TChain::LoadTree>: Cannot find tree with name CollectionTree in file /root/data/lorenzetti/v2.2.0/user.joao.pinto.mc25_13TeV.250520.Pythia8EvtGen_Zee.100k/AOD/c252184a04d4.result.AOD.root\n",
      "Error in <TChain::LoadTree>: Cannot find tree with name CollectionTree in file /root/data/lorenzetti/v2.2.0/user.joao.pinto.mc25_13TeV.250520.Pythia8EvtGen_Zee.100k/AOD/260f544ed512.result.AOD.root\n",
      "Error in <TChain::LoadTree>: Cannot find tree with name CollectionTree in file /root/data/lorenzetti/v2.2.0/user.joao.pinto.mc25_13TeV.250520.Pythia8EvtGen_Zee.100k/AOD/340b290191ab.result.AOD.root\n",
      "Error in <TChain::LoadTree>: Cannot find tree with name CollectionTree in file /root/data/lorenzetti/v2.2.0/user.joao.pinto.mc25_13TeV.250520.Pythia8EvtGen_Zee.100k/AOD/5654ff68cedd.result.AOD.root\n",
      "Error in <TChain::LoadTree>: Cannot find tree with name CollectionTree in file /root/data/lorenzetti/v2.2.0/user.joao.pinto.mc25_13TeV.250520.Pythia8EvtGen_Zee.100k/AOD/2f2e7d0c4681.result.AOD.root\n",
      "Error in <TChain::LoadTree>: Cannot find tree with name CollectionTree in file /root/data/lorenzetti/v2.2.0/user.joao.pinto.mc25_13TeV.250520.Pythia8EvtGen_Zee.100k/AOD/d7352849f634.result.AOD.root\n",
      "Error in <TChain::LoadTree>: Cannot find tree with name CollectionTree in file /root/data/lorenzetti/v2.2.0/user.joao.pinto.mc25_13TeV.250520.Pythia8EvtGen_Zee.100k/AOD/b7d03f07a68c.result.AOD.root\n",
      "Error in <TChain::LoadTree>: Cannot find tree with name CollectionTree in file /root/data/lorenzetti/v2.2.0/user.joao.pinto.mc25_13TeV.250520.Pythia8EvtGen_Zee.100k/AOD/333faa917c39.result.AOD.root\n",
      "Error in <TChain::LoadTree>: Cannot find tree with name CollectionTree in file /root/data/lorenzetti/v2.2.0/user.joao.pinto.mc25_13TeV.250520.Pythia8EvtGen_Zee.100k/AOD/6dac8ab1c6ad.result.AOD.root\n",
      "Error in <TChain::LoadTree>: Cannot find tree with name CollectionTree in file /root/data/lorenzetti/v2.2.0/user.joao.pinto.mc25_13TeV.250520.Pythia8EvtGen_Zee.100k/AOD/b1c4a3298eff.result.AOD.root\n",
      "Error in <TChain::LoadTree>: Cannot find tree with name CollectionTree in file /root/data/lorenzetti/v2.2.0/user.joao.pinto.mc25_13TeV.250520.Pythia8EvtGen_Zee.100k/AOD/b087bcb79419.result.AOD.root\n",
      "Error in <TChain::LoadTree>: Cannot find tree with name CollectionTree in file /root/data/lorenzetti/v2.2.0/user.joao.pinto.mc25_13TeV.250520.Pythia8EvtGen_Zee.100k/AOD/105dd95aab44.result.AOD.root\n",
      "Error in <TChain::LoadTree>: Cannot find tree with name CollectionTree in file /root/data/lorenzetti/v2.2.0/user.joao.pinto.mc25_13TeV.250520.Pythia8EvtGen_Zee.100k/AOD/3db9f8ca93a4.result.AOD.root\n",
      "Error in <TChain::LoadTree>: Cannot find tree with name CollectionTree in file /root/data/lorenzetti/v2.2.0/user.joao.pinto.mc25_13TeV.250520.Pythia8EvtGen_Zee.100k/AOD/363c1e0e19fd.result.AOD.root\n",
      "Error in <TChain::LoadTree>: Cannot find tree with name CollectionTree in file /root/data/lorenzetti/v2.2.0/user.joao.pinto.mc25_13TeV.250520.Pythia8EvtGen_Zee.100k/AOD/35093236c267.result.AOD.root\n",
      "Error in <TChain::LoadTree>: Cannot find tree with name CollectionTree in file /root/data/lorenzetti/v2.2.0/user.joao.pinto.mc25_13TeV.250520.Pythia8EvtGen_Zee.100k/AOD/6f660e632ee8.result.AOD.root\n",
      "Error in <TChain::LoadTree>: Cannot find tree with name CollectionTree in file /root/data/lorenzetti/v2.2.0/user.joao.pinto.mc25_13TeV.250520.Pythia8EvtGen_Zee.100k/AOD/dfe99c3318a8.result.AOD.root\n",
      "Error in <TChain::LoadTree>: Cannot find tree with name CollectionTree in file /root/data/lorenzetti/v2.2.0/user.joao.pinto.mc25_13TeV.250520.Pythia8EvtGen_Zee.100k/AOD/3ddc802fcd15.result.AOD.root\n",
      "Error in <TChain::LoadTree>: Cannot find tree with name CollectionTree in file /root/data/lorenzetti/v2.2.0/user.joao.pinto.mc25_13TeV.250520.Pythia8EvtGen_Zee.100k/AOD/7ffc45386e73.result.AOD.root\n",
      "Error in <TChain::LoadTree>: Cannot find tree with name CollectionTree in file /root/data/lorenzetti/v2.2.0/user.joao.pinto.mc25_13TeV.250520.Pythia8EvtGen_Zee.100k/AOD/58b3f96c886f.result.AOD.root\n",
      "Error in <TChain::LoadTree>: Cannot find tree with name CollectionTree in file /root/data/lorenzetti/v2.2.0/user.joao.pinto.mc25_13TeV.250520.Pythia8EvtGen_Zee.100k/AOD/ed1e35746bc5.result.AOD.root\n",
      "Error in <TChain::LoadTree>: Cannot find tree with name CollectionTree in file /root/data/lorenzetti/v2.2.0/user.joao.pinto.mc25_13TeV.250520.Pythia8EvtGen_Zee.100k/AOD/87303a890e1b.result.AOD.root\n",
      "Error in <TChain::LoadTree>: Cannot find tree with name CollectionTree in file /root/data/lorenzetti/v2.2.0/user.joao.pinto.mc25_13TeV.250520.Pythia8EvtGen_Zee.100k/AOD/a497d5e64f44.result.AOD.root\n",
      "Error in <TChain::LoadTree>: Cannot find tree with name CollectionTree in file /root/data/lorenzetti/v2.2.0/user.joao.pinto.mc25_13TeV.250520.Pythia8EvtGen_Zee.100k/AOD/b2b3d18e27ff.result.AOD.root\n",
      "Error in <TChain::LoadTree>: Cannot find tree with name CollectionTree in file /root/data/lorenzetti/v2.2.0/user.joao.pinto.mc25_13TeV.250520.Pythia8EvtGen_Zee.100k/AOD/1c73b5a990f7.result.AOD.root\n",
      "Error in <TChain::LoadTree>: Cannot find tree with name CollectionTree in file /root/data/lorenzetti/v2.2.0/user.joao.pinto.mc25_13TeV.250520.Pythia8EvtGen_Zee.100k/AOD/863f6dd03344.result.AOD.root\n",
      "Error in <TChain::LoadTree>: Cannot find tree with name CollectionTree in file /root/data/lorenzetti/v2.2.0/user.joao.pinto.mc25_13TeV.250520.Pythia8EvtGen_Zee.100k/AOD/695f8ea98395.result.AOD.root\n",
      "Error in <TChain::LoadTree>: Cannot find tree with name CollectionTree in file /root/data/lorenzetti/v2.2.0/user.joao.pinto.mc25_13TeV.250520.Pythia8EvtGen_Zee.100k/AOD/ff461f975c7a.result.AOD.root\n",
      "Error in <TChain::LoadTree>: Cannot find tree with name CollectionTree in file /root/data/lorenzetti/v2.2.0/user.joao.pinto.mc25_13TeV.250520.Pythia8EvtGen_Zee.100k/AOD/12bc26f4f249.result.AOD.root\n",
      "Error in <TChain::LoadTree>: Cannot find tree with name CollectionTree in file /root/data/lorenzetti/v2.2.0/user.joao.pinto.mc25_13TeV.250520.Pythia8EvtGen_Zee.100k/AOD/6beec8fe1421.result.AOD.root\n",
      "Error in <TChain::LoadTree>: Cannot find tree with name CollectionTree in file /root/data/lorenzetti/v2.2.0/user.joao.pinto.mc25_13TeV.250520.Pythia8EvtGen_Zee.100k/AOD/148a773e89d5.result.AOD.root\n",
      "Error in <TChain::LoadTree>: Cannot find tree with name CollectionTree in file /root/data/lorenzetti/v2.2.0/user.joao.pinto.mc25_13TeV.250520.Pythia8EvtGen_Zee.100k/AOD/deafd43929ea.result.AOD.root\n",
      "Error in <TChain::LoadTree>: Cannot find tree with name CollectionTree in file /root/data/lorenzetti/v2.2.0/user.joao.pinto.mc25_13TeV.250520.Pythia8EvtGen_Zee.100k/AOD/6b8f3122b03d.result.AOD.root\n",
      "Error in <TChain::LoadTree>: Cannot find tree with name CollectionTree in file /root/data/lorenzetti/v2.2.0/user.joao.pinto.mc25_13TeV.250520.Pythia8EvtGen_Zee.100k/AOD/11d9dd03bd0d.result.AOD.root\n",
      "Error in <TChain::LoadTree>: Cannot find tree with name CollectionTree in file /root/data/lorenzetti/v2.2.0/user.joao.pinto.mc25_13TeV.250520.Pythia8EvtGen_Zee.100k/AOD/eea8883cf9fd.result.AOD.root\n",
      "Error in <TChain::LoadTree>: Cannot find tree with name CollectionTree in file /root/data/lorenzetti/v2.2.0/user.joao.pinto.mc25_13TeV.250520.Pythia8EvtGen_Zee.100k/AOD/023840234677.result.AOD.root\n",
      "Error in <TChain::LoadTree>: Cannot find tree with name CollectionTree in file /root/data/lorenzetti/v2.2.0/user.joao.pinto.mc25_13TeV.250520.Pythia8EvtGen_Zee.100k/AOD/aa2ed3cd0287.result.AOD.root\n",
      "Error in <TChain::LoadTree>: Cannot find tree with name CollectionTree in file /root/data/lorenzetti/v2.2.0/user.joao.pinto.mc25_13TeV.250520.Pythia8EvtGen_Zee.100k/AOD/99be9c081ae9.result.AOD.root\n",
      "Error in <TChain::LoadTree>: Cannot find tree with name CollectionTree in file /root/data/lorenzetti/v2.2.0/user.joao.pinto.mc25_13TeV.250520.Pythia8EvtGen_Zee.100k/AOD/6b4cdbaca649.result.AOD.root\n",
      "Error in <TChain::LoadTree>: Cannot find tree with name CollectionTree in file /root/data/lorenzetti/v2.2.0/user.joao.pinto.mc25_13TeV.250520.Pythia8EvtGen_Zee.100k/AOD/16a528d525bd.result.AOD.root\n",
      "Error in <TChain::LoadTree>: Cannot find tree with name CollectionTree in file /root/data/lorenzetti/v2.2.0/user.joao.pinto.mc25_13TeV.250520.Pythia8EvtGen_Zee.100k/AOD/50c746f3f258.result.AOD.root\n",
      "Error in <TChain::LoadTree>: Cannot find tree with name CollectionTree in file /root/data/lorenzetti/v2.2.0/user.joao.pinto.mc25_13TeV.250520.Pythia8EvtGen_Zee.100k/AOD/755d735ab0ed.result.AOD.root\n",
      "Error in <TChain::LoadTree>: Cannot find tree with name CollectionTree in file /root/data/lorenzetti/v2.2.0/user.joao.pinto.mc25_13TeV.250520.Pythia8EvtGen_Zee.100k/AOD/669e209ded45.result.AOD.root\n",
      "Error in <TChain::LoadTree>: Cannot find tree with name CollectionTree in file /root/data/lorenzetti/v2.2.0/user.joao.pinto.mc25_13TeV.250520.Pythia8EvtGen_Zee.100k/AOD/1934806beb10.result.AOD.root\n",
      "Error in <TChain::LoadTree>: Cannot find tree with name CollectionTree in file /root/data/lorenzetti/v2.2.0/user.joao.pinto.mc25_13TeV.250520.Pythia8EvtGen_Zee.100k/AOD/c1bef8ec13cf.result.AOD.root\n",
      "Error in <TChain::LoadTree>: Cannot find tree with name CollectionTree in file /root/data/lorenzetti/v2.2.0/user.joao.pinto.mc25_13TeV.250520.Pythia8EvtGen_Zee.100k/AOD/439f69e0f44c.result.AOD.root\n",
      "Error in <TChain::LoadTree>: Cannot find tree with name CollectionTree in file /root/data/lorenzetti/v2.2.0/user.joao.pinto.mc25_13TeV.250520.Pythia8EvtGen_Zee.100k/AOD/a2d363616f96.result.AOD.root\n",
      "Error in <TChain::LoadTree>: Cannot find tree with name CollectionTree in file /root/data/lorenzetti/v2.2.0/user.joao.pinto.mc25_13TeV.250520.Pythia8EvtGen_Zee.100k/AOD/f83fac97295e.result.AOD.root\n",
      "Error in <TChain::LoadTree>: Cannot find tree with name CollectionTree in file /root/data/lorenzetti/v2.2.0/user.joao.pinto.mc25_13TeV.250520.Pythia8EvtGen_Zee.100k/AOD/4a56a661a2b4.result.AOD.root\n",
      "Error in <TChain::LoadTree>: Cannot find tree with name CollectionTree in file /root/data/lorenzetti/v2.2.0/user.joao.pinto.mc25_13TeV.250520.Pythia8EvtGen_Zee.100k/AOD/e2abe6b1f2df.result.AOD.root\n",
      "Error in <TChain::LoadTree>: Cannot find tree with name CollectionTree in file /root/data/lorenzetti/v2.2.0/user.joao.pinto.mc25_13TeV.250520.Pythia8EvtGen_Zee.100k/AOD/755a1dfdcf26.result.AOD.root\n",
      "Error in <TChain::LoadTree>: Cannot find tree with name CollectionTree in file /root/data/lorenzetti/v2.2.0/user.joao.pinto.mc25_13TeV.250520.Pythia8EvtGen_Zee.100k/AOD/e3d8e6606aa2.result.AOD.root\n",
      "Error in <TChain::LoadTree>: Cannot find tree with name CollectionTree in file /root/data/lorenzetti/v2.2.0/user.joao.pinto.mc25_13TeV.250520.Pythia8EvtGen_Zee.100k/AOD/b131ef787fb7.result.AOD.root\n",
      "Error in <TChain::LoadTree>: Cannot find tree with name CollectionTree in file /root/data/lorenzetti/v2.2.0/user.joao.pinto.mc25_13TeV.250520.Pythia8EvtGen_Zee.100k/AOD/9658e7adb385.result.AOD.root\n",
      "Error in <TChain::LoadTree>: Cannot find tree with name CollectionTree in file /root/data/lorenzetti/v2.2.0/user.joao.pinto.mc25_13TeV.250520.Pythia8EvtGen_Zee.100k/AOD/641d3563c9d8.result.AOD.root\n",
      "Error in <TChain::LoadTree>: Cannot find tree with name CollectionTree in file /root/data/lorenzetti/v2.2.0/user.joao.pinto.mc25_13TeV.250520.Pythia8EvtGen_Zee.100k/AOD/7d8d25f62fca.result.AOD.root\n",
      "Error in <TChain::LoadTree>: Cannot find tree with name CollectionTree in file /root/data/lorenzetti/v2.2.0/user.joao.pinto.mc25_13TeV.250520.Pythia8EvtGen_Zee.100k/AOD/ab0ef9106cb7.result.AOD.root\n",
      "Error in <TChain::LoadTree>: Cannot find tree with name CollectionTree in file /root/data/lorenzetti/v2.2.0/user.joao.pinto.mc25_13TeV.250520.Pythia8EvtGen_Zee.100k/AOD/2719399a8a70.result.AOD.root\n",
      "Error in <TChain::LoadTree>: Cannot find tree with name CollectionTree in file /root/data/lorenzetti/v2.2.0/user.joao.pinto.mc25_13TeV.250520.Pythia8EvtGen_Zee.100k/AOD/ad383293d780.result.AOD.root\n",
      "Error in <TChain::LoadTree>: Cannot find tree with name CollectionTree in file /root/data/lorenzetti/v2.2.0/user.joao.pinto.mc25_13TeV.250520.Pythia8EvtGen_Zee.100k/AOD/4be1d9472afd.result.AOD.root\n",
      "Error in <TChain::LoadTree>: Cannot find tree with name CollectionTree in file /root/data/lorenzetti/v2.2.0/user.joao.pinto.mc25_13TeV.250520.Pythia8EvtGen_Zee.100k/AOD/450b1874afd0.result.AOD.root\n",
      "Error in <TChain::LoadTree>: Cannot find tree with name CollectionTree in file /root/data/lorenzetti/v2.2.0/user.joao.pinto.mc25_13TeV.250520.Pythia8EvtGen_Zee.100k/AOD/1f7ac94450f8.result.AOD.root\n",
      "Error in <TChain::LoadTree>: Cannot find tree with name CollectionTree in file /root/data/lorenzetti/v2.2.0/user.joao.pinto.mc25_13TeV.250520.Pythia8EvtGen_Zee.100k/AOD/458f1105fd92.result.AOD.root\n",
      "Error in <TChain::LoadTree>: Cannot find tree with name CollectionTree in file /root/data/lorenzetti/v2.2.0/user.joao.pinto.mc25_13TeV.250520.Pythia8EvtGen_Zee.100k/AOD/770d35284aa9.result.AOD.root\n",
      "Error in <TChain::LoadTree>: Cannot find tree with name CollectionTree in file /root/data/lorenzetti/v2.2.0/user.joao.pinto.mc25_13TeV.250520.Pythia8EvtGen_Zee.100k/AOD/3d46fb8c1bcb.result.AOD.root\n",
      "Error in <TChain::LoadTree>: Cannot find tree with name CollectionTree in file /root/data/lorenzetti/v2.2.0/user.joao.pinto.mc25_13TeV.250520.Pythia8EvtGen_Zee.100k/AOD/c9bcace66987.result.AOD.root\n",
      "Error in <TChain::LoadTree>: Cannot find tree with name CollectionTree in file /root/data/lorenzetti/v2.2.0/user.joao.pinto.mc25_13TeV.250520.Pythia8EvtGen_Zee.100k/AOD/25daffcb980b.result.AOD.root\n",
      "Error in <TChain::LoadTree>: Cannot find tree with name CollectionTree in file /root/data/lorenzetti/v2.2.0/user.joao.pinto.mc25_13TeV.250520.Pythia8EvtGen_Zee.100k/AOD/88e4f91a4709.result.AOD.root\n",
      "Error in <TChain::LoadTree>: Cannot find tree with name CollectionTree in file /root/data/lorenzetti/v2.2.0/user.joao.pinto.mc25_13TeV.250520.Pythia8EvtGen_Zee.100k/AOD/c29aa27fcf55.result.AOD.root\n",
      "Error in <TChain::LoadTree>: Cannot find tree with name CollectionTree in file /root/data/lorenzetti/v2.2.0/user.joao.pinto.mc25_13TeV.250520.Pythia8EvtGen_Zee.100k/AOD/53075f58d123.result.AOD.root\n",
      "Error in <TChain::LoadTree>: Cannot find tree with name CollectionTree in file /root/data/lorenzetti/v2.2.0/user.joao.pinto.mc25_13TeV.250520.Pythia8EvtGen_Zee.100k/AOD/b8316222bdba.result.AOD.root\n",
      "Error in <TChain::LoadTree>: Cannot find tree with name CollectionTree in file /root/data/lorenzetti/v2.2.0/user.joao.pinto.mc25_13TeV.250520.Pythia8EvtGen_Zee.100k/AOD/2f3e1d290d2a.result.AOD.root\n",
      "Error in <TChain::LoadTree>: Cannot find tree with name CollectionTree in file /root/data/lorenzetti/v2.2.0/user.joao.pinto.mc25_13TeV.250520.Pythia8EvtGen_Zee.100k/AOD/7e16e268812c.result.AOD.root\n",
      "Error in <TChain::LoadTree>: Cannot find tree with name CollectionTree in file /root/data/lorenzetti/v2.2.0/user.joao.pinto.mc25_13TeV.250520.Pythia8EvtGen_Zee.100k/AOD/09a2b0235ff5.result.AOD.root\n",
      "Error in <TChain::LoadTree>: Cannot find tree with name CollectionTree in file /root/data/lorenzetti/v2.2.0/user.joao.pinto.mc25_13TeV.250520.Pythia8EvtGen_Zee.100k/AOD/650f0e6fb5b1.result.AOD.root\n",
      "Error in <TChain::LoadTree>: Cannot find tree with name CollectionTree in file /root/data/lorenzetti/v2.2.0/user.joao.pinto.mc25_13TeV.250520.Pythia8EvtGen_Zee.100k/AOD/09f2b151496b.result.AOD.root\n",
      "Error in <TChain::LoadTree>: Cannot find tree with name CollectionTree in file /root/data/lorenzetti/v2.2.0/user.joao.pinto.mc25_13TeV.250520.Pythia8EvtGen_Zee.100k/AOD/da276dfa2c9a.result.AOD.root\n",
      "Error in <TChain::LoadTree>: Cannot find tree with name CollectionTree in file /root/data/lorenzetti/v2.2.0/user.joao.pinto.mc25_13TeV.250520.Pythia8EvtGen_Zee.100k/AOD/bd6b496ba3f6.result.AOD.root\n",
      "Error in <TChain::LoadTree>: Cannot find tree with name CollectionTree in file /root/data/lorenzetti/v2.2.0/user.joao.pinto.mc25_13TeV.250520.Pythia8EvtGen_Zee.100k/AOD/f3620782ebb6.result.AOD.root\n",
      "Error in <TChain::LoadTree>: Cannot find tree with name CollectionTree in file /root/data/lorenzetti/v2.2.0/user.joao.pinto.mc25_13TeV.250520.Pythia8EvtGen_Zee.100k/AOD/d0da19ae37b8.result.AOD.root\n",
      "Error in <TChain::LoadTree>: Cannot find tree with name CollectionTree in file /root/data/lorenzetti/v2.2.0/user.joao.pinto.mc25_13TeV.250520.Pythia8EvtGen_Zee.100k/AOD/486a7e858e31.result.AOD.root\n",
      "Error in <TChain::LoadTree>: Cannot find tree with name CollectionTree in file /root/data/lorenzetti/v2.2.0/user.joao.pinto.mc25_13TeV.250520.Pythia8EvtGen_Zee.100k/AOD/e3b1afe24aae.result.AOD.root\n",
      "Error in <TChain::LoadTree>: Cannot find tree with name CollectionTree in file /root/data/lorenzetti/v2.2.0/user.joao.pinto.mc25_13TeV.250520.Pythia8EvtGen_Zee.100k/AOD/f5c18adbd801.result.AOD.root\n",
      "Error in <TChain::LoadTree>: Cannot find tree with name CollectionTree in file /root/data/lorenzetti/v2.2.0/user.joao.pinto.mc25_13TeV.250520.Pythia8EvtGen_Zee.100k/AOD/27898d18d1a7.result.AOD.root\n",
      "Error in <TChain::LoadTree>: Cannot find tree with name CollectionTree in file /root/data/lorenzetti/v2.2.0/user.joao.pinto.mc25_13TeV.250520.Pythia8EvtGen_Zee.100k/AOD/cc92111816f8.result.AOD.root\n",
      "Error in <TChain::LoadTree>: Cannot find tree with name CollectionTree in file /root/data/lorenzetti/v2.2.0/user.joao.pinto.mc25_13TeV.250520.Pythia8EvtGen_Zee.100k/AOD/5ac39f74bf9f.result.AOD.root\n",
      "Error in <TChain::LoadTree>: Cannot find tree with name CollectionTree in file /root/data/lorenzetti/v2.2.0/user.joao.pinto.mc25_13TeV.250520.Pythia8EvtGen_Zee.100k/AOD/662f5876c6b5.result.AOD.root\n",
      "Error in <TChain::LoadTree>: Cannot find tree with name CollectionTree in file /root/data/lorenzetti/v2.2.0/user.joao.pinto.mc25_13TeV.250520.Pythia8EvtGen_Zee.100k/AOD/f675faf299ca.result.AOD.root\n",
      "Error in <TChain::LoadTree>: Cannot find tree with name CollectionTree in file /root/data/lorenzetti/v2.2.0/user.joao.pinto.mc25_13TeV.250520.Pythia8EvtGen_Zee.100k/AOD/03f60a3ee868.result.AOD.root\n",
      "Error in <TChain::LoadTree>: Cannot find tree with name CollectionTree in file /root/data/lorenzetti/v2.2.0/user.joao.pinto.mc25_13TeV.250520.Pythia8EvtGen_Zee.100k/AOD/6526367fd60c.result.AOD.root\n",
      "Error in <TChain::LoadTree>: Cannot find tree with name CollectionTree in file /root/data/lorenzetti/v2.2.0/user.joao.pinto.mc25_13TeV.250520.Pythia8EvtGen_Zee.100k/AOD/ef490facea5e.result.AOD.root\n",
      "Error in <TChain::LoadTree>: Cannot find tree with name CollectionTree in file /root/data/lorenzetti/v2.2.0/user.joao.pinto.mc25_13TeV.250520.Pythia8EvtGen_Zee.100k/AOD/f61b47425849.result.AOD.root\n",
      "Error in <TChain::LoadTree>: Cannot find tree with name CollectionTree in file /root/data/lorenzetti/v2.2.0/user.joao.pinto.mc25_13TeV.250520.Pythia8EvtGen_Zee.100k/AOD/ad8ea1b2cc8c.result.AOD.root\n",
      "Error in <TChain::LoadTree>: Cannot find tree with name CollectionTree in file /root/data/lorenzetti/v2.2.0/user.joao.pinto.mc25_13TeV.250520.Pythia8EvtGen_Zee.100k/AOD/d4e591054ddd.result.AOD.root\n",
      "Error in <TChain::LoadTree>: Cannot find tree with name CollectionTree in file /root/data/lorenzetti/v2.2.0/user.joao.pinto.mc25_13TeV.250520.Pythia8EvtGen_Zee.100k/AOD/90884661e338.result.AOD.root\n",
      "Error in <TChain::LoadTree>: Cannot find tree with name CollectionTree in file /root/data/lorenzetti/v2.2.0/user.joao.pinto.mc25_13TeV.250520.Pythia8EvtGen_Zee.100k/AOD/8f986cfcae46.result.AOD.root\n",
      "Error in <TChain::LoadTree>: Cannot find tree with name CollectionTree in file /root/data/lorenzetti/v2.2.0/user.joao.pinto.mc25_13TeV.250520.Pythia8EvtGen_Zee.100k/AOD/93cef48b7c89.result.AOD.root\n",
      "Error in <TChain::LoadTree>: Cannot find tree with name CollectionTree in file /root/data/lorenzetti/v2.2.0/user.joao.pinto.mc25_13TeV.250520.Pythia8EvtGen_Zee.100k/AOD/4fef9a3703cc.result.AOD.root\n",
      "Error in <TChain::LoadTree>: Cannot find tree with name CollectionTree in file /root/data/lorenzetti/v2.2.0/user.joao.pinto.mc25_13TeV.250520.Pythia8EvtGen_Zee.100k/AOD/930178299fbd.result.AOD.root\n",
      "Error in <TChain::LoadTree>: Cannot find tree with name CollectionTree in file /root/data/lorenzetti/v2.2.0/user.joao.pinto.mc25_13TeV.250520.Pythia8EvtGen_Zee.100k/AOD/43b4a94fc5dc.result.AOD.root\n",
      "Error in <TChain::LoadTree>: Cannot find tree with name CollectionTree in file /root/data/lorenzetti/v2.2.0/user.joao.pinto.mc25_13TeV.250520.Pythia8EvtGen_Zee.100k/AOD/9f0c21d964b4.result.AOD.root\n",
      "Error in <TChain::LoadTree>: Cannot find tree with name CollectionTree in file /root/data/lorenzetti/v2.2.0/user.joao.pinto.mc25_13TeV.250520.Pythia8EvtGen_Zee.100k/AOD/536b47967b8d.result.AOD.root\n",
      "Error in <TChain::LoadTree>: Cannot find tree with name CollectionTree in file /root/data/lorenzetti/v2.2.0/user.joao.pinto.mc25_13TeV.250520.Pythia8EvtGen_Zee.100k/AOD/069b471039b8.result.AOD.root\n",
      "Error in <TChain::LoadTree>: Cannot find tree with name CollectionTree in file /root/data/lorenzetti/v2.2.0/user.joao.pinto.mc25_13TeV.250520.Pythia8EvtGen_Zee.100k/AOD/6fc6e34bf417.result.AOD.root\n",
      "Error in <TChain::LoadTree>: Cannot find tree with name CollectionTree in file /root/data/lorenzetti/v2.2.0/user.joao.pinto.mc25_13TeV.250520.Pythia8EvtGen_Zee.100k/AOD/ebd339a15f9c.result.AOD.root\n",
      "Error in <TChain::LoadTree>: Cannot find tree with name CollectionTree in file /root/data/lorenzetti/v2.2.0/user.joao.pinto.mc25_13TeV.250520.Pythia8EvtGen_Zee.100k/AOD/695a6354ca03.result.AOD.root\n",
      "Error in <TChain::LoadTree>: Cannot find tree with name CollectionTree in file /root/data/lorenzetti/v2.2.0/user.joao.pinto.mc25_13TeV.250520.Pythia8EvtGen_Zee.100k/AOD/e7452cffbdad.result.AOD.root\n",
      "Error in <TChain::LoadTree>: Cannot find tree with name CollectionTree in file /root/data/lorenzetti/v2.2.0/user.joao.pinto.mc25_13TeV.250520.Pythia8EvtGen_Zee.100k/AOD/7c7c2c14483c.result.AOD.root\n",
      "Error in <TChain::LoadTree>: Cannot find tree with name CollectionTree in file /root/data/lorenzetti/v2.2.0/user.joao.pinto.mc25_13TeV.250520.Pythia8EvtGen_Zee.100k/AOD/f0722d05ddef.result.AOD.root\n",
      "Error in <TChain::LoadTree>: Cannot find tree with name CollectionTree in file /root/data/lorenzetti/v2.2.0/user.joao.pinto.mc25_13TeV.250520.Pythia8EvtGen_Zee.100k/AOD/413e3665a338.result.AOD.root\n",
      "Error in <TChain::LoadTree>: Cannot find tree with name CollectionTree in file /root/data/lorenzetti/v2.2.0/user.joao.pinto.mc25_13TeV.250520.Pythia8EvtGen_Zee.100k/AOD/fae8d6bbbb01.result.AOD.root\n",
      "Error in <TChain::LoadTree>: Cannot find tree with name CollectionTree in file /root/data/lorenzetti/v2.2.0/user.joao.pinto.mc25_13TeV.250520.Pythia8EvtGen_Zee.100k/AOD/d492f6533eac.result.AOD.root\n",
      "Error in <TChain::LoadTree>: Cannot find tree with name CollectionTree in file /root/data/lorenzetti/v2.2.0/user.joao.pinto.mc25_13TeV.250520.Pythia8EvtGen_Zee.100k/AOD/2c985273a9f8.result.AOD.root\n",
      "Error in <TChain::LoadTree>: Cannot find tree with name CollectionTree in file /root/data/lorenzetti/v2.2.0/user.joao.pinto.mc25_13TeV.250520.Pythia8EvtGen_Zee.100k/AOD/cf8dd3c19373.result.AOD.root\n",
      "Error in <TChain::LoadTree>: Cannot find tree with name CollectionTree in file /root/data/lorenzetti/v2.2.0/user.joao.pinto.mc25_13TeV.250520.Pythia8EvtGen_Zee.100k/AOD/d21a4eaad5c9.result.AOD.root\n",
      "Error in <TChain::LoadTree>: Cannot find tree with name CollectionTree in file /root/data/lorenzetti/v2.2.0/user.joao.pinto.mc25_13TeV.250520.Pythia8EvtGen_Zee.100k/AOD/c6a786bcf7cd.result.AOD.root\n",
      "Error in <TChain::LoadTree>: Cannot find tree with name CollectionTree in file /root/data/lorenzetti/v2.2.0/user.joao.pinto.mc25_13TeV.250520.Pythia8EvtGen_Zee.100k/AOD/b921f41ad31d.result.AOD.root\n",
      "Error in <TChain::LoadTree>: Cannot find tree with name CollectionTree in file /root/data/lorenzetti/v2.2.0/user.joao.pinto.mc25_13TeV.250520.Pythia8EvtGen_Zee.100k/AOD/7a3815cd7fe7.result.AOD.root\n",
      "Error in <TChain::LoadTree>: Cannot find tree with name CollectionTree in file /root/data/lorenzetti/v2.2.0/user.joao.pinto.mc25_13TeV.250520.Pythia8EvtGen_Zee.100k/AOD/da7437b94bac.result.AOD.root\n",
      "Error in <TChain::LoadTree>: Cannot find tree with name CollectionTree in file /root/data/lorenzetti/v2.2.0/user.joao.pinto.mc25_13TeV.250520.Pythia8EvtGen_Zee.100k/AOD/f8b4e326a0cd.result.AOD.root\n",
      "Error in <TChain::LoadTree>: Cannot find tree with name CollectionTree in file /root/data/lorenzetti/v2.2.0/user.joao.pinto.mc25_13TeV.250520.Pythia8EvtGen_Zee.100k/AOD/3e159c6d5f29.result.AOD.root\n",
      "Error in <TChain::LoadTree>: Cannot find tree with name CollectionTree in file /root/data/lorenzetti/v2.2.0/user.joao.pinto.mc25_13TeV.250520.Pythia8EvtGen_Zee.100k/AOD/90936306592d.result.AOD.root\n",
      "Error in <TChain::LoadTree>: Cannot find tree with name CollectionTree in file /root/data/lorenzetti/v2.2.0/user.joao.pinto.mc25_13TeV.250520.Pythia8EvtGen_Zee.100k/AOD/52e3d6959397.result.AOD.root\n",
      "Error in <TChain::LoadTree>: Cannot find tree with name CollectionTree in file /root/data/lorenzetti/v2.2.0/user.joao.pinto.mc25_13TeV.250520.Pythia8EvtGen_Zee.100k/AOD/d082564750ea.result.AOD.root\n",
      "Error in <TChain::LoadTree>: Cannot find tree with name CollectionTree in file /root/data/lorenzetti/v2.2.0/user.joao.pinto.mc25_13TeV.250520.Pythia8EvtGen_Zee.100k/AOD/e4f8405e240f.result.AOD.root\n",
      "Error in <TChain::LoadTree>: Cannot find tree with name CollectionTree in file /root/data/lorenzetti/v2.2.0/user.joao.pinto.mc25_13TeV.250520.Pythia8EvtGen_Zee.100k/AOD/bbb973a4b953.result.AOD.root\n",
      "Error in <TChain::LoadTree>: Cannot find tree with name CollectionTree in file /root/data/lorenzetti/v2.2.0/user.joao.pinto.mc25_13TeV.250520.Pythia8EvtGen_Zee.100k/AOD/4ca5335a3e11.result.AOD.root\n",
      "Error in <TChain::LoadTree>: Cannot find tree with name CollectionTree in file /root/data/lorenzetti/v2.2.0/user.joao.pinto.mc25_13TeV.250520.Pythia8EvtGen_Zee.100k/AOD/b9764f0f178b.result.AOD.root\n",
      "Error in <TChain::LoadTree>: Cannot find tree with name CollectionTree in file /root/data/lorenzetti/v2.2.0/user.joao.pinto.mc25_13TeV.250520.Pythia8EvtGen_Zee.100k/AOD/f06407bd570b.result.AOD.root\n",
      "Error in <TChain::LoadTree>: Cannot find tree with name CollectionTree in file /root/data/lorenzetti/v2.2.0/user.joao.pinto.mc25_13TeV.250520.Pythia8EvtGen_Zee.100k/AOD/949e2af27e0f.result.AOD.root\n",
      "Error in <TChain::LoadTree>: Cannot find tree with name CollectionTree in file /root/data/lorenzetti/v2.2.0/user.joao.pinto.mc25_13TeV.250520.Pythia8EvtGen_Zee.100k/AOD/49165373b8a1.result.AOD.root\n",
      "Error in <TChain::LoadTree>: Cannot find tree with name CollectionTree in file /root/data/lorenzetti/v2.2.0/user.joao.pinto.mc25_13TeV.250520.Pythia8EvtGen_Zee.100k/AOD/331964f4fa43.result.AOD.root\n",
      "Error in <TChain::LoadTree>: Cannot find tree with name CollectionTree in file /root/data/lorenzetti/v2.2.0/user.joao.pinto.mc25_13TeV.250520.Pythia8EvtGen_Zee.100k/AOD/6d8566330a9f.result.AOD.root\n",
      "Error in <TChain::LoadTree>: Cannot find tree with name CollectionTree in file /root/data/lorenzetti/v2.2.0/user.joao.pinto.mc25_13TeV.250520.Pythia8EvtGen_Zee.100k/AOD/5402b024ad4c.result.AOD.root\n",
      "Error in <TChain::LoadTree>: Cannot find tree with name CollectionTree in file /root/data/lorenzetti/v2.2.0/user.joao.pinto.mc25_13TeV.250520.Pythia8EvtGen_Zee.100k/AOD/8542f26243e5.result.AOD.root\n",
      "Error in <TChain::LoadTree>: Cannot find tree with name CollectionTree in file /root/data/lorenzetti/v2.2.0/user.joao.pinto.mc25_13TeV.250520.Pythia8EvtGen_Zee.100k/AOD/afa07bbf863a.result.AOD.root\n",
      "Error in <TChain::LoadTree>: Cannot find tree with name CollectionTree in file /root/data/lorenzetti/v2.2.0/user.joao.pinto.mc25_13TeV.250520.Pythia8EvtGen_Zee.100k/AOD/105859ffd295.result.AOD.root\n",
      "Error in <TChain::LoadTree>: Cannot find tree with name CollectionTree in file /root/data/lorenzetti/v2.2.0/user.joao.pinto.mc25_13TeV.250520.Pythia8EvtGen_Zee.100k/AOD/6e5d9b141d6a.result.AOD.root\n",
      "Error in <TChain::LoadTree>: Cannot find tree with name CollectionTree in file /root/data/lorenzetti/v2.2.0/user.joao.pinto.mc25_13TeV.250520.Pythia8EvtGen_Zee.100k/AOD/97e23567679b.result.AOD.root\n",
      "Error in <TChain::LoadTree>: Cannot find tree with name CollectionTree in file /root/data/lorenzetti/v2.2.0/user.joao.pinto.mc25_13TeV.250520.Pythia8EvtGen_Zee.100k/AOD/ca064b840ac1.result.AOD.root\n",
      "Error in <TChain::LoadTree>: Cannot find tree with name CollectionTree in file /root/data/lorenzetti/v2.2.0/user.joao.pinto.mc25_13TeV.250520.Pythia8EvtGen_Zee.100k/AOD/993649f7d9de.result.AOD.root\n",
      "Error in <TChain::LoadTree>: Cannot find tree with name CollectionTree in file /root/data/lorenzetti/v2.2.0/user.joao.pinto.mc25_13TeV.250520.Pythia8EvtGen_Zee.100k/AOD/0f9034a45f67.result.AOD.root\n",
      "Error in <TChain::LoadTree>: Cannot find tree with name CollectionTree in file /root/data/lorenzetti/v2.2.0/user.joao.pinto.mc25_13TeV.250520.Pythia8EvtGen_Zee.100k/AOD/ca6ecf8e176d.result.AOD.root\n",
      "Error in <TChain::LoadTree>: Cannot find tree with name CollectionTree in file /root/data/lorenzetti/v2.2.0/user.joao.pinto.mc25_13TeV.250520.Pythia8EvtGen_Zee.100k/AOD/35bd1d09d2ff.result.AOD.root\n",
      "Error in <TChain::LoadTree>: Cannot find tree with name CollectionTree in file /root/data/lorenzetti/v2.2.0/user.joao.pinto.mc25_13TeV.250520.Pythia8EvtGen_Zee.100k/AOD/1b1b14e71650.result.AOD.root\n",
      "Error in <TChain::LoadTree>: Cannot find tree with name CollectionTree in file /root/data/lorenzetti/v2.2.0/user.joao.pinto.mc25_13TeV.250520.Pythia8EvtGen_Zee.100k/AOD/87415f6c3bba.result.AOD.root\n",
      "Error in <TChain::LoadTree>: Cannot find tree with name CollectionTree in file /root/data/lorenzetti/v2.2.0/user.joao.pinto.mc25_13TeV.250520.Pythia8EvtGen_Zee.100k/AOD/d1a4b9f3f780.result.AOD.root\n",
      "Error in <TChain::LoadTree>: Cannot find tree with name CollectionTree in file /root/data/lorenzetti/v2.2.0/user.joao.pinto.mc25_13TeV.250520.Pythia8EvtGen_Zee.100k/AOD/0eb6bdd22ed7.result.AOD.root\n",
      "Error in <TChain::LoadTree>: Cannot find tree with name CollectionTree in file /root/data/lorenzetti/v2.2.0/user.joao.pinto.mc25_13TeV.250520.Pythia8EvtGen_Zee.100k/AOD/77bb247552f6.result.AOD.root\n",
      "Error in <TChain::LoadTree>: Cannot find tree with name CollectionTree in file /root/data/lorenzetti/v2.2.0/user.joao.pinto.mc25_13TeV.250520.Pythia8EvtGen_Zee.100k/AOD/d30d86565eca.result.AOD.root\n",
      "Error in <TChain::LoadTree>: Cannot find tree with name CollectionTree in file /root/data/lorenzetti/v2.2.0/user.joao.pinto.mc25_13TeV.250520.Pythia8EvtGen_Zee.100k/AOD/e92b4892a301.result.AOD.root\n",
      "Error in <TChain::LoadTree>: Cannot find tree with name CollectionTree in file /root/data/lorenzetti/v2.2.0/user.joao.pinto.mc25_13TeV.250520.Pythia8EvtGen_Zee.100k/AOD/da9fcb9f336f.result.AOD.root\n",
      "Error in <TChain::LoadTree>: Cannot find tree with name CollectionTree in file /root/data/lorenzetti/v2.2.0/user.joao.pinto.mc25_13TeV.250520.Pythia8EvtGen_Zee.100k/AOD/ddc4253c7017.result.AOD.root\n",
      "Error in <TChain::LoadTree>: Cannot find tree with name CollectionTree in file /root/data/lorenzetti/v2.2.0/user.joao.pinto.mc25_13TeV.250520.Pythia8EvtGen_Zee.100k/AOD/f6cd159f4c0a.result.AOD.root\n",
      "Error in <TChain::LoadTree>: Cannot find tree with name CollectionTree in file /root/data/lorenzetti/v2.2.0/user.joao.pinto.mc25_13TeV.250520.Pythia8EvtGen_Zee.100k/AOD/9dd4681a6226.result.AOD.root\n",
      "Error in <TChain::LoadTree>: Cannot find tree with name CollectionTree in file /root/data/lorenzetti/v2.2.0/user.joao.pinto.mc25_13TeV.250520.Pythia8EvtGen_Zee.100k/AOD/dd225a707b8b.result.AOD.root\n",
      "Error in <TChain::LoadTree>: Cannot find tree with name CollectionTree in file /root/data/lorenzetti/v2.2.0/user.joao.pinto.mc25_13TeV.250520.Pythia8EvtGen_Zee.100k/AOD/2e43191d922f.result.AOD.root\n",
      "Error in <TChain::LoadTree>: Cannot find tree with name CollectionTree in file /root/data/lorenzetti/v2.2.0/user.joao.pinto.mc25_13TeV.250520.Pythia8EvtGen_Zee.100k/AOD/84e57283f93a.result.AOD.root\n",
      "Error in <TChain::LoadTree>: Cannot find tree with name CollectionTree in file /root/data/lorenzetti/v2.2.0/user.joao.pinto.mc25_13TeV.250520.Pythia8EvtGen_Zee.100k/AOD/e5b70130c52b.result.AOD.root\n",
      "Error in <TChain::LoadTree>: Cannot find tree with name CollectionTree in file /root/data/lorenzetti/v2.2.0/user.joao.pinto.mc25_13TeV.250520.Pythia8EvtGen_Zee.100k/AOD/8f44606ab40e.result.AOD.root\n",
      "Error in <TChain::LoadTree>: Cannot find tree with name CollectionTree in file /root/data/lorenzetti/v2.2.0/user.joao.pinto.mc25_13TeV.250520.Pythia8EvtGen_Zee.100k/AOD/ec5702d76c7e.result.AOD.root\n",
      "Error in <TChain::LoadTree>: Cannot find tree with name CollectionTree in file /root/data/lorenzetti/v2.2.0/user.joao.pinto.mc25_13TeV.250520.Pythia8EvtGen_Zee.100k/AOD/a5be9c481abe.result.AOD.root\n",
      "Error in <TChain::LoadTree>: Cannot find tree with name CollectionTree in file /root/data/lorenzetti/v2.2.0/user.joao.pinto.mc25_13TeV.250520.Pythia8EvtGen_Zee.100k/AOD/3043c624bb83.result.AOD.root\n",
      "Error in <TChain::LoadTree>: Cannot find tree with name CollectionTree in file /root/data/lorenzetti/v2.2.0/user.joao.pinto.mc25_13TeV.250520.Pythia8EvtGen_Zee.100k/AOD/960484800ac6.result.AOD.root\n",
      "Error in <TChain::LoadTree>: Cannot find tree with name CollectionTree in file /root/data/lorenzetti/v2.2.0/user.joao.pinto.mc25_13TeV.250520.Pythia8EvtGen_Zee.100k/AOD/2158ab346dde.result.AOD.root\n",
      "Error in <TChain::LoadTree>: Cannot find tree with name CollectionTree in file /root/data/lorenzetti/v2.2.0/user.joao.pinto.mc25_13TeV.250520.Pythia8EvtGen_Zee.100k/AOD/5798137a8d25.result.AOD.root\n",
      "Error in <TChain::LoadTree>: Cannot find tree with name CollectionTree in file /root/data/lorenzetti/v2.2.0/user.joao.pinto.mc25_13TeV.250520.Pythia8EvtGen_Zee.100k/AOD/9d26a0c34576.result.AOD.root\n",
      "Error in <TChain::LoadTree>: Cannot find tree with name CollectionTree in file /root/data/lorenzetti/v2.2.0/user.joao.pinto.mc25_13TeV.250520.Pythia8EvtGen_Zee.100k/AOD/c5b1a6b3c55c.result.AOD.root\n",
      "Error in <TChain::LoadTree>: Cannot find tree with name CollectionTree in file /root/data/lorenzetti/v2.2.0/user.joao.pinto.mc25_13TeV.250520.Pythia8EvtGen_Zee.100k/AOD/f7b119825916.result.AOD.root\n",
      "Error in <TChain::LoadTree>: Cannot find tree with name CollectionTree in file /root/data/lorenzetti/v2.2.0/user.joao.pinto.mc25_13TeV.250520.Pythia8EvtGen_Zee.100k/AOD/16acc1d1d79e.result.AOD.root\n",
      "Error in <TChain::LoadTree>: Cannot find tree with name CollectionTree in file /root/data/lorenzetti/v2.2.0/user.joao.pinto.mc25_13TeV.250520.Pythia8EvtGen_Zee.100k/AOD/4cc503024fb0.result.AOD.root\n",
      "Error in <TChain::LoadTree>: Cannot find tree with name CollectionTree in file /root/data/lorenzetti/v2.2.0/user.joao.pinto.mc25_13TeV.250520.Pythia8EvtGen_Zee.100k/AOD/ce671f7fe1b0.result.AOD.root\n",
      "Error in <TChain::LoadTree>: Cannot find tree with name CollectionTree in file /root/data/lorenzetti/v2.2.0/user.joao.pinto.mc25_13TeV.250520.Pythia8EvtGen_Zee.100k/AOD/ec4cefa9de57.result.AOD.root\n",
      "Error in <TChain::LoadTree>: Cannot find tree with name CollectionTree in file /root/data/lorenzetti/v2.2.0/user.joao.pinto.mc25_13TeV.250520.Pythia8EvtGen_Zee.100k/AOD/b91a34fc3253.result.AOD.root\n",
      "Error in <TChain::LoadTree>: Cannot find tree with name CollectionTree in file /root/data/lorenzetti/v2.2.0/user.joao.pinto.mc25_13TeV.250520.Pythia8EvtGen_Zee.100k/AOD/dfad29d99570.result.AOD.root\n",
      "Error in <TChain::LoadTree>: Cannot find tree with name CollectionTree in file /root/data/lorenzetti/v2.2.0/user.joao.pinto.mc25_13TeV.250520.Pythia8EvtGen_Zee.100k/AOD/7508d699b865.result.AOD.root\n",
      "Error in <TChain::LoadTree>: Cannot find tree with name CollectionTree in file /root/data/lorenzetti/v2.2.0/user.joao.pinto.mc25_13TeV.250520.Pythia8EvtGen_Zee.100k/AOD/d8b91e8d523e.result.AOD.root\n",
      "Error in <TChain::LoadTree>: Cannot find tree with name CollectionTree in file /root/data/lorenzetti/v2.2.0/user.joao.pinto.mc25_13TeV.250520.Pythia8EvtGen_Zee.100k/AOD/8550d6668007.result.AOD.root\n",
      "Error in <TChain::LoadTree>: Cannot find tree with name CollectionTree in file /root/data/lorenzetti/v2.2.0/user.joao.pinto.mc25_13TeV.250520.Pythia8EvtGen_Zee.100k/AOD/bf0d6225134c.result.AOD.root\n",
      "Error in <TChain::LoadTree>: Cannot find tree with name CollectionTree in file /root/data/lorenzetti/v2.2.0/user.joao.pinto.mc25_13TeV.250520.Pythia8EvtGen_Zee.100k/AOD/05a2cfc94994.result.AOD.root\n",
      "Error in <TChain::LoadTree>: Cannot find tree with name CollectionTree in file /root/data/lorenzetti/v2.2.0/user.joao.pinto.mc25_13TeV.250520.Pythia8EvtGen_Zee.100k/AOD/18b704c3e437.result.AOD.root\n",
      "Error in <TChain::LoadTree>: Cannot find tree with name CollectionTree in file /root/data/lorenzetti/v2.2.0/user.joao.pinto.mc25_13TeV.250520.Pythia8EvtGen_Zee.100k/AOD/a213aaf9c4a9.result.AOD.root\n",
      "Error in <TChain::LoadTree>: Cannot find tree with name CollectionTree in file /root/data/lorenzetti/v2.2.0/user.joao.pinto.mc25_13TeV.250520.Pythia8EvtGen_Zee.100k/AOD/873fc2be29d8.result.AOD.root\n",
      "Error in <TChain::LoadTree>: Cannot find tree with name CollectionTree in file /root/data/lorenzetti/v2.2.0/user.joao.pinto.mc25_13TeV.250520.Pythia8EvtGen_Zee.100k/AOD/3f6a2c291ba4.result.AOD.root\n",
      "Error in <TChain::LoadTree>: Cannot find tree with name CollectionTree in file /root/data/lorenzetti/v2.2.0/user.joao.pinto.mc25_13TeV.250520.Pythia8EvtGen_Zee.100k/AOD/49ebd65386a9.result.AOD.root\n",
      "Error in <TChain::LoadTree>: Cannot find tree with name CollectionTree in file /root/data/lorenzetti/v2.2.0/user.joao.pinto.mc25_13TeV.250520.Pythia8EvtGen_Zee.100k/AOD/ca13d5779285.result.AOD.root\n",
      "Error in <TChain::LoadTree>: Cannot find tree with name CollectionTree in file /root/data/lorenzetti/v2.2.0/user.joao.pinto.mc25_13TeV.250520.Pythia8EvtGen_Zee.100k/AOD/87265315fc3e.result.AOD.root\n",
      "Error in <TChain::LoadTree>: Cannot find tree with name CollectionTree in file /root/data/lorenzetti/v2.2.0/user.joao.pinto.mc25_13TeV.250520.Pythia8EvtGen_Zee.100k/AOD/70380eb76fb9.result.AOD.root\n",
      "Error in <TChain::LoadTree>: Cannot find tree with name CollectionTree in file /root/data/lorenzetti/v2.2.0/user.joao.pinto.mc25_13TeV.250520.Pythia8EvtGen_Zee.100k/AOD/923a736940d5.result.AOD.root\n",
      "Error in <TChain::LoadTree>: Cannot find tree with name CollectionTree in file /root/data/lorenzetti/v2.2.0/user.joao.pinto.mc25_13TeV.250520.Pythia8EvtGen_Zee.100k/AOD/e8520d668e62.result.AOD.root\n",
      "Error in <TChain::LoadTree>: Cannot find tree with name CollectionTree in file /root/data/lorenzetti/v2.2.0/user.joao.pinto.mc25_13TeV.250520.Pythia8EvtGen_Zee.100k/AOD/f0d334191f8a.result.AOD.root\n",
      "Error in <TChain::LoadTree>: Cannot find tree with name CollectionTree in file /root/data/lorenzetti/v2.2.0/user.joao.pinto.mc25_13TeV.250520.Pythia8EvtGen_Zee.100k/AOD/1b6e1520a7f2.result.AOD.root\n",
      "Error in <TChain::LoadTree>: Cannot find tree with name CollectionTree in file /root/data/lorenzetti/v2.2.0/user.joao.pinto.mc25_13TeV.250520.Pythia8EvtGen_Zee.100k/AOD/52844131546d.result.AOD.root\n",
      "Error in <TChain::LoadTree>: Cannot find tree with name CollectionTree in file /root/data/lorenzetti/v2.2.0/user.joao.pinto.mc25_13TeV.250520.Pythia8EvtGen_Zee.100k/AOD/2b15f96bdfe3.result.AOD.root\n",
      "Error in <TChain::LoadTree>: Cannot find tree with name CollectionTree in file /root/data/lorenzetti/v2.2.0/user.joao.pinto.mc25_13TeV.250520.Pythia8EvtGen_Zee.100k/AOD/80b5cf6e8ae0.result.AOD.root\n",
      "Error in <TChain::LoadTree>: Cannot find tree with name CollectionTree in file /root/data/lorenzetti/v2.2.0/user.joao.pinto.mc25_13TeV.250520.Pythia8EvtGen_Zee.100k/AOD/f6bbd1ed19c7.result.AOD.root\n",
      "Error in <TChain::LoadTree>: Cannot find tree with name CollectionTree in file /root/data/lorenzetti/v2.2.0/user.joao.pinto.mc25_13TeV.250520.Pythia8EvtGen_Zee.100k/AOD/c4708f624c6e.result.AOD.root\n",
      "Error in <TChain::LoadTree>: Cannot find tree with name CollectionTree in file /root/data/lorenzetti/v2.2.0/user.joao.pinto.mc25_13TeV.250520.Pythia8EvtGen_Zee.100k/AOD/c5232ddfce86.result.AOD.root\n",
      "Error in <TChain::LoadTree>: Cannot find tree with name CollectionTree in file /root/data/lorenzetti/v2.2.0/user.joao.pinto.mc25_13TeV.250520.Pythia8EvtGen_Zee.100k/AOD/fff376081850.result.AOD.root\n",
      "Error in <TChain::LoadTree>: Cannot find tree with name CollectionTree in file /root/data/lorenzetti/v2.2.0/user.joao.pinto.mc25_13TeV.250520.Pythia8EvtGen_Zee.100k/AOD/d8fe8922321f.result.AOD.root\n",
      "Error in <TChain::LoadTree>: Cannot find tree with name CollectionTree in file /root/data/lorenzetti/v2.2.0/user.joao.pinto.mc25_13TeV.250520.Pythia8EvtGen_Zee.100k/AOD/12508a14839e.result.AOD.root\n",
      "Error in <TChain::LoadTree>: Cannot find tree with name CollectionTree in file /root/data/lorenzetti/v2.2.0/user.joao.pinto.mc25_13TeV.250520.Pythia8EvtGen_Zee.100k/AOD/f5d140b7a38f.result.AOD.root\n",
      "Error in <TChain::LoadTree>: Cannot find tree with name CollectionTree in file /root/data/lorenzetti/v2.2.0/user.joao.pinto.mc25_13TeV.250520.Pythia8EvtGen_Zee.100k/AOD/8e7719e83561.result.AOD.root\n",
      "Error in <TChain::LoadTree>: Cannot find tree with name CollectionTree in file /root/data/lorenzetti/v2.2.0/user.joao.pinto.mc25_13TeV.250520.Pythia8EvtGen_Zee.100k/AOD/8134b2bff294.result.AOD.root\n",
      "Error in <TChain::LoadTree>: Cannot find tree with name CollectionTree in file /root/data/lorenzetti/v2.2.0/user.joao.pinto.mc25_13TeV.250520.Pythia8EvtGen_Zee.100k/AOD/10aba0e42a41.result.AOD.root\n",
      "Error in <TChain::LoadTree>: Cannot find tree with name CollectionTree in file /root/data/lorenzetti/v2.2.0/user.joao.pinto.mc25_13TeV.250520.Pythia8EvtGen_Zee.100k/AOD/02cb5124aeb7.result.AOD.root\n",
      "Error in <TChain::LoadTree>: Cannot find tree with name CollectionTree in file /root/data/lorenzetti/v2.2.0/user.joao.pinto.mc25_13TeV.250520.Pythia8EvtGen_Zee.100k/AOD/06ceab498530.result.AOD.root\n",
      "Error in <TChain::LoadTree>: Cannot find tree with name CollectionTree in file /root/data/lorenzetti/v2.2.0/user.joao.pinto.mc25_13TeV.250520.Pythia8EvtGen_Zee.100k/AOD/93018dafc7e6.result.AOD.root\n",
      "Error in <TChain::LoadTree>: Cannot find tree with name CollectionTree in file /root/data/lorenzetti/v2.2.0/user.joao.pinto.mc25_13TeV.250520.Pythia8EvtGen_Zee.100k/AOD/61a356b39892.result.AOD.root\n",
      "Error in <TChain::LoadTree>: Cannot find tree with name CollectionTree in file /root/data/lorenzetti/v2.2.0/user.joao.pinto.mc25_13TeV.250520.Pythia8EvtGen_Zee.100k/AOD/a3694ea309ce.result.AOD.root\n",
      "Error in <TChain::LoadTree>: Cannot find tree with name CollectionTree in file /root/data/lorenzetti/v2.2.0/user.joao.pinto.mc25_13TeV.250520.Pythia8EvtGen_Zee.100k/AOD/96ee1e681756.result.AOD.root\n",
      "Error in <TChain::LoadTree>: Cannot find tree with name CollectionTree in file /root/data/lorenzetti/v2.2.0/user.joao.pinto.mc25_13TeV.250520.Pythia8EvtGen_Zee.100k/AOD/ec5a6054813d.result.AOD.root\n",
      "Error in <TChain::LoadTree>: Cannot find tree with name CollectionTree in file /root/data/lorenzetti/v2.2.0/user.joao.pinto.mc25_13TeV.250520.Pythia8EvtGen_Zee.100k/AOD/5d3d7f41e529.result.AOD.root\n",
      "Error in <TChain::LoadTree>: Cannot find tree with name CollectionTree in file /root/data/lorenzetti/v2.2.0/user.joao.pinto.mc25_13TeV.250520.Pythia8EvtGen_Zee.100k/AOD/5a0e6750a3b0.result.AOD.root\n",
      "Error in <TChain::LoadTree>: Cannot find tree with name CollectionTree in file /root/data/lorenzetti/v2.2.0/user.joao.pinto.mc25_13TeV.250520.Pythia8EvtGen_Zee.100k/AOD/86f29d7f4443.result.AOD.root\n",
      "Error in <TChain::LoadTree>: Cannot find tree with name CollectionTree in file /root/data/lorenzetti/v2.2.0/user.joao.pinto.mc25_13TeV.250520.Pythia8EvtGen_Zee.100k/AOD/3aeffe4c0076.result.AOD.root\n",
      "Error in <TChain::LoadTree>: Cannot find tree with name CollectionTree in file /root/data/lorenzetti/v2.2.0/user.joao.pinto.mc25_13TeV.250520.Pythia8EvtGen_Zee.100k/AOD/4076c71687a6.result.AOD.root\n",
      "Error in <TChain::LoadTree>: Cannot find tree with name CollectionTree in file /root/data/lorenzetti/v2.2.0/user.joao.pinto.mc25_13TeV.250520.Pythia8EvtGen_Zee.100k/AOD/abe1916ecc37.result.AOD.root\n",
      "Error in <TChain::LoadTree>: Cannot find tree with name CollectionTree in file /root/data/lorenzetti/v2.2.0/user.joao.pinto.mc25_13TeV.250520.Pythia8EvtGen_Zee.100k/AOD/7b0198ebdbd8.result.AOD.root\n",
      "Error in <TChain::LoadTree>: Cannot find tree with name CollectionTree in file /root/data/lorenzetti/v2.2.0/user.joao.pinto.mc25_13TeV.250520.Pythia8EvtGen_Zee.100k/AOD/a0569d6e31fa.result.AOD.root\n",
      "Error in <TChain::LoadTree>: Cannot find tree with name CollectionTree in file /root/data/lorenzetti/v2.2.0/user.joao.pinto.mc25_13TeV.250520.Pythia8EvtGen_Zee.100k/AOD/76f2b334dcfc.result.AOD.root\n",
      "Error in <TChain::LoadTree>: Cannot find tree with name CollectionTree in file /root/data/lorenzetti/v2.2.0/user.joao.pinto.mc25_13TeV.250520.Pythia8EvtGen_Zee.100k/AOD/6e51d8e62538.result.AOD.root\n",
      "Error in <TChain::LoadTree>: Cannot find tree with name CollectionTree in file /root/data/lorenzetti/v2.2.0/user.joao.pinto.mc25_13TeV.250520.Pythia8EvtGen_Zee.100k/AOD/f3cb180a53af.result.AOD.root\n",
      "Error in <TChain::LoadTree>: Cannot find tree with name CollectionTree in file /root/data/lorenzetti/v2.2.0/user.joao.pinto.mc25_13TeV.250520.Pythia8EvtGen_Zee.100k/AOD/5ef84bf52347.result.AOD.root\n",
      "Error in <TChain::LoadTree>: Cannot find tree with name CollectionTree in file /root/data/lorenzetti/v2.2.0/user.joao.pinto.mc25_13TeV.250520.Pythia8EvtGen_Zee.100k/AOD/45f279b13042.result.AOD.root\n",
      "Error in <TChain::LoadTree>: Cannot find tree with name CollectionTree in file /root/data/lorenzetti/v2.2.0/user.joao.pinto.mc25_13TeV.250520.Pythia8EvtGen_Zee.100k/AOD/1023e11de1f1.result.AOD.root\n",
      "Error in <TChain::LoadTree>: Cannot find tree with name CollectionTree in file /root/data/lorenzetti/v2.2.0/user.joao.pinto.mc25_13TeV.250520.Pythia8EvtGen_Zee.100k/AOD/3b59fe81053d.result.AOD.root\n",
      "Error in <TChain::LoadTree>: Cannot find tree with name CollectionTree in file /root/data/lorenzetti/v2.2.0/user.joao.pinto.mc25_13TeV.250520.Pythia8EvtGen_Zee.100k/AOD/ba215f3674ce.result.AOD.root\n",
      "Error in <TChain::LoadTree>: Cannot find tree with name CollectionTree in file /root/data/lorenzetti/v2.2.0/user.joao.pinto.mc25_13TeV.250520.Pythia8EvtGen_Zee.100k/AOD/ebd12a319416.result.AOD.root\n",
      "Error in <TChain::LoadTree>: Cannot find tree with name CollectionTree in file /root/data/lorenzetti/v2.2.0/user.joao.pinto.mc25_13TeV.250520.Pythia8EvtGen_Zee.100k/AOD/95b4c68a8119.result.AOD.root\n",
      "Error in <TChain::LoadTree>: Cannot find tree with name CollectionTree in file /root/data/lorenzetti/v2.2.0/user.joao.pinto.mc25_13TeV.250520.Pythia8EvtGen_Zee.100k/AOD/3562c8eade74.result.AOD.root\n",
      "Error in <TChain::LoadTree>: Cannot find tree with name CollectionTree in file /root/data/lorenzetti/v2.2.0/user.joao.pinto.mc25_13TeV.250520.Pythia8EvtGen_Zee.100k/AOD/f10e2c0a74fa.result.AOD.root\n",
      "Error in <TChain::LoadTree>: Cannot find tree with name CollectionTree in file /root/data/lorenzetti/v2.2.0/user.joao.pinto.mc25_13TeV.250520.Pythia8EvtGen_Zee.100k/AOD/ad53e3b0e6ca.result.AOD.root\n",
      "Error in <TChain::LoadTree>: Cannot find tree with name CollectionTree in file /root/data/lorenzetti/v2.2.0/user.joao.pinto.mc25_13TeV.250520.Pythia8EvtGen_Zee.100k/AOD/eff5b03aaed2.result.AOD.root\n",
      "Error in <TChain::LoadTree>: Cannot find tree with name CollectionTree in file /root/data/lorenzetti/v2.2.0/user.joao.pinto.mc25_13TeV.250520.Pythia8EvtGen_Zee.100k/AOD/579df4e4e95c.result.AOD.root\n",
      "Error in <TChain::LoadTree>: Cannot find tree with name CollectionTree in file /root/data/lorenzetti/v2.2.0/user.joao.pinto.mc25_13TeV.250520.Pythia8EvtGen_Zee.100k/AOD/9063a7f2920a.result.AOD.root\n",
      "Error in <TChain::LoadTree>: Cannot find tree with name CollectionTree in file /root/data/lorenzetti/v2.2.0/user.joao.pinto.mc25_13TeV.250520.Pythia8EvtGen_Zee.100k/AOD/f5bc75cbc485.result.AOD.root\n"
     ]
    }
   ],
   "source": [
    "data_src = 'aod'\n",
    "rewrite_cache = False\n",
    "n_entries = -1\n",
    "for name, dataset_info in datasets.items():\n",
    "    output_filepath = output_dir / f'rings_info_{name}_{data_src}.parquet.gzip'\n",
    "    if not rewrite_cache and output_filepath.exists():\n",
    "        logging.info(f'Loading cached file for {name}')\n",
    "        rings_info = pd.read_parquet(output_filepath)\n",
    "    else:\n",
    "        logging.info(f'Loading {name}')\n",
    "        if data_src =='aod':\n",
    "            rings_info = load_data_from_aod(dataset_info['ds'], n_entries)\n",
    "        elif data_src == 'ntuple':\n",
    "            rings_info = load_data_from_ntuple(dataset_info['ds'], n_entries)\n",
    "        else:\n",
    "            raise ValueError(f\"Unknown data source: {data_src}\")\n",
    "        logging.info('Writing rings_info to parquet')\n",
    "        rings_info.to_parquet(output_filepath,\n",
    "                              compression='gzip')\n",
    "    datasets[name]['rings_info'] = rings_info"
   ]
  },
  {
   "cell_type": "markdown",
   "id": "be3d60cc",
   "metadata": {},
   "source": [
    "# Check number of vector entries"
   ]
  },
  {
   "cell_type": "code",
   "execution_count": 7,
   "id": "4fdc3b0a",
   "metadata": {},
   "outputs": [
    {
     "data": {
      "image/png": "[encoded data removed]",
      "text/plain": [
       "<Figure size 800x600 with 1 Axes>"
      ]
     },
     "metadata": {},
     "output_type": "display_data"
    }
   ],
   "source": [
    "fig, ax = plt.subplots()\n",
    "max_ring_size = -1\n",
    "bins = np.arange(201)\n",
    "for name, dataset_info in datasets.items():\n",
    "    rings_info = dataset_info['rings_info']\n",
    "    current_max_ring_size = rings_info['rings_size'].max()\n",
    "    if current_max_ring_size > max_ring_size:\n",
    "        max_ring_size = current_max_ring_size\n",
    "    ax.hist(rings_info['rings_size'],\n",
    "            bins=np.arange(current_max_ring_size + 1),\n",
    "            histtype='step',\n",
    "            color=dataset_info['color'],\n",
    "            label=dataset_info['label'])\n",
    "    # ax.grid(linestyle='--', alpha=0.5)\n",
    "    ax.plot([], [], ' ',\n",
    "        label=f'N events: {rings_info[\"event_number\"].nunique()}')\n",
    "    ax.plot([], [], ' ',\n",
    "            label=f'N samples: {len(rings_info)}')\n",
    "    has_100 = rings_info[\"rings_size\"] == 100\n",
    "    ax.plot([], [], ' ',\n",
    "            label=f'Size 100: {has_100.sum()}')\n",
    "    has_18 = rings_info[\"rings_size\"] == 18\n",
    "    ax.plot([], [], ' ',\n",
    "            label=f'Size 18: {has_18.sum()}')\n",
    "    ax.plot([], [], ' ',\n",
    "            label=f'Wrong: {((~has_100) & (~has_18)).sum()}')\n",
    "    ax.plot([], [], ' ',\n",
    "            label=f'No rings: {(rings_info[\"rings_size\"] == 0).sum()}')\n",
    "    # ax.plot([], [], ' ',\n",
    "    #         label=f'Extra: {(rings_info[\"rings_size\"] > N_RINGS).sum()}')\n",
    "    # ax.plot([], [], ' ',\n",
    "    #         label=f'Missing: {(rings_info[\"rings_size\"] < N_RINGS).sum()}')\n",
    "ax.set(\n",
    "    xlabel='Number of rings',\n",
    "    ylabel='Number of samples',\n",
    "    title='Number of rings per event',\n",
    "    xlim=(-10, max_ring_size + 10)\n",
    ")\n",
    "ax.legend(title='\\\\textbf{{\\\\textit{{Lorenzetti}}}} Internal',\n",
    "          alignment='left',\n",
    "          facecolor='white',\n",
    "          ncols=len(datasets),\n",
    "          )\n",
    "fig.tight_layout()\n",
    "# fig.savefig(output_dir / f'number_of_rings_{data_src}.png', dpi=300)"
   ]
  },
  {
   "cell_type": "code",
   "execution_count": 8,
   "id": "0f7a3385",
   "metadata": {},
   "outputs": [
    {
     "name": "stderr",
     "output_type": "stream",
     "text": [
      "/tmp/ipykernel_977424/3547811672.py:32: UserWarning: No artists with labels found to put in legend.  Note that artists whose label start with an underscore are ignored when legend() is called with no argument.\n",
      "  lower_ax.legend(alignment='left',\n"
     ]
    },
    {
     "data": {
      "image/png": "[encoded data removed]",
      "text/plain": [
       "<Figure size 800x600 with 2 Axes>"
      ]
     },
     "metadata": {},
     "output_type": "display_data"
    }
   ],
   "source": [
    "fig, axes = plt.subplots(2,1)\n",
    "top_ax, lower_ax = axes\n",
    "top_size = 18\n",
    "lower_size = 100\n",
    "for i, (name, dataset_info) in enumerate(datasets.items()):\n",
    "    rings_info = dataset_info['rings_info']\n",
    "    top_counts, top_bins, _ = top_ax.hist(\n",
    "        rings_info.loc[rings_info['rings_size'] == top_size, 'cl_eta'],\n",
    "        bins=25,\n",
    "        histtype='step',\n",
    "        color=dataset_info['color'],\n",
    "        label=dataset_info['label'])\n",
    "    # ax.grid(linestyle='--', alpha=0.5)\n",
    "    if i == 1:\n",
    "        top_ax.plot([], [], ' ',\n",
    "                label=f'Rings size = {top_size}')\n",
    "    top_ax.set_ylabel('Number of samples', fontsize='small')\n",
    "    top_ax.legend(title='\\\\textbf{{\\\\textit{{Lorenzetti}}}} Internal',\n",
    "                alignment='left',\n",
    "                facecolor='white',\n",
    "                ncols=1,\n",
    "    )\n",
    "    lower_ax.hist(\n",
    "        rings_info.loc[rings_info['rings_size'] == lower_size, 'cl_eta'],\n",
    "        bins=top_bins,\n",
    "        histtype='step',\n",
    "        color=dataset_info['color']\n",
    "    )\n",
    "    if i == 1:\n",
    "        lower_ax.plot([], [], ' ',\n",
    "                label=f'Rings size = {lower_size}')\n",
    "    lower_ax.legend(alignment='left',\n",
    "                facecolor='white',\n",
    "                ncols=1,\n",
    "    )\n",
    "    lower_ax.set(\n",
    "        xlabel='$\\\\eta$',\n",
    "    )\n",
    "fig.suptitle('Number of rings per event')\n",
    "fig.tight_layout()\n",
    "fig.savefig(output_dir / f'number_of_rings_multi_plot_{data_src}.png', dpi=300)"
   ]
  },
  {
   "cell_type": "markdown",
   "id": "3560a9b0",
   "metadata": {},
   "source": [
    "# Check $\\mu \\pm \\sigma$"
   ]
  },
  {
   "cell_type": "markdown",
   "id": "a8e3a824",
   "metadata": {},
   "source": [
    "## Default"
   ]
  },
  {
   "cell_type": "code",
   "execution_count": 10,
   "id": "fe172712",
   "metadata": {},
   "outputs": [
    {
     "data": {
      "image/png": "[encoded data removed]",
      "text/plain": [
       "<Figure size 1500x800 with 1 Axes>"
      ]
     },
     "metadata": {},
     "output_type": "display_data"
    }
   ],
   "source": [
    "normalize=True\n",
    "fig, ax = plt.subplots(figsize=(15, 8))\n",
    "ax.grid(linestyle='--', alpha=0.5, color='k')\n",
    "for name, dataset_info in datasets.items():\n",
    "    rings_info = dataset_info['rings_info']\n",
    "    rings_info = rings_info[rings_info['rings_size'] == N_RINGS]\n",
    "    rings_columns = [f'ring_{i}' for i in range(rings_info.shape[-1]-4)]\n",
    "    _ = lplt.plot_rings_profile(\n",
    "        rings_info[rings_columns],\n",
    "        ax=ax,\n",
    "        normalize=normalize,\n",
    "        color=dataset_info['color'],\n",
    "        ax_set_kwargs=dict(\n",
    "            ylabel='Normalized Energy' if normalize else 'Energy [MeV]',\n",
    "        ),\n",
    "        label=dataset_info['label']\n",
    "    )\n",
    "    ax.plot([], [], ' ',\n",
    "        label=f'N events: {rings_info[\"event_number\"].nunique()}')\n",
    "    ax.plot([], [], ' ',\n",
    "            label=f'N samples: {len(rings_info)}')\n",
    "ax.legend(title='\\\\textbf{{\\\\textit{{Lorenzetti}}}} Internal',\n",
    "          alignment='left',\n",
    "          facecolor='white',\n",
    "          ncols=len(datasets),\n",
    "          title_fontproperties=dict(size='large'),\n",
    "          )\n",
    "fig.tight_layout()\n",
    "if normalize:\n",
    "    figname = f'mean_rings_normalized_{data_src}.png'\n",
    "else:\n",
    "    figname = f'mean_rings_{data_src}.png'\n",
    "fig.savefig(output_dir / figname, dpi=300)"
   ]
  },
  {
   "cell_type": "markdown",
   "id": "cde38220",
   "metadata": {},
   "source": [
    "# All Rings"
   ]
  },
  {
   "cell_type": "code",
   "execution_count": null,
   "id": "8f620430",
   "metadata": {},
   "outputs": [],
   "source": [
    "normalize=True\n",
    "fig, ax = plt.subplots(figsize=(15, 8))\n",
    "for i, (name, dataset_info) in enumerate(datasets.items()):\n",
    "    logging.info(f'Plotting rings for {name}')\n",
    "    x = np.arange(N_RINGS)\n",
    "    rings_info = dataset_info['rings_info']\n",
    "    rings_info = rings_info[rings_info['rings_size'] == N_RINGS]\n",
    "    rings_columns = [f'ring_{i}' for i in range(rings_info.shape[-1]-2)]\n",
    "    lplt.plot_all_rings(\n",
    "        rings_info, ax,\n",
    "        normalize=normalize,\n",
    "        plot_kwargs=dict(\n",
    "            color=dataset_info['color'],\n",
    "            label=dataset_info['label'],\n",
    "            alpha=0.01),\n",
    "        add_rings_labels=(i==0))\n",
    "    ax.plot([], [], ' ',\n",
    "        label=f'N events: {rings_info[\"event_number\"].nunique()}')\n",
    "    ax.plot([], [], ' ',\n",
    "            label=f'N samples: {len(rings_info)}')\n",
    "    del rings_info\n",
    "ax.legend(title='\\\\textbf{{\\\\textit{{Lorenzetti}}}} Internal',\n",
    "          alignment='left',\n",
    "          facecolor='white',\n",
    "          ncols=len(datasets),\n",
    "          title_fontproperties=dict(size='large'),\n",
    "          )\n",
    "fig.tight_layout()\n",
    "if normalize:\n",
    "    figname = f'all_rings_normalized_{data_src}_zee.png'\n",
    "else:\n",
    "    figname = f'all_rings_{data_src}.png'\n",
    "# fig.savefig(output_dir / figname, dpi=300)"
   ]
  }
 ],
 "metadata": {
  "kernelspec": {
   "display_name": "dev",
   "language": "python",
   "name": "python3"
  },
  "language_info": {
   "codemirror_mode": {
    "name": "ipython",
    "version": 3
   },
   "file_extension": ".py",
   "mimetype": "text/x-python",
   "name": "python",
   "nbconvert_exporter": "python",
   "pygments_lexer": "ipython3",
   "version": "3.11.13"
  }
 },
 "nbformat": 4,
 "nbformat_minor": 5
}
