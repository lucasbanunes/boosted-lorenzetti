{
 "cells": [
  {
   "cell_type": "markdown",
   "id": "bbc0fb01",
   "metadata": {},
   "source": [
    "# Rings Profile\n",
    "This notebook contains code to analyze the rings data, in order to check if the data is in order and its distributions."
   ]
  },
  {
   "cell_type": "code",
   "execution_count": 1,
   "id": "004b3a57",
   "metadata": {},
   "outputs": [],
   "source": [
    "from boosted_lorenzetti.dataset import LztDataset\n",
    "from boosted_lorenzetti.constants import N_RINGS\n",
    "from boosted_lorenzetti.utils import set_logger\n",
    "import boosted_lorenzetti.plotting.pyplot as lplt\n",
    "import mplhep\n",
    "import matplotlib.pyplot as plt\n",
    "import matplotlib as mpl\n",
    "from pathlib import Path\n",
    "import ROOT\n",
    "import numpy as np\n",
    "import pandas as pd\n",
    "import logging\n",
    "from tqdm import tqdm"
   ]
  },
  {
   "cell_type": "code",
   "execution_count": 2,
   "id": "571df43d",
   "metadata": {},
   "outputs": [],
   "source": [
    "ROOT.EnableImplicitMT()\n",
    "plt.style.use(mplhep.style.ATLAS)\n",
    "set_logger()\n",
    "mpl.rc('text', usetex = True)"
   ]
  },
  {
   "cell_type": "markdown",
   "id": "a8c0ea47",
   "metadata": {},
   "source": [
    "# Load data"
   ]
  },
  {
   "cell_type": "code",
   "execution_count": 3,
   "id": "d10cdc7e",
   "metadata": {},
   "outputs": [
    {
     "data": {
      "text/plain": [
       "{'zee': {'ds': LztDataset(path=/root/data/lorenzetti/v2.1.0/user.joao.pinto.mc25_13TeV.250401.Pythia8EvtGen_Zee, label=Z->ee),\n",
       "  'color': 'blue',\n",
       "  'label': '$Z \\\\to ee$'},\n",
       " 'jf17': {'ds': LztDataset(path=/root/data/lorenzetti/v2.1.0/user.joao.pinto.mc25_13TeV.250401.Pythia8EvtGen_JF17, label=Jets et > 17GeV),\n",
       "  'color': 'red',\n",
       "  'label': 'Jets w/ $E \\\\geq 17 \\\\: GeV$'}}"
      ]
     },
     "execution_count": 3,
     "metadata": {},
     "output_type": "execute_result"
    }
   ],
   "source": [
    "lzt_data = Path.home() / 'data' / 'lorenzetti'\n",
    "output_dir = lzt_data / 'profiles' / 'boosted-lorenzetti-2025-04-18'\n",
    "output_dir.mkdir(exist_ok=True, parents=True)\n",
    "datasets = {}\n",
    "datasets['zee'] = {\n",
    "    'ds': LztDataset.from_dir(\n",
    "        lzt_data / 'v2.1.0' / 'user.joao.pinto.mc25_13TeV.250401.Pythia8EvtGen_Zee'\n",
    "    ),\n",
    "    'color': 'blue',\n",
    "    'label': '$Z \\\\to ee$',\n",
    "}\n",
    "\n",
    "datasets['jf17'] = {\n",
    "    'ds': LztDataset.from_dir(\n",
    "        lzt_data / 'v2.1.0' / 'user.joao.pinto.mc25_13TeV.250401.Pythia8EvtGen_JF17'\n",
    "    ),\n",
    "    'color': 'red',\n",
    "    'label': 'Jets w/ $E \\\\geq 17 \\\\: GeV$'\n",
    "}\n",
    "\n",
    "datasets"
   ]
  },
  {
   "cell_type": "code",
   "execution_count": 4,
   "id": "3c51e878",
   "metadata": {},
   "outputs": [],
   "source": [
    "def load_data_from_aod(dataset: LztDataset, n_entries: int = -1) -> pd.DataFrame:\n",
    "    rings_info = []\n",
    "    iterator = tqdm(enumerate(dataset.aod_tchain),\n",
    "                    desc='Processing events', unit=' events')\n",
    "    if n_entries < 0:\n",
    "        n_entries = np.inf\n",
    "    for entry, aod_event in iterator:\n",
    "        if entry >= n_entries:\n",
    "            break\n",
    "        event_number = aod_event.EventInfoContainer_Events[0].eventNumber\n",
    "        for iring, rings_data in enumerate(aod_event.CaloRingsContainer_Rings):\n",
    "            if rings_data.cluster_link >= len(aod_event.CaloClusterContainer_Clusters):\n",
    "                logging.warning(f'{entry} - Event {event_number} - '\n",
    "                                f'iring {iring} - Cluster link {rings_data.cluster_link} out of range')\n",
    "                continue\n",
    "            cluster_data = aod_event.CaloClusterContainer_Clusters[rings_data.cluster_link]\n",
    "            record = {\n",
    "                'event_number': event_number,\n",
    "                'rings_size': len(rings_data.rings),\n",
    "                'cl_eta': cluster_data.eta,\n",
    "                'cl_phi': cluster_data.phi,\n",
    "            }\n",
    "            for i, ring in enumerate(rings_data.rings):\n",
    "                record[f'ring_{i}'] = ring\n",
    "            rings_info.append(record)\n",
    "    rings_info = pd.DataFrame.from_dict(rings_info)\n",
    "    return rings_info"
   ]
  },
  {
   "cell_type": "code",
   "execution_count": 5,
   "id": "4fc424cf",
   "metadata": {},
   "outputs": [],
   "source": [
    "def load_data_from_ntuple(dataset: LztDataset, n_entries: int = -1) -> pd.DataFrame:\n",
    "    rings_info = []\n",
    "    iterator = tqdm(enumerate(dataset.ntuple_tchain))\n",
    "    if n_entries < 0:\n",
    "        n_entries = np.inf\n",
    "    for entry, event in iterator:\n",
    "        if entry >= n_entries:\n",
    "            break\n",
    "        record = {\n",
    "            'event_number': event.EventNumber,\n",
    "            'rings_size': len(event.cl_rings),\n",
    "            'cl_eta': event.cl_eta,\n",
    "            'cl_phi': event.cl_phi,\n",
    "        }\n",
    "        for i, ring in enumerate(event.cl_rings):\n",
    "            record[f'ring_{i}'] = ring\n",
    "        rings_info.append(record)\n",
    "    rings_info = pd.DataFrame.from_dict(rings_info)\n",
    "    return rings_info"
   ]
  },
  {
   "cell_type": "code",
   "execution_count": 6,
   "id": "115f9bd6",
   "metadata": {},
   "outputs": [
    {
     "name": "stdout",
     "output_type": "stream",
     "text": [
      "2025-07-18 16:16:00 | INFO | root | 3318279325 | 7 | Loading cached file for zee\n",
      "2025-07-18 16:16:00 | INFO | root | 3318279325 | 7 | Loading cached file for jf17\n"
     ]
    }
   ],
   "source": [
    "data_src = 'aod'\n",
    "rewrite_cache = False\n",
    "n_entries = -1\n",
    "for name, dataset_info in datasets.items():\n",
    "    output_filepath = output_dir / f'rings_info_{name}_{data_src}.parquet.gzip'\n",
    "    if not rewrite_cache and output_filepath.exists():\n",
    "        logging.info(f'Loading cached file for {name}')\n",
    "        rings_info = pd.read_parquet(output_filepath)\n",
    "    else:\n",
    "        logging.info(f'Loading {name}')\n",
    "        if data_src =='aod':\n",
    "            rings_info = load_data_from_aod(dataset_info['ds'], n_entries)\n",
    "        elif data_src == 'ntuple':\n",
    "            rings_info = load_data_from_ntuple(dataset_info['ds'], n_entries)\n",
    "        else:\n",
    "            raise ValueError(f\"Unknown data source: {data_src}\")\n",
    "        logging.info('Writing rings_info to parquet')\n",
    "        rings_info.to_parquet(output_filepath,\n",
    "                              compression='gzip')\n",
    "    datasets[name]['rings_info'] = rings_info"
   ]
  },
  {
   "cell_type": "markdown",
   "id": "be3d60cc",
   "metadata": {},
   "source": [
    "# Check number of vector entries"
   ]
  },
  {
   "cell_type": "code",
   "execution_count": 7,
   "id": "4fdc3b0a",
   "metadata": {},
   "outputs": [
    {
     "data": {
      "image/png": "[encoded data removed]",
      "text/plain": [
       "<Figure size 800x600 with 1 Axes>"
      ]
     },
     "metadata": {},
     "output_type": "display_data"
    }
   ],
   "source": [
    "fig, ax = plt.subplots()\n",
    "max_ring_size = -1\n",
    "bins = np.arange(201)\n",
    "for name, dataset_info in datasets.items():\n",
    "    rings_info = dataset_info['rings_info']\n",
    "    current_max_ring_size = rings_info['rings_size'].max()\n",
    "    if current_max_ring_size > max_ring_size:\n",
    "        max_ring_size = current_max_ring_size\n",
    "    ax.hist(rings_info['rings_size'],\n",
    "            bins=np.arange(current_max_ring_size + 1),\n",
    "            histtype='step',\n",
    "            color=dataset_info['color'],\n",
    "            label=dataset_info['label'])\n",
    "    # ax.grid(linestyle='--', alpha=0.5)\n",
    "    ax.plot([], [], ' ',\n",
    "        label=f'N events: {rings_info[\"event_number\"].nunique()}')\n",
    "    ax.plot([], [], ' ',\n",
    "            label=f'N samples: {len(rings_info)}')\n",
    "    has_100 = rings_info[\"rings_size\"] == 100\n",
    "    ax.plot([], [], ' ',\n",
    "            label=f'Size 100: {has_100.sum()}')\n",
    "    has_18 = rings_info[\"rings_size\"] == 18\n",
    "    ax.plot([], [], ' ',\n",
    "            label=f'Size 18: {has_18.sum()}')\n",
    "    ax.plot([], [], ' ',\n",
    "            label=f'Wrong: {((~has_100) & (~has_18)).sum()}')\n",
    "    ax.plot([], [], ' ',\n",
    "            label=f'No rings: {(rings_info[\"rings_size\"] == 0).sum()}')\n",
    "    # ax.plot([], [], ' ',\n",
    "    #         label=f'Extra: {(rings_info[\"rings_size\"] > N_RINGS).sum()}')\n",
    "    # ax.plot([], [], ' ',\n",
    "    #         label=f'Missing: {(rings_info[\"rings_size\"] < N_RINGS).sum()}')\n",
    "ax.set(\n",
    "    xlabel='Number of rings',\n",
    "    ylabel='Number of samples',\n",
    "    title='Number of rings per event',\n",
    "    xlim=(-10, max_ring_size + 10)\n",
    ")\n",
    "ax.legend(title='\\\\textbf{{\\\\textit{{Lorenzetti}}}} Internal',\n",
    "          alignment='left',\n",
    "          facecolor='white',\n",
    "          ncols=len(datasets),\n",
    "          )\n",
    "fig.tight_layout()\n",
    "# fig.savefig(output_dir / f'number_of_rings_{data_src}.png', dpi=300)"
   ]
  },
  {
   "cell_type": "code",
   "execution_count": null,
   "id": "0f7a3385",
   "metadata": {},
   "outputs": [],
   "source": [
    "fig, axes = plt.subplots(2,1)\n",
    "top_ax, lower_ax = axes\n",
    "top_size = 18\n",
    "lower_size = 100\n",
    "for i, (name, dataset_info) in enumerate(datasets.items()):\n",
    "    rings_info = dataset_info['rings_info']\n",
    "    top_counts, top_bins, _ = top_ax.hist(\n",
    "        rings_info.loc[rings_info['rings_size'] == top_size, 'cl_eta'],\n",
    "        bins=25,\n",
    "        histtype='step',\n",
    "        color=dataset_info['color'],\n",
    "        label=dataset_info['label'])\n",
    "    # ax.grid(linestyle='--', alpha=0.5)\n",
    "    if i == 1:\n",
    "        top_ax.plot([], [], ' ',\n",
    "                label=f'Rings size = {top_size}')\n",
    "    top_ax.set_ylabel('Number of samples', fontsize='small')\n",
    "    top_ax.legend(title='\\\\textbf{{\\\\textit{{Lorenzetti}}}} Internal',\n",
    "                alignment='left',\n",
    "                facecolor='white',\n",
    "                ncols=1,\n",
    "    )\n",
    "    lower_ax.hist(\n",
    "        rings_info.loc[rings_info['rings_size'] == lower_size, 'cl_eta'],\n",
    "        bins=top_bins,\n",
    "        histtype='step',\n",
    "        color=dataset_info['color']\n",
    "    )\n",
    "    if i == 1:\n",
    "        lower_ax.plot([], [], ' ',\n",
    "                label=f'Rings size = {lower_size}')\n",
    "    lower_ax.legend(alignment='left',\n",
    "                facecolor='white',\n",
    "                ncols=1,\n",
    "    )\n",
    "    lower_ax.set(\n",
    "        xlabel='$\\\\eta$',\n",
    "    )\n",
    "fig.suptitle('Number of rings per event')\n",
    "fig.tight_layout()\n",
    "fig.savefig(output_dir / f'number_of_rings_multi_plot_{data_src}.png', dpi=300)"
   ]
  },
  {
   "cell_type": "markdown",
   "id": "3560a9b0",
   "metadata": {},
   "source": [
    "# Check $\\mu \\pm \\sigma$"
   ]
  },
  {
   "cell_type": "markdown",
   "id": "a8e3a824",
   "metadata": {},
   "source": [
    "## Default"
   ]
  },
  {
   "cell_type": "code",
   "execution_count": null,
   "id": "fe172712",
   "metadata": {},
   "outputs": [],
   "source": [
    "normalize=True\n",
    "fig, ax = plt.subplots(figsize=(15, 8))\n",
    "for name, dataset_info in datasets.items():\n",
    "    rings_info = dataset_info['rings_info']\n",
    "    rings_info = rings_info[rings_info['rings_size'] == N_RINGS]\n",
    "    rings_columns = [f'ring_{i}' for i in range(rings_info.shape[-1]-4)]\n",
    "    _ = lplt.plot_rings_profile(\n",
    "        rings_info[rings_columns],\n",
    "        ax=ax,\n",
    "        normalize=normalize,\n",
    "        color=dataset_info['color'],\n",
    "        ax_set_kwargs=dict(\n",
    "            ylabel='Normalized Energy' if normalize else 'Energy [MeV]',\n",
    "        ),\n",
    "        label=dataset_info['label']\n",
    "    )\n",
    "    ax.plot([], [], ' ',\n",
    "        label=f'N events: {rings_info[\"event_number\"].nunique()}')\n",
    "    ax.plot([], [], ' ',\n",
    "            label=f'N samples: {len(rings_info)}')\n",
    "ax.legend(title='\\\\textbf{{\\\\textit{{Lorenzetti}}}} Internal',\n",
    "          alignment='left',\n",
    "          facecolor='white',\n",
    "          ncols=len(datasets),\n",
    "          title_fontproperties=dict(size='large'),\n",
    "          )\n",
    "fig.tight_layout()\n",
    "if normalize:\n",
    "    figname = f'mean_rings_normalized_{data_src}.png'\n",
    "else:\n",
    "    figname = f'mean_rings_{data_src}.png'\n",
    "fig.savefig(output_dir / figname, dpi=300)"
   ]
  },
  {
   "cell_type": "markdown",
   "id": "cde38220",
   "metadata": {},
   "source": [
    "# All Rings"
   ]
  },
  {
   "cell_type": "code",
   "execution_count": null,
   "id": "8f620430",
   "metadata": {},
   "outputs": [],
   "source": [
    "normalize=True\n",
    "fig, ax = plt.subplots(figsize=(15, 8))\n",
    "for i, (name, dataset_info) in enumerate(datasets.items()):\n",
    "    logging.info(f'Plotting rings for {name}')\n",
    "    x = np.arange(N_RINGS)\n",
    "    rings_info = dataset_info['rings_info']\n",
    "    rings_info = rings_info[rings_info['rings_size'] == N_RINGS]\n",
    "    rings_columns = [f'ring_{i}' for i in range(rings_info.shape[-1]-2)]\n",
    "    lplt.plot_all_rings(\n",
    "        rings_info, ax,\n",
    "        normalize=normalize,\n",
    "        plot_kwargs=dict(\n",
    "            color=dataset_info['color'],\n",
    "            label=dataset_info['label'],\n",
    "            alpha=0.01),\n",
    "        add_rings_labels=(i==0))\n",
    "    ax.plot([], [], ' ',\n",
    "        label=f'N events: {rings_info[\"event_number\"].nunique()}')\n",
    "    ax.plot([], [], ' ',\n",
    "            label=f'N samples: {len(rings_info)}')\n",
    "    del rings_info\n",
    "ax.legend(title='\\\\textbf{{\\\\textit{{Lorenzetti}}}} Internal',\n",
    "          alignment='left',\n",
    "          facecolor='white',\n",
    "          ncols=len(datasets),\n",
    "          title_fontproperties=dict(size='large'),\n",
    "          )\n",
    "fig.tight_layout()\n",
    "if normalize:\n",
    "    figname = f'all_rings_normalized_{data_src}_zee.png'\n",
    "else:\n",
    "    figname = f'all_rings_{data_src}.png'\n",
    "fig.savefig(output_dir / figname, dpi=300)"
   ]
  }
 ],
 "metadata": {
  "kernelspec": {
   "display_name": "dev",
   "language": "python",
   "name": "python3"
  },
  "language_info": {
   "codemirror_mode": {
    "name": "ipython",
    "version": 3
   },
   "file_extension": ".py",
   "mimetype": "text/x-python",
   "name": "python",
   "nbconvert_exporter": "python",
   "pygments_lexer": "ipython3",
   "version": "3.11.13"
  }
 },
 "nbformat": 4,
 "nbformat_minor": 5
}
