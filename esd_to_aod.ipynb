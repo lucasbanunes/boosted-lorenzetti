{
 "cells": [
  {
   "cell_type": "code",
   "execution_count": 1,
   "metadata": {},
   "outputs": [
    {
     "name": "stderr",
     "output_type": "stream",
     "text": [
      "Module libc not found.\n"
     ]
    },
    {
     "name": "stdout",
     "output_type": "stream",
     "text": [
      "Welcome to JupyROOT 6.28/02\n",
      "Finished\n"
     ]
    }
   ],
   "source": [
    "# import os\n",
    "# os.environ['PATH'] = '/root/workspaces/lorenzetti/lorenzetti/build/lib:/physics/geant/build:/physics/root/build/bin:/root/.vscode-server/bin/cd4ee3b1c348a13bafd8f9ad8060705f6d4b9cba/bin/remote-cli:/usr/local/sbin:/usr/local/bin:/usr/sbin:/usr/bin:/sbin:/bin:/root/workspaces/lorenzetti/lorenzetti/build:/root/workspaces/lorenzetti/lorenzetti/build/executables:/root/workspaces/lorenzetti/lorenzetti/core/GaugiKernel/scripts:/root/workspaces/lorenzetti/lorenzetti/generator/scripts:/root/workspaces/lorenzetti/lorenzetti/geometry/DetectorATLASModel/scripts:/root/workspaces/lorenzetti/lorenzetti/scripts'\n",
    "# LD_LIBRARY_PATH = [\n",
    "#     '/root/workspaces/lorenzetti/lorenzetti/build/lib',\n",
    "#     '/physics/geant/build/BuildProducts/lib',\n",
    "#     '/physics/root/build/lib'\n",
    "# ]\n",
    "# os.environ['LD_LIBRARY_PATH'] = ':'.join(LD_LIBRARY_PATH)\n",
    "# os.environ['PYTHONPATH'] = '/root/workspaces/lorenzetti/lorenzetti/build/python:/physics/root/build/lib:/physics/root/build/lib:/root/hep:/root/workspaces/lorenzetti/boosted-lorenzetti:/physics/pythia8/lib:/physics/hepmc/build/python/3.8.10'\n",
    "# from pathlib import Path\n",
    "# lzt_repo = Path(os.environ['LZT_REPO'])\n",
    "# lzt_workspace = lzt_repo.parent.resolve()\n",
    "# lzt_build_dir = lzt_repo / 'build'\n",
    "# import ROOT\n",
    "# lzt_lib_dir = lzt_build_dir / 'lib'\n",
    "# for lib_dir in LD_LIBRARY_PATH:\n",
    "#     lib_dir = Path(lib_dir)\n",
    "#     for lib_path in lib_dir.glob('*.so'):\n",
    "#         print(f'Loading {lib_path}')\n",
    "#         ROOT.gInterpreter.Load(str(lib_path))\n",
    "# ROOT.gSystem.Load('/root/workspaces/lorenzetti/lorenzetti/build/lib/liblorenzetti.so')\n",
    "# Library\n",
    "# ROOT.gSystem.Load('liblorenzetti')\n",
    "import ROOT\n",
    "from pathlib import Path\n",
    "from lzt_utils.dataset import LztDataset\n",
    "from lzt_utils import INCLUDE_PATHS, LZT_UTILS_INCLUDE_PATHS\n",
    "import mplhep\n",
    "import matplotlib.pyplot as plt\n",
    "ROOT.EnableImplicitMT(2)\n",
    "plt.style.use(mplhep.style.ROOT)\n",
    "print('Finished')"
   ]
  },
  {
   "cell_type": "code",
   "execution_count": 2,
   "metadata": {},
   "outputs": [
    {
     "name": "stdout",
     "output_type": "stream",
     "text": [
      "Looking for files with extension *.h\n",
      "Loading file /root/workspaces/lorenzetti/boosted-lorenzetti/lzt_utils/include/Lorenzetti/Event.h\n",
      "Loading file /root/workspaces/lorenzetti/boosted-lorenzetti/lzt_utils/include/Lorenzetti/CaloCell.h\n",
      "Loading file /root/workspaces/lorenzetti/boosted-lorenzetti/lzt_utils/include/Lorenzetti/TruthParticle.h\n",
      "Loading file /root/workspaces/lorenzetti/boosted-lorenzetti/lzt_utils/include/Lorenzetti/CaloCluster.h\n",
      "Loading file /root/workspaces/lorenzetti/boosted-lorenzetti/lzt_utils/include/Lorenzetti/CaloDet.h\n",
      "Looking for files with extension *.hxx\n",
      "Looking for files with extension *.hpp\n",
      "Looking for files with extension *.hh\n"
     ]
    },
    {
     "data": {
      "text/plain": [
       "1"
      ]
     },
     "execution_count": 2,
     "metadata": {},
     "output_type": "execute_result"
    }
   ],
   "source": [
    "for path in INCLUDE_PATHS:\n",
    "    ROOT.gInterpreter.AddIncludePath(path)\n",
    "cpp_file_extensions = [\n",
    "    '*.h', '*.hxx', '*.hpp', '*.hh'\n",
    "]\n",
    "boosted_lzt_cpp = Path(LZT_UTILS_INCLUDE_PATHS[0])\n",
    "for file_ext in cpp_file_extensions:\n",
    "    print(f'Looking for files with extension {file_ext}')\n",
    "    for filename in boosted_lzt_cpp.rglob(file_ext):\n",
    "        if 'xAOD'in str(filename):\n",
    "            continue\n",
    "        print(f'Loading file {filename}')\n",
    "        text = filename.read_text()\n",
    "        ROOT.gInterpreter.Declare(text)\n",
    "# for include_dir in INCLUDE_PATHS:\n",
    "#     include_dir = Path(include_dir)\n",
    "#     for file_ext in cpp_file_extensions:\n",
    "#         for filename in include_dir.glob(file_ext):\n",
    "#             print(f'Loading file {filename}')\n",
    "#             text = filename.read_text()\n",
    "#             ROOT.gInterpreter.Declare(text)\n",
    "ROOT.gInterpreter.GenerateDictionary(\"ROOT::VecOps::RVec<xAOD::EventSeed_t>\", \"EventInfo/EventSeedConverter.h\")\n",
    "ROOT.gInterpreter.GenerateDictionary(\"ROOT::VecOps::RVec<xAOD::CaloCell_t>\", \"CaloCell/CaloCellConverter.h\")\n",
    "ROOT.gInterpreter.GenerateDictionary(\"ROOT::VecOps::RVec<xAOD::EventInfo_t>\", \"EventInfo/EventInfoConverter.h\")\n",
    "ROOT.gInterpreter.GenerateDictionary(\"ROOT::VecOps::RVec<xAOD::CaloDetDescriptor_t>\", \"CaloCell/CaloDetDescriptorConverter.h\")\n",
    "ROOT.gInterpreter.GenerateDictionary(\"ROOT::VecOps::RVec<xAOD::TruthParticle_t>\", \"TruthParticle/TruthParticleConverter.h\")"
   ]
  },
  {
   "cell_type": "code",
   "execution_count": 3,
   "metadata": {},
   "outputs": [
    {
     "data": {
      "text/plain": [
       "LztDataset(path=/root/ext_data/lorenzetti/2024_11_19_18_53_0000000000_jets, label=Jets et > 17GeV)"
      ]
     },
     "execution_count": 3,
     "metadata": {},
     "output_type": "execute_result"
    }
   ],
   "source": [
    "lzt_data = Path('/', 'root', 'ext_data', 'lorenzetti')\n",
    "dataset_name = '2024_11_19_18_53_0000000000_jets'\n",
    "dataset_path = lzt_data / dataset_name\n",
    "output_dir = lzt_data / 'checks'\n",
    "output_dir.mkdir(exist_ok=True, parents=True)\n",
    "dataset = LztDataset.from_dir(dataset_path)\n",
    "dataset"
   ]
  },
  {
   "cell_type": "code",
   "execution_count": 4,
   "metadata": {},
   "outputs": [
    {
     "data": {
      "text/plain": [
       "Dataframe from TChain CollectionTree in file /root/ext_data/lorenzetti/2024_11_19_18_53_0000000000_jets/ESD/jf17.ESD.49.root\n",
       "\n",
       "Property                Value\n",
       "--------                -----\n",
       "Columns in total           51\n",
       "Columns from defines        0\n",
       "Event loops run             0\n",
       "Processing slots            2\n",
       "\n",
       "Column                                          Type                                            Origin\n",
       "------                                          ----                                            ------\n",
       "CaloCellContainer_Cells                         ROOT::VecOps::RVec<xAOD::CaloCell_t>            Dataset\n",
       "CaloCellContainer_Cells.descriptor_link         ROOT::VecOps::RVec<Int_t>                       Dataset\n",
       "CaloCellContainer_Cells.deta                    ROOT::VecOps::RVec<Float_t>                     Dataset\n",
       "CaloCellContainer_Cells.dphi                    ROOT::VecOps::RVec<Float_t>                     Dataset\n",
       "CaloCellContainer_Cells.e                       ROOT::VecOps::RVec<Float_t>                     Dataset\n",
       "CaloCellContainer_Cells.et                      ROOT::VecOps::RVec<Float_t>                     Dataset\n",
       "CaloCellContainer_Cells.eta                     ROOT::VecOps::RVec<Float_t>                     Dataset\n",
       "CaloCellContainer_Cells.phi                     ROOT::VecOps::RVec<Float_t>                     Dataset\n",
       "CaloCellContainer_Cells.tau                     ROOT::VecOps::RVec<Float_t>                     Dataset\n",
       "CaloDetDescriptorContainer_Cells                ROOT::VecOps::RVec<xAOD::CaloDetDescriptor_t>   Dataset\n",
       "CaloDetDescriptorContainer_Cells.bc_duration    ROOT::VecOps::RVec<Float_t>                     Dataset\n",
       "CaloDetDescriptorContainer_Cells.bcid_end       ROOT::VecOps::RVec<Int_t>                       Dataset\n",
       "CaloDetDescriptorContainer_Cells.bcid_start     ROOT::VecOps::RVec<Int_t>                       Dataset\n",
       "CaloDetDescriptorContainer_Cells.cell_link      ROOT::VecOps::RVec<Int_t>                       Dataset\n",
       "CaloDetDescriptorContainer_Cells.deta           ROOT::VecOps::RVec<Float_t>                     Dataset\n",
       "CaloDetDescriptorContainer_Cells.detector       ROOT::VecOps::RVec<Int_t>                       Dataset\n",
       "CaloDetDescriptorContainer_Cells.dphi           ROOT::VecOps::RVec<Float_t>                     Dataset\n",
       "CaloDetDescriptorContainer_Cells.e              ROOT::VecOps::RVec<Float_t>                     Dataset\n",
       "CaloDetDescriptorContainer_Cells.edep           ROOT::VecOps::RVec<Float_t>                     Dataset\n",
       "CaloDetDescriptorContainer_Cells.edep_per_bunch ROOT::VecOps::RVec<vector<float>>               Dataset\n",
       "CaloDetDescriptorContainer_Cells.eta            ROOT::VecOps::RVec<Float_t>                     Dataset\n",
       "CaloDetDescriptorContainer_Cells.hash           ROOT::VecOps::RVec<ULong_t>                     Dataset\n",
       "CaloDetDescriptorContainer_Cells.phi            ROOT::VecOps::RVec<Float_t>                     Dataset\n",
       "CaloDetDescriptorContainer_Cells.pulse          ROOT::VecOps::RVec<vector<float>>               Dataset\n",
       "CaloDetDescriptorContainer_Cells.sampling       ROOT::VecOps::RVec<Int_t>                       Dataset\n",
       "CaloDetDescriptorContainer_Cells.tau            ROOT::VecOps::RVec<Float_t>                     Dataset\n",
       "CaloDetDescriptorContainer_Cells.tof            ROOT::VecOps::RVec<vector<float>>               Dataset\n",
       "CaloDetDescriptorContainer_Cells.z              ROOT::VecOps::RVec<Float_t>                     Dataset\n",
       "EventInfoContainer_Events                       ROOT::VecOps::RVec<xAOD::EventInfo_t>           Dataset\n",
       "EventInfoContainer_Events.avgmu                 ROOT::VecOps::RVec<Float_t>                     Dataset\n",
       "EventInfoContainer_Events.eventNumber           ROOT::VecOps::RVec<Float_t>                     Dataset\n",
       "EventInfoContainer_Events.runNumber             ROOT::VecOps::RVec<Float_t>                     Dataset\n",
       "EventSeedContainer_Seeds                        ROOT::VecOps::RVec<xAOD::EventSeed_t>           Dataset\n",
       "EventSeedContainer_Seeds.e                      ROOT::VecOps::RVec<Float_t>                     Dataset\n",
       "EventSeedContainer_Seeds.et                     ROOT::VecOps::RVec<Float_t>                     Dataset\n",
       "EventSeedContainer_Seeds.eta                    ROOT::VecOps::RVec<Float_t>                     Dataset\n",
       "EventSeedContainer_Seeds.id                     ROOT::VecOps::RVec<Int_t>                       Dataset\n",
       "EventSeedContainer_Seeds.phi                    ROOT::VecOps::RVec<Float_t>                     Dataset\n",
       "TruthParticleContainer_Particles                ROOT::VecOps::RVec<xAOD::TruthParticle_t>       Dataset\n",
       "TruthParticleContainer_Particles.e              ROOT::VecOps::RVec<Float_t>                     Dataset\n",
       "TruthParticleContainer_Particles.et             ROOT::VecOps::RVec<Float_t>                     Dataset\n",
       "TruthParticleContainer_Particles.eta            ROOT::VecOps::RVec<Float_t>                     Dataset\n",
       "TruthParticleContainer_Particles.pdgid          ROOT::VecOps::RVec<Int_t>                       Dataset\n",
       "TruthParticleContainer_Particles.phi            ROOT::VecOps::RVec<Float_t>                     Dataset\n",
       "TruthParticleContainer_Particles.px             ROOT::VecOps::RVec<Float_t>                     Dataset\n",
       "TruthParticleContainer_Particles.py             ROOT::VecOps::RVec<Float_t>                     Dataset\n",
       "TruthParticleContainer_Particles.pz             ROOT::VecOps::RVec<Float_t>                     Dataset\n",
       "TruthParticleContainer_Particles.seedid         ROOT::VecOps::RVec<Int_t>                       Dataset\n",
       "TruthParticleContainer_Particles.vx             ROOT::VecOps::RVec<Float_t>                     Dataset\n",
       "TruthParticleContainer_Particles.vy             ROOT::VecOps::RVec<Float_t>                     Dataset\n",
       "TruthParticleContainer_Particles.vz             ROOT::VecOps::RVec<Float_t>                     Dataset"
      ]
     },
     "execution_count": 4,
     "metadata": {},
     "output_type": "execute_result"
    }
   ],
   "source": [
    "esd_rdf = dataset.get_esd_rdf(n_files=1)\n",
    "esd_rdf.Describe()"
   ]
  },
  {
   "cell_type": "code",
   "execution_count": 5,
   "metadata": {},
   "outputs": [
    {
     "data": {
      "text/plain": [
       "Dataframe from TChain CollectionTree in file /root/ext_data/lorenzetti/2024_11_19_18_53_0000000000_jets/ESD/jf17.ESD.49.root\n",
       "\n",
       "Property                Value\n",
       "--------                -----\n",
       "Columns in total           51\n",
       "Columns from defines        0\n",
       "Event loops run             0\n",
       "Processing slots            2\n",
       "\n",
       "Column                                          Type                                            Origin\n",
       "------                                          ----                                            ------\n",
       "CaloCellContainer_Cells                         ROOT::VecOps::RVec<xAOD::CaloCell_t>            Dataset\n",
       "CaloCellContainer_Cells.descriptor_link         ROOT::VecOps::RVec<Int_t>                       Dataset\n",
       "CaloCellContainer_Cells.deta                    ROOT::VecOps::RVec<Float_t>                     Dataset\n",
       "CaloCellContainer_Cells.dphi                    ROOT::VecOps::RVec<Float_t>                     Dataset\n",
       "CaloCellContainer_Cells.e                       ROOT::VecOps::RVec<Float_t>                     Dataset\n",
       "CaloCellContainer_Cells.et                      ROOT::VecOps::RVec<Float_t>                     Dataset\n",
       "CaloCellContainer_Cells.eta                     ROOT::VecOps::RVec<Float_t>                     Dataset\n",
       "CaloCellContainer_Cells.phi                     ROOT::VecOps::RVec<Float_t>                     Dataset\n",
       "CaloCellContainer_Cells.tau                     ROOT::VecOps::RVec<Float_t>                     Dataset\n",
       "CaloDetDescriptorContainer_Cells                ROOT::VecOps::RVec<xAOD::CaloDetDescriptor_t>   Dataset\n",
       "CaloDetDescriptorContainer_Cells.bc_duration    ROOT::VecOps::RVec<Float_t>                     Dataset\n",
       "CaloDetDescriptorContainer_Cells.bcid_end       ROOT::VecOps::RVec<Int_t>                       Dataset\n",
       "CaloDetDescriptorContainer_Cells.bcid_start     ROOT::VecOps::RVec<Int_t>                       Dataset\n",
       "CaloDetDescriptorContainer_Cells.cell_link      ROOT::VecOps::RVec<Int_t>                       Dataset\n",
       "CaloDetDescriptorContainer_Cells.deta           ROOT::VecOps::RVec<Float_t>                     Dataset\n",
       "CaloDetDescriptorContainer_Cells.detector       ROOT::VecOps::RVec<Int_t>                       Dataset\n",
       "CaloDetDescriptorContainer_Cells.dphi           ROOT::VecOps::RVec<Float_t>                     Dataset\n",
       "CaloDetDescriptorContainer_Cells.e              ROOT::VecOps::RVec<Float_t>                     Dataset\n",
       "CaloDetDescriptorContainer_Cells.edep           ROOT::VecOps::RVec<Float_t>                     Dataset\n",
       "CaloDetDescriptorContainer_Cells.edep_per_bunch ROOT::VecOps::RVec<vector<float>>               Dataset\n",
       "CaloDetDescriptorContainer_Cells.eta            ROOT::VecOps::RVec<Float_t>                     Dataset\n",
       "CaloDetDescriptorContainer_Cells.hash           ROOT::VecOps::RVec<ULong_t>                     Dataset\n",
       "CaloDetDescriptorContainer_Cells.phi            ROOT::VecOps::RVec<Float_t>                     Dataset\n",
       "CaloDetDescriptorContainer_Cells.pulse          ROOT::VecOps::RVec<vector<float>>               Dataset\n",
       "CaloDetDescriptorContainer_Cells.sampling       ROOT::VecOps::RVec<Int_t>                       Dataset\n",
       "CaloDetDescriptorContainer_Cells.tau            ROOT::VecOps::RVec<Float_t>                     Dataset\n",
       "CaloDetDescriptorContainer_Cells.tof            ROOT::VecOps::RVec<vector<float>>               Dataset\n",
       "CaloDetDescriptorContainer_Cells.z              ROOT::VecOps::RVec<Float_t>                     Dataset\n",
       "EventInfoContainer_Events                       ROOT::VecOps::RVec<xAOD::EventInfo_t>           Dataset\n",
       "EventInfoContainer_Events.avgmu                 ROOT::VecOps::RVec<Float_t>                     Dataset\n",
       "EventInfoContainer_Events.eventNumber           ROOT::VecOps::RVec<Float_t>                     Dataset\n",
       "EventInfoContainer_Events.runNumber             ROOT::VecOps::RVec<Float_t>                     Dataset\n",
       "EventSeedContainer_Seeds                        ROOT::VecOps::RVec<xAOD::EventSeed_t>           Dataset\n",
       "EventSeedContainer_Seeds.e                      ROOT::VecOps::RVec<Float_t>                     Dataset\n",
       "EventSeedContainer_Seeds.et                     ROOT::VecOps::RVec<Float_t>                     Dataset\n",
       "EventSeedContainer_Seeds.eta                    ROOT::VecOps::RVec<Float_t>                     Dataset\n",
       "EventSeedContainer_Seeds.id                     ROOT::VecOps::RVec<Int_t>                       Dataset\n",
       "EventSeedContainer_Seeds.phi                    ROOT::VecOps::RVec<Float_t>                     Dataset\n",
       "TruthParticleContainer_Particles                ROOT::VecOps::RVec<xAOD::TruthParticle_t>       Dataset\n",
       "TruthParticleContainer_Particles.e              ROOT::VecOps::RVec<Float_t>                     Dataset\n",
       "TruthParticleContainer_Particles.et             ROOT::VecOps::RVec<Float_t>                     Dataset\n",
       "TruthParticleContainer_Particles.eta            ROOT::VecOps::RVec<Float_t>                     Dataset\n",
       "TruthParticleContainer_Particles.pdgid          ROOT::VecOps::RVec<Int_t>                       Dataset\n",
       "TruthParticleContainer_Particles.phi            ROOT::VecOps::RVec<Float_t>                     Dataset\n",
       "TruthParticleContainer_Particles.px             ROOT::VecOps::RVec<Float_t>                     Dataset\n",
       "TruthParticleContainer_Particles.py             ROOT::VecOps::RVec<Float_t>                     Dataset\n",
       "TruthParticleContainer_Particles.pz             ROOT::VecOps::RVec<Float_t>                     Dataset\n",
       "TruthParticleContainer_Particles.seedid         ROOT::VecOps::RVec<Int_t>                       Dataset\n",
       "TruthParticleContainer_Particles.vx             ROOT::VecOps::RVec<Float_t>                     Dataset\n",
       "TruthParticleContainer_Particles.vy             ROOT::VecOps::RVec<Float_t>                     Dataset\n",
       "TruthParticleContainer_Particles.vz             ROOT::VecOps::RVec<Float_t>                     Dataset"
      ]
     },
     "execution_count": 5,
     "metadata": {},
     "output_type": "execute_result"
    }
   ],
   "source": [
    "esd_rdf.Define('CaloCluster_Clusters', \"Lorenzetti::makeCaloCluster(EventSeedContainer_Seeds, CaloCellContainer_Cells)\")\n",
    "esd_rdf.Describe()"
   ]
  },
  {
   "cell_type": "code",
   "execution_count": 6,
   "metadata": {},
   "outputs": [
    {
     "ename": "TypeError",
     "evalue": "Template method resolution failed:\n  none of the 3 overloaded methods succeeded. Full details:\n  ROOT::RDF::RResultPtr<ROOT::RDF::RInterface<ROOT::Detail::RDF::RLoopManager,void> > ROOT::RDF::RInterface<ROOT::Detail::RDF::RLoopManager,void>::Snapshot(experimental::basic_string_view<char,char_traits<char> > treename, experimental::basic_string_view<char,char_traits<char> > filename, initializer_list<string> columnList, const ROOT::RDF::RSnapshotOptions& options = ROOT::RDF::RSnapshotOptions()) =>\n    TypeError: takes at least 3 arguments (2 given)\n  ROOT::RDF::RResultPtr<ROOT::RDF::RInterface<ROOT::Detail::RDF::RLoopManager,void> > ROOT::RDF::RInterface<ROOT::Detail::RDF::RLoopManager,void>::Snapshot(experimental::basic_string_view<char,char_traits<char> > treename, experimental::basic_string_view<char,char_traits<char> > filename, const vector<string>& columnList, const ROOT::RDF::RSnapshotOptions& options = ROOT::RDF::RSnapshotOptions()) =>\n    TypeError: takes at least 3 arguments (2 given)\n  ROOT::RDF::RResultPtr<ROOT::RDF::RInterface<ROOT::Detail::RDF::RLoopManager,void> > ROOT::RDF::RInterface<ROOT::Detail::RDF::RLoopManager,void>::Snapshot(experimental::basic_string_view<char,char_traits<char> > treename, experimental::basic_string_view<char,char_traits<char> > filename, experimental::basic_string_view<char,char_traits<char> > columnNameRegexp = \"\", const ROOT::RDF::RSnapshotOptions& options = ROOT::RDF::RSnapshotOptions()) =>\n    logic_error: Trying to insert a null branch address.\n  ROOT::RDF::RResultPtr<ROOT::RDF::RInterface<ROOT::Detail::RDF::RLoopManager,void> > ROOT::RDF::RInterface<ROOT::Detail::RDF::RLoopManager,void>::Snapshot(experimental::basic_string_view<char,char_traits<char> > treename, experimental::basic_string_view<char,char_traits<char> > filename, experimental::basic_string_view<char,char_traits<char> > columnNameRegexp = \"\", const ROOT::RDF::RSnapshotOptions& options = ROOT::RDF::RSnapshotOptions()) =>\n    logic_error: Trying to insert a null branch address.",
     "output_type": "error",
     "traceback": [
      "\u001b[0;31m---------------------------------------------------------------------------\u001b[0m",
      "\u001b[0;31mTypeError\u001b[0m                                 Traceback (most recent call last)",
      "Cell \u001b[0;32mIn[6], line 3\u001b[0m\n\u001b[1;32m      1\u001b[0m \u001b[38;5;66;03m# options = ROOT.RDF.RSnapshotOptions()\u001b[39;00m\n\u001b[1;32m      2\u001b[0m \u001b[38;5;66;03m# options.fCompressionLevel = 9\u001b[39;00m\n\u001b[0;32m----> 3\u001b[0m \u001b[43mesd_rdf\u001b[49m\u001b[38;5;241;43m.\u001b[39;49m\u001b[43mSnapshot\u001b[49m\u001b[43m(\u001b[49m\u001b[38;5;124;43m\"\u001b[39;49m\u001b[38;5;124;43mCollectionTree\u001b[39;49m\u001b[38;5;124;43m\"\u001b[39;49m\u001b[43m,\u001b[49m\n\u001b[1;32m      4\u001b[0m \u001b[43m                 \u001b[49m\u001b[38;5;124;43m\"\u001b[39;49m\u001b[38;5;124;43mesd_to_aod.root\u001b[39;49m\u001b[38;5;124;43m\"\u001b[39;49m\u001b[43m)\u001b[49m\n",
      "\u001b[0;31mTypeError\u001b[0m: Template method resolution failed:\n  none of the 3 overloaded methods succeeded. Full details:\n  ROOT::RDF::RResultPtr<ROOT::RDF::RInterface<ROOT::Detail::RDF::RLoopManager,void> > ROOT::RDF::RInterface<ROOT::Detail::RDF::RLoopManager,void>::Snapshot(experimental::basic_string_view<char,char_traits<char> > treename, experimental::basic_string_view<char,char_traits<char> > filename, initializer_list<string> columnList, const ROOT::RDF::RSnapshotOptions& options = ROOT::RDF::RSnapshotOptions()) =>\n    TypeError: takes at least 3 arguments (2 given)\n  ROOT::RDF::RResultPtr<ROOT::RDF::RInterface<ROOT::Detail::RDF::RLoopManager,void> > ROOT::RDF::RInterface<ROOT::Detail::RDF::RLoopManager,void>::Snapshot(experimental::basic_string_view<char,char_traits<char> > treename, experimental::basic_string_view<char,char_traits<char> > filename, const vector<string>& columnList, const ROOT::RDF::RSnapshotOptions& options = ROOT::RDF::RSnapshotOptions()) =>\n    TypeError: takes at least 3 arguments (2 given)\n  ROOT::RDF::RResultPtr<ROOT::RDF::RInterface<ROOT::Detail::RDF::RLoopManager,void> > ROOT::RDF::RInterface<ROOT::Detail::RDF::RLoopManager,void>::Snapshot(experimental::basic_string_view<char,char_traits<char> > treename, experimental::basic_string_view<char,char_traits<char> > filename, experimental::basic_string_view<char,char_traits<char> > columnNameRegexp = \"\", const ROOT::RDF::RSnapshotOptions& options = ROOT::RDF::RSnapshotOptions()) =>\n    logic_error: Trying to insert a null branch address.\n  ROOT::RDF::RResultPtr<ROOT::RDF::RInterface<ROOT::Detail::RDF::RLoopManager,void> > ROOT::RDF::RInterface<ROOT::Detail::RDF::RLoopManager,void>::Snapshot(experimental::basic_string_view<char,char_traits<char> > treename, experimental::basic_string_view<char,char_traits<char> > filename, experimental::basic_string_view<char,char_traits<char> > columnNameRegexp = \"\", const ROOT::RDF::RSnapshotOptions& options = ROOT::RDF::RSnapshotOptions()) =>\n    logic_error: Trying to insert a null branch address."
     ]
    },
    {
     "name": "stderr",
     "output_type": "stream",
     "text": [
      "Error in <TTree::Branch>: The class requested (ROOT::VecOps::RVec<xAOD::EventInfo_t>) for the branch \"EventInfoContainer_Events\" is an instance of an stl collection and does not have a compiled CollectionProxy. Please generate the dictionary for this collection (ROOT::VecOps::RVec<xAOD::EventInfo_t>) to avoid to write corrupted data.\n",
      "RDataFrame::Run: event loop was interrupted\n",
      "Error in <TTree::Branch>: The class requested (ROOT::VecOps::RVec<xAOD::EventInfo_t>) for the branch \"EventInfoContainer_Events\" is an instance of an stl collection and does not have a compiled CollectionProxy. Please generate the dictionary for this collection (ROOT::VecOps::RVec<xAOD::EventInfo_t>) to avoid to write corrupted data.\n",
      "RDataFrame::Run: event loop was interrupted\n",
      "Error in <TTree::Branch>: The class requested (ROOT::VecOps::RVec<xAOD::EventInfo_t>) for the branch \"EventInfoContainer_Events\" is an instance of an stl collection and does not have a compiled CollectionProxy. Please generate the dictionary for this collection (ROOT::VecOps::RVec<xAOD::EventInfo_t>) to avoid to write corrupted data.\n",
      "RDataFrame::Run: event loop was interrupted\n",
      "Error in <TTree::Branch>: The class requested (ROOT::VecOps::RVec<xAOD::EventInfo_t>) for the branch \"EventInfoContainer_Events\" is an instance of an stl collection and does not have a compiled CollectionProxy. Please generate the dictionary for this collection (ROOT::VecOps::RVec<xAOD::EventInfo_t>) to avoid to write corrupted data.\n",
      "RDataFrame::Run: event loop was interrupted\n"
     ]
    }
   ],
   "source": [
    "# options = ROOT.RDF.RSnapshotOptions()\n",
    "# options.fCompressionLevel = 9\n",
    "esd_rdf.Snapshot(\"CollectionTree\",\n",
    "                 \"esd_to_aod.root\")"
   ]
  }
 ],
 "metadata": {
  "kernelspec": {
   "display_name": "Python 3",
   "language": "python",
   "name": "python3"
  },
  "language_info": {
   "codemirror_mode": {
    "name": "ipython",
    "version": 3
   },
   "file_extension": ".py",
   "mimetype": "text/x-python",
   "name": "python",
   "nbconvert_exporter": "python",
   "pygments_lexer": "ipython3",
   "version": "3.8.10"
  }
 },
 "nbformat": 4,
 "nbformat_minor": 2
}
