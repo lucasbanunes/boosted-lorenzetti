{
 "cells": [
  {
   "cell_type": "code",
   "execution_count": null,
   "metadata": {},
   "outputs": [
    {
     "name": "stderr",
     "output_type": "stream",
     "text": [
      "Module libc not found.\n"
     ]
    },
    {
     "name": "stdout",
     "output_type": "stream",
     "text": [
      "Welcome to JupyROOT 6.28/02\n"
     ]
    }
   ],
   "source": [
    "from lzt_utils.dataset import LztDataset\n",
    "import mplhep\n",
    "import matplotlib.pyplot as plt\n",
    "import os\n",
    "from pathlib import Path\n",
    "import ROOT\n",
    "import json\n",
    "ROOT.EnableImplicitMT()\n",
    "plt.style.use(mplhep.style.ROOT)"
   ]
  },
  {
   "cell_type": "code",
   "execution_count": 2,
   "metadata": {},
   "outputs": [
    {
     "data": {
      "text/plain": [
       "LztDataset(path=/root/ext_data/lorenzetti/2024_11_19_18_53_0000000000_jets, label=Jets et > 17GeV)"
      ]
     },
     "execution_count": 2,
     "metadata": {},
     "output_type": "execute_result"
    }
   ],
   "source": [
    "lzt_data = Path('/', 'root', 'ext_data', 'lorenzetti')\n",
    "dataset_name = '2024_11_19_18_53_0000000000_jets'\n",
    "dataset_path = lzt_data / dataset_name\n",
    "output_dir = lzt_data / 'checks'\n",
    "output_dir.mkdir(exist_ok=True, parents=True)\n",
    "dataset = LztDataset.from_dir(dataset_path)\n",
    "dataset"
   ]
  },
  {
   "cell_type": "code",
   "execution_count": 3,
   "metadata": {},
   "outputs": [
    {
     "name": "stderr",
     "output_type": "stream",
     "text": [
      "Warning in <TClass::Init>: no dictionary for class xAOD::EventInfo_t is available\n",
      "Warning in <TClass::Init>: no dictionary for class xAOD::EventSeed_t is available\n",
      "Warning in <TClass::Init>: no dictionary for class xAOD::TruthParticle_t is available\n",
      "Warning in <TClass::Init>: no dictionary for class xAOD::CaloHit_t is available\n",
      "Warning in <TClass::Init>: no dictionary for class xAOD::CaloCell_t is available\n",
      "Warning in <TClass::Init>: no dictionary for class xAOD::CaloDetDescriptor_t is available\n"
     ]
    }
   ],
   "source": [
    "check_dict = {}\n",
    "check_dict['hit_event_counter'] = dataset.hit_event_counter\n",
    "check_dict['esd_event_counter'] = dataset.esd_event_counter\n",
    "output_filename = output_dir / f'{dataset_name}.json'\n",
    "with open(output_filename, 'w') as f:\n",
    "    json.dump(check_dict, f, indent=4)"
   ]
  }
 ],
 "metadata": {
  "kernelspec": {
   "display_name": "Python 3",
   "language": "python",
   "name": "python3"
  },
  "language_info": {
   "codemirror_mode": {
    "name": "ipython",
    "version": 3
   },
   "file_extension": ".py",
   "mimetype": "text/x-python",
   "name": "python",
   "nbconvert_exporter": "python",
   "pygments_lexer": "ipython3",
   "version": "3.8.10"
  }
 },
 "nbformat": 4,
 "nbformat_minor": 2
}
