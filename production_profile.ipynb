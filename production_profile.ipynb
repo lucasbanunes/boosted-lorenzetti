{
 "cells": [
  {
   "cell_type": "code",
   "execution_count": null,
   "metadata": {},
   "outputs": [
    {
     "name": "stderr",
     "output_type": "stream",
     "text": [
      "Module libc not found.\n"
     ]
    }
   ],
   "source": [
    "import matplotlib.pyplot as plt\n",
    "from lzt_utils.dataset import LztDataset\n",
    "from lzt_utils.utils import set_logger\n",
    "import lzt_utils.plotting.pyplot as lplt\n",
    "import mplhep\n",
    "import matplotlib.pyplot as plt\n",
    "import matplotlib as mpl\n",
    "from pathlib import Path\n",
    "import ROOT\n",
    "import numpy as np\n",
    "import logging"
   ]
  },
  {
   "cell_type": "code",
   "execution_count": null,
   "metadata": {},
   "outputs": [],
   "source": [
    "ROOT.EnableImplicitMT()\n",
    "plt.style.use(mplhep.style.ATLAS)\n",
    "set_logger()\n",
    "mpl.rc('text', usetex = True)"
   ]
  },
  {
   "cell_type": "code",
   "execution_count": 2,
   "metadata": {},
   "outputs": [
    {
     "data": {
      "text/plain": [
       "LztDataset(path=/root/ext_data/lorenzetti/v2.1.0/user.joao.pinto.mc25_13TeV.250401.Pythia8EvtGen_Zee, label=Z->ee)"
      ]
     },
     "execution_count": 2,
     "metadata": {},
     "output_type": "execute_result"
    }
   ],
   "source": [
    "lzt_data = Path.home() / 'ext_data' / 'lorenzetti' / 'v2.1.0'\n",
    "dataset_name = 'user.joao.pinto.mc25_13TeV.250401.Pythia8EvtGen_Zee'\n",
    "dataset_path = lzt_data / dataset_name\n",
    "output_dir = dataset_path / 'profile'\n",
    "output_dir.mkdir(exist_ok=True, parents=True)\n",
    "dataset = LztDataset.from_dir(dataset_path)\n",
    "dataset"
   ]
  },
  {
   "cell_type": "code",
   "execution_count": null,
   "metadata": {},
   "outputs": [
    {
     "data": {
      "text/plain": [
       "{'hit_event_counter': {'Event': 10000, 'Completed': 10000, 'Timeout': 0},\n",
       " 'esd_event_counter': {'Event': 0, 'Completed': 10000}}"
      ]
     },
     "execution_count": 3,
     "metadata": {},
     "output_type": "execute_result"
    },
    {
     "name": "stderr",
     "output_type": "stream",
     "text": [
      "Warning in <TClass::Init>: no dictionary for class xAOD::Seed_t is available\n",
      "Warning in <TClass::Init>: no dictionary for class xAOD::CaloHit_t is available\n"
     ]
    }
   ],
   "source": [
    "check_dict = {}\n",
    "check_dict['hit_event_counter'] = dataset.hit_event_counter.copy()\n",
    "check_dict['esd_event_counter'] = dataset.esd_event_counter.copy()\n",
    "check_dict"
   ]
  },
  {
   "cell_type": "code",
   "execution_count": null,
   "metadata": {},
   "outputs": [],
   "source": [
    "fig, ax = plt.subplots()\n",
    "ax.grid(alpha=.3, linestyle='--', color='k')\n",
    "n_events = check_dict['hit_event_counter'].pop('Event')\n",
    "x_hit = np.sort(check_dict['hit_event_counter'].keys())\n",
    "y_hit = np.array([check_dict['hit_event_counter'][x] for x in x_hit])\n",
    "ax.bar(x_hit, y_hit, label=f'Total events: {n_events}', fill=False)\n",
    "ax.set(\n",
    "    title='HIT Event Production Count',\n",
    "    ylabel='Count',\n",
    "    xlabel='Status'\n",
    ")"
   ]
  },
  {
   "cell_type": "code",
   "execution_count": null,
   "metadata": {},
   "outputs": [],
   "source": [
    "fig, ax = plt.subplots()\n",
    "ax.grid(alpha=.3, linestyle='--', color='k')\n",
    "x_hit = np.sort(check_dict['esd_event_counter'].keys())\n",
    "y_hit = np.array([check_dict['esd_event_counter'][x] for x in x_hit])\n",
    "n_events = y_hit.sum()\n",
    "ax.bar(x_hit, y_hit, label=f'Total events: {n_events}', fill=False)\n",
    "ax.set(\n",
    "    title='ESD Event Production Count',\n",
    "    ylabel='Count',\n",
    "    xlabel='Status'\n",
    ")"
   ]
  }
 ],
 "metadata": {
  "kernelspec": {
   "display_name": "lorenzetti-python",
   "language": "python",
   "name": "python3"
  },
  "language_info": {
   "codemirror_mode": {
    "name": "ipython",
    "version": 3
   },
   "file_extension": ".py",
   "mimetype": "text/x-python",
   "name": "python",
   "nbconvert_exporter": "python",
   "pygments_lexer": "ipython3",
   "version": "3.10.12"
  }
 },
 "nbformat": 4,
 "nbformat_minor": 2
}
